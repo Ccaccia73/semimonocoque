{
 "cells": [
  {
   "cell_type": "markdown",
   "metadata": {},
   "source": [
    "# Semi-Monocoque Theory"
   ]
  },
  {
   "cell_type": "code",
   "execution_count": 1,
   "metadata": {
    "collapsed": false
   },
   "outputs": [],
   "source": [
    "from pint import UnitRegistry\n",
    "import sympy\n",
    "import networkx as nx\n",
    "#import numpy as np\n",
    "import matplotlib.pyplot as plt\n",
    "#import sys\n",
    "%matplotlib inline\n",
    "#from IPython.display import display"
   ]
  },
  {
   "cell_type": "markdown",
   "metadata": {},
   "source": [
    "Import **Section** class, which contains all calculations"
   ]
  },
  {
   "cell_type": "code",
   "execution_count": 2,
   "metadata": {
    "collapsed": false
   },
   "outputs": [],
   "source": [
    "from Section import Section"
   ]
  },
  {
   "cell_type": "markdown",
   "metadata": {},
   "source": [
    "Initialization of **sympy** symbolic tool and **pint** for dimension analysis (not really implemented rn as not directly compatible with sympy)"
   ]
  },
  {
   "cell_type": "code",
   "execution_count": 3,
   "metadata": {
    "collapsed": false
   },
   "outputs": [],
   "source": [
    "ureg = UnitRegistry()\n",
    "sympy.init_printing()"
   ]
  },
  {
   "cell_type": "markdown",
   "metadata": {},
   "source": [
    "Define **sympy** parameters used for geometric description of sections"
   ]
  },
  {
   "cell_type": "code",
   "execution_count": 4,
   "metadata": {
    "collapsed": false
   },
   "outputs": [],
   "source": [
    "A, A0, t, t0, a, b, h, L = sympy.symbols('A A_0 t t_0 a b h L', positive=True)"
   ]
  },
  {
   "cell_type": "markdown",
   "metadata": {},
   "source": [
    "We also define numerical values for each **symbol** in order to plot scaled section and perform calculations"
   ]
  },
  {
   "cell_type": "code",
   "execution_count": 5,
   "metadata": {
    "collapsed": false
   },
   "outputs": [],
   "source": [
    "values = [(A, 150 * ureg.millimeter**2),(A0, 250  * ureg.millimeter**2),(a, 80 * ureg.millimeter), \\\n",
    "          (b, 20 * ureg.millimeter),(h, 35 * ureg.millimeter),(L, 2000 * ureg.millimeter)]\n",
    "datav = [(v[0],v[1].magnitude) for v in values]"
   ]
  },
  {
   "cell_type": "markdown",
   "metadata": {
    "collapsed": false
   },
   "source": [
    "# First example: Closed section"
   ]
  },
  {
   "cell_type": "markdown",
   "metadata": {},
   "source": [
    "Define graph describing the section:\n",
    "\n",
    "1) **stringers** are **nodes** with parameters:\n",
    "- **x** coordinate\n",
    "- **y** coordinate\n",
    "- **Area**\n",
    "\n",
    "2) **panels** are **oriented edges** with parameters:\n",
    "- **thickness**\n",
    "- **lenght** which is automatically calculated"
   ]
  },
  {
   "cell_type": "code",
   "execution_count": 6,
   "metadata": {
    "collapsed": true
   },
   "outputs": [],
   "source": [
    "stringers = {1:[(sympy.Integer(0),h),A],\n",
    "             2:[(a/2,h),A],\n",
    "             3:[(a,h),A],\n",
    "             4:[(a-b,sympy.Integer(0)),A],\n",
    "             5:[(b,sympy.Integer(0)),A]}\n",
    "\n",
    "panels = {(1,2):t,\n",
    "          (2,3):t,\n",
    "          (3,4):t,\n",
    "          (4,5):t,\n",
    "          (5,1):t}"
   ]
  },
  {
   "cell_type": "markdown",
   "metadata": {},
   "source": [
    "Define section and perform first calculations"
   ]
  },
  {
   "cell_type": "code",
   "execution_count": 7,
   "metadata": {
    "collapsed": false
   },
   "outputs": [],
   "source": [
    "S1 = Section(stringers, panels)"
   ]
  },
  {
   "cell_type": "markdown",
   "metadata": {},
   "source": [
    "## Verify that we find a simply closed section"
   ]
  },
  {
   "cell_type": "code",
   "execution_count": 8,
   "metadata": {
    "collapsed": false
   },
   "outputs": [
    {
     "data": {
      "image/png": "[encoded data removed]",
      "text/latex": [
       "$$\\left [ \\left [ 2, \\quad 3, \\quad 4, \\quad 5, \\quad 1, \\quad 2\\right ]\\right ]$$"
      ],
      "text/plain": [
       "[[2, 3, 4, 5, 1, 2]]"
      ]
     },
     "execution_count": 8,
     "metadata": {},
     "output_type": "execute_result"
    }
   ],
   "source": [
    "S1.cycles"
   ]
  },
  {
   "cell_type": "markdown",
   "metadata": {
    "collapsed": false
   },
   "source": [
    "## Plot of **S1** section in original reference frame"
   ]
  },
  {
   "cell_type": "markdown",
   "metadata": {},
   "source": [
    "Define a dictionary of coordinates used by **Networkx** to plot section as a Directed graph.\n",
    "Note that arrows are actually just thicker stubs"
   ]
  },
  {
   "cell_type": "code",
   "execution_count": 9,
   "metadata": {
    "collapsed": true
   },
   "outputs": [],
   "source": [
    "start_pos={ii: [float(S1.g.node[ii]['ip'][i].subs(datav)) for i in range(2)] for ii in S1.g.nodes() }"
   ]
  },
  {
   "cell_type": "code",
   "execution_count": 10,
   "metadata": {
    "collapsed": false
   },
   "outputs": [
    {
     "data": {
      "image/png": "[encoded data removed]",
      "text/plain": [
       "<matplotlib.figure.Figure at 0x7f6f1ad497f0>"
      ]
     },
     "metadata": {},
     "output_type": "display_data"
    }
   ],
   "source": [
    "plt.figure(figsize=(12,8),dpi=300)\n",
    "nx.draw(S1.g,with_labels=True, arrows= True, pos=start_pos)\n",
    "plt.arrow(0,0,20,0)\n",
    "plt.arrow(0,0,0,20)\n",
    "#plt.text(0,0, 'CG', fontsize=24)\n",
    "plt.axis('equal')\n",
    "plt.title(\"Section in starting reference Frame\",fontsize=16);"
   ]
  },
  {
   "cell_type": "markdown",
   "metadata": {},
   "source": [
    "Expression of **Inertial properties** wrt Center of Gravity in with original rotation"
   ]
  },
  {
   "cell_type": "code",
   "execution_count": 11,
   "metadata": {
    "collapsed": false
   },
   "outputs": [
    {
     "data": {
      "image/png": "[encoded data removed]",
      "text/latex": [
       "$$\\left ( \\frac{6 A}{5} h^{2}, \\quad A \\left(a^{2} - 2 a b + 2 b^{2}\\right), \\quad 0, \\quad 0\\right )$$"
      ],
      "text/plain": [
       "⎛     2                             ⎞\n",
       "⎜6⋅A⋅h     ⎛ 2              2⎞      ⎟\n",
       "⎜──────, A⋅⎝a  - 2⋅a⋅b + 2⋅b ⎠, 0, 0⎟\n",
       "⎝  5                                ⎠"
      ]
     },
     "execution_count": 11,
     "metadata": {},
     "output_type": "execute_result"
    }
   ],
   "source": [
    "S1.Ixx0, S1.Iyy0, S1.Ixy0, S1.α0"
   ]
  },
  {
   "cell_type": "markdown",
   "metadata": {},
   "source": [
    "## Plot of **S1** section in inertial reference Frame"
   ]
  },
  {
   "cell_type": "markdown",
   "metadata": {},
   "source": [
    "Section is plotted wrt **center of gravity** and rotated (if necessary) so that *x* and *y* are principal axes.\n",
    "**Center of Gravity** and **Shear Center** are drawn"
   ]
  },
  {
   "cell_type": "code",
   "execution_count": 12,
   "metadata": {
    "collapsed": true
   },
   "outputs": [],
   "source": [
    "positions={ii: [float(S1.g.node[ii]['pos'][i].subs(datav)) for i in range(2)] for ii in S1.g.nodes() }"
   ]
  },
  {
   "cell_type": "code",
   "execution_count": 13,
   "metadata": {
    "collapsed": false
   },
   "outputs": [
    {
     "data": {
      "image/png": "[encoded data removed]",
      "text/plain": [
       "<matplotlib.figure.Figure at 0x7f6f40d007f0>"
      ]
     },
     "metadata": {},
     "output_type": "display_data"
    }
   ],
   "source": [
    "x_ct, y_ct = S1.ct.subs(datav)\n",
    "\n",
    "plt.figure(figsize=(12,8),dpi=300)\n",
    "nx.draw(S1.g,with_labels=True, pos=positions)\n",
    "plt.plot([0],[0],'o',ms=12,label='CG')\n",
    "plt.plot([x_ct],[y_ct],'^',ms=12, label='SC')\n",
    "#plt.text(0,0, 'CG', fontsize=24)\n",
    "#plt.text(x_ct,y_ct, 'SC', fontsize=24)\n",
    "plt.legend(loc='lower right', shadow=True)\n",
    "plt.axis('equal')\n",
    "plt.title(\"Section in pricipal reference Frame\",fontsize=16);"
   ]
  },
  {
   "cell_type": "markdown",
   "metadata": {},
   "source": [
    "Expression of **inertial properties** in *principal reference frame*"
   ]
  },
  {
   "cell_type": "code",
   "execution_count": 14,
   "metadata": {
    "collapsed": false
   },
   "outputs": [
    {
     "data": {
      "image/png": "[encoded data removed]",
      "text/latex": [
       "$$\\left ( \\frac{6 A}{5} h^{2}, \\quad A \\left(a^{2} - 2 a b + 2 b^{2}\\right), \\quad 0, \\quad 0\\right )$$"
      ],
      "text/plain": [
       "⎛     2                             ⎞\n",
       "⎜6⋅A⋅h     ⎛ 2              2⎞      ⎟\n",
       "⎜──────, A⋅⎝a  - 2⋅a⋅b + 2⋅b ⎠, 0, 0⎟\n",
       "⎝  5                                ⎠"
      ]
     },
     "execution_count": 14,
     "metadata": {},
     "output_type": "execute_result"
    }
   ],
   "source": [
    "S1.Ixx, S1.Iyy, S1.Ixy, S1.θ"
   ]
  },
  {
   "cell_type": "markdown",
   "metadata": {},
   "source": [
    "## **Shear center** expression "
   ]
  },
  {
   "cell_type": "code",
   "execution_count": 15,
   "metadata": {
    "collapsed": false
   },
   "outputs": [
    {
     "data": {
      "image/png": "[encoded data removed]",
      "text/latex": [
       "$$\\left[\\begin{matrix}0\\\\\\frac{h \\left(10 \\left(- a + b\\right) \\left(a^{2} - \\left(a - 2 b\\right) \\left\\lvert{a - 2 b}\\right\\rvert\\right) + \\left(2 a^{2} - 3 \\left(a - 2 b\\right)^{2}\\right) \\left(a + 2 \\sqrt{b^{2} + h^{2}} + \\left\\lvert{a - 2 b}\\right\\rvert\\right)\\right)}{10 \\left(a + 2 \\sqrt{b^{2} + h^{2}} + \\left\\lvert{a - 2 b}\\right\\rvert\\right) \\left(a^{2} - 2 a b + 2 b^{2}\\right)}\\end{matrix}\\right]$$"
      ],
      "text/plain": [
       "⎡                                                 0                           \n",
       "⎢                                                                             \n",
       "⎢  ⎛                                                               ⎛         _\n",
       "⎢  ⎜            ⎛ 2                      ⎞   ⎛   2              2⎞ ⎜        ╱ \n",
       "⎢h⋅⎝10⋅(-a + b)⋅⎝a  - (a - 2⋅b)⋅│a - 2⋅b│⎠ + ⎝2⋅a  - 3⋅(a - 2⋅b) ⎠⋅⎝a + 2⋅╲╱  \n",
       "⎢─────────────────────────────────────────────────────────────────────────────\n",
       "⎢                         ⎛         _________            ⎞                    \n",
       "⎢                         ⎜        ╱  2    2             ⎟ ⎛ 2              2⎞\n",
       "⎣                      10⋅⎝a + 2⋅╲╱  b  + h   + │a - 2⋅b│⎠⋅⎝a  - 2⋅a⋅b + 2⋅b ⎠\n",
       "\n",
       "                      ⎤\n",
       "                      ⎥\n",
       "________            ⎞⎞⎥\n",
       " 2    2             ⎟⎟⎥\n",
       "b  + h   + │a - 2⋅b│⎠⎠⎥\n",
       "──────────────────────⎥\n",
       "                      ⎥\n",
       "                      ⎥\n",
       "                      ⎦"
      ]
     },
     "execution_count": 15,
     "metadata": {},
     "output_type": "execute_result"
    }
   ],
   "source": [
    "S1.ct"
   ]
  },
  {
   "cell_type": "markdown",
   "metadata": {},
   "source": [
    "## Analisys of symmetry properties of the section"
   ]
  },
  {
   "cell_type": "markdown",
   "metadata": {},
   "source": [
    "For **x** and **y** axes pair of symmetric **nodes** and **edges** are searched for"
   ]
  },
  {
   "cell_type": "code",
   "execution_count": 16,
   "metadata": {
    "collapsed": false
   },
   "outputs": [
    {
     "data": {
      "text/plain": [
       "[{'edges': [((1, 2), (2, 3)), ((3, 4), (5, 1)), (4, 5)],\n",
       "  'nodes': [(1, 3), (2, 2), (4, 5)]},\n",
       " {'edges': [], 'nodes': []}]"
      ]
     },
     "execution_count": 16,
     "metadata": {},
     "output_type": "execute_result"
    }
   ],
   "source": [
    "S1.symmetry"
   ]
  },
  {
   "cell_type": "markdown",
   "metadata": {
    "collapsed": true
   },
   "source": [
    "## Compute axial loads in Stringers in **S1**"
   ]
  },
  {
   "cell_type": "markdown",
   "metadata": {},
   "source": [
    "We first define some symbols:"
   ]
  },
  {
   "cell_type": "code",
   "execution_count": 17,
   "metadata": {
    "collapsed": true
   },
   "outputs": [],
   "source": [
    "Tx, Ty, Nz, Mx, My, Mz, F, ry, ry, mz = sympy.symbols('T_x T_y N_z M_x M_y M_z F r_y r_x m_z')"
   ]
  },
  {
   "cell_type": "markdown",
   "metadata": {},
   "source": [
    "Set **loads** on the section:\n",
    "\n",
    "**Example 1**: _shear_ in **y** direction and _bending moment_ in **x** direction"
   ]
  },
  {
   "cell_type": "code",
   "execution_count": 18,
   "metadata": {
    "collapsed": false
   },
   "outputs": [],
   "source": [
    "S1.set_loads(_Tx=0, _Ty=Ty, _Nz=0, _Mx=Mx, _My=0, _Mz=0)"
   ]
  },
  {
   "cell_type": "markdown",
   "metadata": {},
   "source": [
    "Compute _axial loads_ in **stringers** and _shear flows_ in **panels**"
   ]
  },
  {
   "cell_type": "code",
   "execution_count": 19,
   "metadata": {
    "collapsed": false
   },
   "outputs": [],
   "source": [
    "S1.compute_stringer_actions()\n",
    "S1.compute_panel_fluxes();"
   ]
  },
  {
   "cell_type": "markdown",
   "metadata": {},
   "source": [
    "## Axial loads"
   ]
  },
  {
   "cell_type": "code",
   "execution_count": 20,
   "metadata": {
    "collapsed": false
   },
   "outputs": [
    {
     "data": {
      "image/png": "[encoded data removed]",
      "text/latex": [
       "$$\\left \\{ 1 : \\frac{M_{x}}{3 h}, \\quad 2 : \\frac{M_{x}}{3 h}, \\quad 3 : \\frac{M_{x}}{3 h}, \\quad 4 : - \\frac{M_{x}}{2 h}, \\quad 5 : - \\frac{M_{x}}{2 h}\\right \\}$$"
      ],
      "text/plain": [
       "⎧    Mₓ      Mₓ      Mₓ     -Mₓ      -Mₓ ⎫\n",
       "⎨1: ───, 2: ───, 3: ───, 4: ────, 5: ────⎬\n",
       "⎩   3⋅h     3⋅h     3⋅h     2⋅h      2⋅h ⎭"
      ]
     },
     "execution_count": 20,
     "metadata": {},
     "output_type": "execute_result"
    }
   ],
   "source": [
    "S1.N"
   ]
  },
  {
   "cell_type": "markdown",
   "metadata": {
    "collapsed": false
   },
   "source": [
    "## Shear flows"
   ]
  },
  {
   "cell_type": "code",
   "execution_count": 21,
   "metadata": {
    "collapsed": false
   },
   "outputs": [
    {
     "data": {
      "image/png": "[encoded data removed]",
      "text/latex": [
       "$$\\left \\{ \\left ( 1, \\quad 2\\right ) : \\frac{T_{y}}{6 h}, \\quad \\left ( 2, \\quad 3\\right ) : - \\frac{T_{y}}{6 h}, \\quad \\left ( 3, \\quad 4\\right ) : - \\frac{T_{y}}{2 h}, \\quad \\left ( 4, \\quad 5\\right ) : 0, \\quad \\left ( 5, \\quad 1\\right ) : \\frac{T_{y}}{2 h}\\right \\}$$"
      ],
      "text/plain": [
       "⎧        T_y          -T_y           -T_y                      T_y⎫\n",
       "⎨(1, 2): ───, (2, 3): ─────, (3, 4): ─────, (4, 5): 0, (5, 1): ───⎬\n",
       "⎩        6⋅h           6⋅h            2⋅h                      2⋅h⎭"
      ]
     },
     "execution_count": 21,
     "metadata": {},
     "output_type": "execute_result"
    }
   ],
   "source": [
    "S1.q"
   ]
  },
  {
   "cell_type": "markdown",
   "metadata": {
    "collapsed": false
   },
   "source": [
    "**Example 2**: _twisting moment_ in **z** direction"
   ]
  },
  {
   "cell_type": "code",
   "execution_count": 22,
   "metadata": {
    "collapsed": false
   },
   "outputs": [],
   "source": [
    "S1.set_loads(_Tx=0, _Ty=0, _Nz=0, _Mx=0, _My=0, _Mz=Mz)\n",
    "S1.compute_stringer_actions()\n",
    "S1.compute_panel_fluxes();"
   ]
  },
  {
   "cell_type": "markdown",
   "metadata": {},
   "source": [
    "**Axial loads**"
   ]
  },
  {
   "cell_type": "code",
   "execution_count": 23,
   "metadata": {
    "collapsed": false
   },
   "outputs": [
    {
     "data": {
      "image/png": "[encoded data removed]",
      "text/latex": [
       "$$\\left \\{ 1 : 0, \\quad 2 : 0, \\quad 3 : 0, \\quad 4 : 0, \\quad 5 : 0\\right \\}$$"
      ],
      "text/plain": [
       "{1: 0, 2: 0, 3: 0, 4: 0, 5: 0}"
      ]
     },
     "execution_count": 23,
     "metadata": {},
     "output_type": "execute_result"
    }
   ],
   "source": [
    "S1.N"
   ]
  },
  {
   "cell_type": "markdown",
   "metadata": {},
   "source": [
    "**Panel fluxes**"
   ]
  },
  {
   "cell_type": "code",
   "execution_count": 24,
   "metadata": {
    "collapsed": false
   },
   "outputs": [
    {
     "data": {
      "image/png": "[encoded data removed]",
      "text/latex": [
       "$$\\left \\{ \\left ( 1, \\quad 2\\right ) : - \\frac{M_{z}}{2 h \\left(a - b\\right)}, \\quad \\left ( 2, \\quad 3\\right ) : - \\frac{M_{z}}{2 h \\left(a - b\\right)}, \\quad \\left ( 3, \\quad 4\\right ) : - \\frac{M_{z}}{2 h \\left(a - b\\right)}, \\quad \\left ( 4, \\quad 5\\right ) : - \\frac{M_{z}}{2 h \\left(a - b\\right)}, \\quad \\left ( 5, \\quad 1\\right ) : - \\frac{M_{z}}{2 h \\left(a - b\\right)}\\right \\}$$"
      ],
      "text/plain": [
       "⎧           -M_z                 -M_z                 -M_z                 -M_\n",
       "⎨(1, 2): ───────────, (2, 3): ───────────, (3, 4): ───────────, (4, 5): ──────\n",
       "⎩        2⋅h⋅(a - b)          2⋅h⋅(a - b)          2⋅h⋅(a - b)          2⋅h⋅(a\n",
       "\n",
       "z                 -M_z    ⎫\n",
       "─────, (5, 1): ───────────⎬\n",
       " - b)          2⋅h⋅(a - b)⎭"
      ]
     },
     "execution_count": 24,
     "metadata": {},
     "output_type": "execute_result"
    }
   ],
   "source": [
    "S1.q"
   ]
  },
  {
   "cell_type": "markdown",
   "metadata": {},
   "source": [
    "Set **loads** on the section:\n",
    "\n",
    "**Example 3**: _shear_ in **x** direction and _bending moment_ in **y** direction"
   ]
  },
  {
   "cell_type": "code",
   "execution_count": 25,
   "metadata": {
    "collapsed": false
   },
   "outputs": [],
   "source": [
    "S1.set_loads(_Tx=Tx, _Ty=0, _Nz=0, _Mx=0, _My=My, _Mz=0)\n",
    "S1.compute_stringer_actions()\n",
    "S1.compute_panel_fluxes();"
   ]
  },
  {
   "cell_type": "markdown",
   "metadata": {},
   "source": [
    "**Axial loads**"
   ]
  },
  {
   "cell_type": "code",
   "execution_count": 26,
   "metadata": {
    "collapsed": false
   },
   "outputs": [
    {
     "data": {
      "image/png": "[encoded data removed]",
      "text/latex": [
       "$$\\left \\{ 1 : \\frac{M_{y} a}{2 a^{2} - 4 a b + 4 b^{2}}, \\quad 2 : 0, \\quad 3 : - \\frac{M_{y} a}{2 a^{2} - 4 a b + 4 b^{2}}, \\quad 4 : - \\frac{M_{y} \\left(\\frac{a}{2} - b\\right)}{a^{2} - 2 a b + 2 b^{2}}, \\quad 5 : - \\frac{M_{y} \\left(- \\frac{a}{2} + b\\right)}{a^{2} - 2 a b + 2 b^{2}}\\right \\}$$"
      ],
      "text/plain": [
       "⎧                                                                    ⎛a    ⎞  \n",
       "⎪                                                               -M_y⋅⎜─ - b⎟  \n",
       "⎪           M_y⋅a                          -M_y⋅a                    ⎝2    ⎠  \n",
       "⎨1: ─────────────────────, 2: 0, 3: ─────────────────────, 4: ────────────────\n",
       "⎪     ⎛ 2              2⎞             ⎛ 2              2⎞      2              \n",
       "⎪   2⋅⎝a  - 2⋅a⋅b + 2⋅b ⎠           2⋅⎝a  - 2⋅a⋅b + 2⋅b ⎠     a  - 2⋅a⋅b + 2⋅b\n",
       "⎩                                                                             \n",
       "\n",
       "            ⎛  a    ⎞  ⎫\n",
       "       -M_y⋅⎜- ─ + b⎟  ⎪\n",
       "            ⎝  2    ⎠  ⎪\n",
       "─, 5: ─────────────────⎬\n",
       "2      2              2⎪\n",
       "      a  - 2⋅a⋅b + 2⋅b ⎪\n",
       "                       ⎭"
      ]
     },
     "execution_count": 26,
     "metadata": {},
     "output_type": "execute_result"
    }
   ],
   "source": [
    "S1.N"
   ]
  },
  {
   "cell_type": "markdown",
   "metadata": {},
   "source": [
    "**Panel fluxes**\n",
    "Not really an easy expression"
   ]
  },
  {
   "cell_type": "code",
   "execution_count": 27,
   "metadata": {
    "collapsed": false
   },
   "outputs": [
    {
     "data": {
      "image/png": "[encoded data removed]",
      "text/latex": [
       "$$\\left \\{ \\left ( 1, \\quad 2\\right ) : \\frac{T_{x} \\left(a \\sqrt{b^{2} + h^{2}} + a \\left\\lvert{a - 2 b}\\right\\rvert - b \\left\\lvert{a - 2 b}\\right\\rvert\\right)}{a^{3} - 2 a^{2} b + 2 a^{2} \\sqrt{b^{2} + h^{2}} + a^{2} \\left\\lvert{a - 2 b}\\right\\rvert + 2 a b^{2} - 4 a b \\sqrt{b^{2} + h^{2}} - 2 a b \\left\\lvert{a - 2 b}\\right\\rvert + 4 b^{2} \\sqrt{b^{2} + h^{2}} + 2 b^{2} \\left\\lvert{a - 2 b}\\right\\rvert}, \\quad \\left ( 2, \\quad 3\\right ) : \\frac{T_{x} \\left(a \\sqrt{b^{2} + h^{2}} + a \\left\\lvert{a - 2 b}\\right\\rvert - b \\left\\lvert{a - 2 b}\\right\\rvert\\right)}{a^{3} - 2 a^{2} b + 2 a^{2} \\sqrt{b^{2} + h^{2}} + a^{2} \\left\\lvert{a - 2 b}\\right\\rvert + 2 a b^{2} - 4 a b \\sqrt{b^{2} + h^{2}} - 2 a b \\left\\lvert{a - 2 b}\\right\\rvert + 4 b^{2} \\sqrt{b^{2} + h^{2}} + 2 b^{2} \\left\\lvert{a - 2 b}\\right\\rvert}, \\quad \\left ( 3, \\quad 4\\right ) : - \\frac{T_{x} \\left(a^{2} - a \\left\\lvert{a - 2 b}\\right\\rvert + 2 b \\left\\lvert{a - 2 b}\\right\\rvert\\right)}{2 a^{3} - 4 a^{2} b + 4 a^{2} \\sqrt{b^{2} + h^{2}} + 2 a^{2} \\left\\lvert{a - 2 b}\\right\\rvert + 4 a b^{2} - 8 a b \\sqrt{b^{2} + h^{2}} - 4 a b \\left\\lvert{a - 2 b}\\right\\rvert + 8 b^{2} \\sqrt{b^{2} + h^{2}} + 4 b^{2} \\left\\lvert{a - 2 b}\\right\\rvert}, \\quad \\left ( 4, \\quad 5\\right ) : - \\frac{T_{x} \\left(a^{2} - a b + a \\sqrt{b^{2} + h^{2}} - 2 b \\sqrt{b^{2} + h^{2}}\\right)}{a^{3} - 2 a^{2} b + 2 a^{2} \\sqrt{b^{2} + h^{2}} + a^{2} \\left\\lvert{a - 2 b}\\right\\rvert + 2 a b^{2} - 4 a b \\sqrt{b^{2} + h^{2}} - 2 a b \\left\\lvert{a - 2 b}\\right\\rvert + 4 b^{2} \\sqrt{b^{2} + h^{2}} + 2 b^{2} \\left\\lvert{a - 2 b}\\right\\rvert}, \\quad \\left ( 5, \\quad 1\\right ) : - \\frac{T_{x} \\left(a^{2} - a \\left\\lvert{a - 2 b}\\right\\rvert + 2 b \\left\\lvert{a - 2 b}\\right\\rvert\\right)}{2 a^{3} - 4 a^{2} b + 4 a^{2} \\sqrt{b^{2} + h^{2}} + 2 a^{2} \\left\\lvert{a - 2 b}\\right\\rvert + 4 a b^{2} - 8 a b \\sqrt{b^{2} + h^{2}} - 4 a b \\left\\lvert{a - 2 b}\\right\\rvert + 8 b^{2} \\sqrt{b^{2} + h^{2}} + 4 b^{2} \\left\\lvert{a - 2 b}\\right\\rvert}\\right \\}$$"
      ],
      "text/plain": [
       "⎧                                                     ⎛     _________         \n",
       "⎪                                                     ⎜    ╱  2    2          \n",
       "⎪                                                  Tₓ⋅⎝a⋅╲╱  b  + h   + a⋅│a -\n",
       "⎨(1, 2): ─────────────────────────────────────────────────────────────────────\n",
       "⎪                              _________                                    __\n",
       "⎪         3      2        2   ╱  2    2     2                  2           ╱  \n",
       "⎩        a  - 2⋅a ⋅b + 2⋅a ⋅╲╱  b  + h   + a ⋅│a - 2⋅b│ + 2⋅a⋅b  - 4⋅a⋅b⋅╲╱  b\n",
       "\n",
       "                   ⎞                                                          \n",
       "                   ⎟                                                          \n",
       " 2⋅b│ - b⋅│a - 2⋅b│⎠                                                          \n",
       "──────────────────────────────────────────────────────────────, (2, 3): ──────\n",
       "_______                             _________                                 \n",
       "2    2                         2   ╱  2    2       2                     3    \n",
       "  + h   - 2⋅a⋅b⋅│a - 2⋅b│ + 4⋅b ⋅╲╱  b  + h   + 2⋅b ⋅│a - 2⋅b│          a  - 2\n",
       "\n",
       "                                       ⎛     _________                        \n",
       "                                       ⎜    ╱  2    2                         \n",
       "                                    Tₓ⋅⎝a⋅╲╱  b  + h   + a⋅│a - 2⋅b│ - b⋅│a - \n",
       "──────────────────────────────────────────────────────────────────────────────\n",
       "                _________                                    _________        \n",
       "  2        2   ╱  2    2     2                  2           ╱  2    2         \n",
       "⋅a ⋅b + 2⋅a ⋅╲╱  b  + h   + a ⋅│a - 2⋅b│ + 2⋅a⋅b  - 4⋅a⋅b⋅╲╱  b  + h   - 2⋅a⋅b\n",
       "\n",
       "    ⎞                                                                         \n",
       "    ⎟                                                                         \n",
       "2⋅b│⎠                                                                         \n",
       "───────────────────────────────────────────────, (3, 4): ─────────────────────\n",
       "                     _________                                                \n",
       "                2   ╱  2    2       2                       3      2        2 \n",
       "⋅│a - 2⋅b│ + 4⋅b ⋅╲╱  b  + h   + 2⋅b ⋅│a - 2⋅b│          2⋅a  - 4⋅a ⋅b + 4⋅a ⋅\n",
       "\n",
       "                                                                              \n",
       "                               ⎛ 2                              ⎞             \n",
       "                           -Tₓ⋅⎝a  - a⋅│a - 2⋅b│ + 2⋅b⋅│a - 2⋅b│⎠             \n",
       "──────────────────────────────────────────────────────────────────────────────\n",
       "   _________                                      _________                   \n",
       "  ╱  2    2       2                  2           ╱  2    2                    \n",
       "╲╱  b  + h   + 2⋅a ⋅│a - 2⋅b│ + 4⋅a⋅b  - 8⋅a⋅b⋅╲╱  b  + h   - 4⋅a⋅b⋅│a - 2⋅b│ \n",
       "\n",
       "                                                                              \n",
       "                                                                              \n",
       "                                                                              \n",
       "────────────────────────────────────, (4, 5): ────────────────────────────────\n",
       "          _________                                                 _________ \n",
       "     2   ╱  2    2       2                     3      2        2   ╱  2    2  \n",
       "+ 8⋅b ⋅╲╱  b  + h   + 4⋅b ⋅│a - 2⋅b│          a  - 2⋅a ⋅b + 2⋅a ⋅╲╱  b  + h   \n",
       "\n",
       "            ⎛                _________          _________⎞                    \n",
       "            ⎜ 2             ╱  2    2          ╱  2    2 ⎟                    \n",
       "        -Tₓ⋅⎝a  - a⋅b + a⋅╲╱  b  + h   - 2⋅b⋅╲╱  b  + h  ⎠                    \n",
       "──────────────────────────────────────────────────────────────────────────────\n",
       "                                   _________                             _____\n",
       "   2                  2           ╱  2    2                         2   ╱  2  \n",
       "+ a ⋅│a - 2⋅b│ + 2⋅a⋅b  - 4⋅a⋅b⋅╲╱  b  + h   - 2⋅a⋅b⋅│a - 2⋅b│ + 4⋅b ⋅╲╱  b  +\n",
       "\n",
       "                                                                              \n",
       "                                                                              \n",
       "                                                                              \n",
       "─────────────────────, (5, 1): ───────────────────────────────────────────────\n",
       "____                                                   _________              \n",
       "  2       2                       3      2        2   ╱  2    2       2       \n",
       " h   + 2⋅b ⋅│a - 2⋅b│          2⋅a  - 4⋅a ⋅b + 4⋅a ⋅╲╱  b  + h   + 2⋅a ⋅│a - 2\n",
       "\n",
       "                                                                              \n",
       "     ⎛ 2                              ⎞                                       \n",
       " -Tₓ⋅⎝a  - a⋅│a - 2⋅b│ + 2⋅b⋅│a - 2⋅b│⎠                                       \n",
       "──────────────────────────────────────────────────────────────────────────────\n",
       "                        _________                             _________       \n",
       "           2           ╱  2    2                         2   ╱  2    2       2\n",
       "⋅b│ + 4⋅a⋅b  - 8⋅a⋅b⋅╲╱  b  + h   - 4⋅a⋅b⋅│a - 2⋅b│ + 8⋅b ⋅╲╱  b  + h   + 4⋅b \n",
       "\n",
       "          ⎫\n",
       "          ⎪\n",
       "          ⎪\n",
       "──────────⎬\n",
       "          ⎪\n",
       "          ⎪\n",
       "⋅│a - 2⋅b│⎭"
      ]
     },
     "execution_count": 27,
     "metadata": {},
     "output_type": "execute_result"
    }
   ],
   "source": [
    "S1.q"
   ]
  },
  {
   "cell_type": "markdown",
   "metadata": {},
   "source": [
    "## Compute **Jt**"
   ]
  },
  {
   "cell_type": "markdown",
   "metadata": {},
   "source": [
    "Computation of **torsional moment of inertia**:"
   ]
  },
  {
   "cell_type": "code",
   "execution_count": 28,
   "metadata": {
    "collapsed": false
   },
   "outputs": [
    {
     "data": {
      "image/png": "[encoded data removed]",
      "text/latex": [
       "$$\\left[\\begin{matrix}\\frac{4 h^{2} t \\left(a - b\\right)^{2}}{a + 2 \\sqrt{b^{2} + h^{2}} + \\left\\lvert{a - 2 b}\\right\\rvert}\\end{matrix}\\right]$$"
      ],
      "text/plain": [
       "⎡          2          2        ⎤\n",
       "⎢       4⋅h ⋅t⋅(a - b)         ⎥\n",
       "⎢──────────────────────────────⎥\n",
       "⎢         _________            ⎥\n",
       "⎢        ╱  2    2             ⎥\n",
       "⎣a + 2⋅╲╱  b  + h   + │a - 2⋅b│⎦"
      ]
     },
     "execution_count": 28,
     "metadata": {},
     "output_type": "execute_result"
    }
   ],
   "source": [
    "S1.compute_Jt()\n",
    "S1.Jt"
   ]
  },
  {
   "cell_type": "markdown",
   "metadata": {
    "collapsed": false
   },
   "source": [
    "# Second example: Open section"
   ]
  },
  {
   "cell_type": "code",
   "execution_count": 29,
   "metadata": {
    "collapsed": true
   },
   "outputs": [],
   "source": [
    "stringers = {1:[(sympy.Integer(0),h),A],\n",
    "             2:[(sympy.Integer(0),sympy.Integer(0)),A],\n",
    "             3:[(a,sympy.Integer(0)),A],\n",
    "             4:[(a,h),A]}\n",
    "\n",
    "panels = {(1,2):t,\n",
    "          (2,3):t,\n",
    "          (3,4):t}"
   ]
  },
  {
   "cell_type": "markdown",
   "metadata": {},
   "source": [
    "Define section and perform first calculations"
   ]
  },
  {
   "cell_type": "code",
   "execution_count": 30,
   "metadata": {
    "collapsed": false
   },
   "outputs": [],
   "source": [
    "S2 = Section(stringers, panels)"
   ]
  },
  {
   "cell_type": "markdown",
   "metadata": {},
   "source": [
    "Verify that the section is open"
   ]
  },
  {
   "cell_type": "code",
   "execution_count": 31,
   "metadata": {
    "collapsed": false
   },
   "outputs": [
    {
     "data": {
      "image/png": "[encoded data removed]",
      "text/latex": [
       "$$\\left [ \\right ]$$"
      ],
      "text/plain": [
       "[]"
      ]
     },
     "execution_count": 31,
     "metadata": {},
     "output_type": "execute_result"
    }
   ],
   "source": [
    "S2.cycles"
   ]
  },
  {
   "cell_type": "markdown",
   "metadata": {
    "collapsed": false
   },
   "source": [
    "## Plot of **S2** section in original reference frame"
   ]
  },
  {
   "cell_type": "markdown",
   "metadata": {},
   "source": [
    "Define a dictionary of coordinates used by **Networkx** to plot section as a Directed graph.\n",
    "Note that arrows are actually just thicker stubs"
   ]
  },
  {
   "cell_type": "code",
   "execution_count": 32,
   "metadata": {
    "collapsed": false
   },
   "outputs": [],
   "source": [
    "start_pos={ii: [float(S2.g.node[ii]['ip'][i].subs(datav)) for i in range(2)] for ii in S2.g.nodes() }"
   ]
  },
  {
   "cell_type": "code",
   "execution_count": 33,
   "metadata": {
    "collapsed": false
   },
   "outputs": [
    {
     "data": {
      "image/png": "[encoded data removed]",
      "text/plain": [
       "<matplotlib.figure.Figure at 0x7f6f40f48438>"
      ]
     },
     "metadata": {},
     "output_type": "display_data"
    }
   ],
   "source": [
    "plt.figure(figsize=(12,8),dpi=300)\n",
    "nx.draw(S2.g,with_labels=True, arrows= True, pos=start_pos)\n",
    "plt.arrow(0,0,20,0)\n",
    "plt.arrow(0,0,0,20)\n",
    "#plt.text(0,0, 'CG', fontsize=24)\n",
    "plt.axis('equal')\n",
    "plt.title(\"Section in starting reference Frame\",fontsize=16);"
   ]
  },
  {
   "cell_type": "markdown",
   "metadata": {},
   "source": [
    "Expression of **Inertial properties** wrt Center of Gravity in with original rotation"
   ]
  },
  {
   "cell_type": "code",
   "execution_count": 34,
   "metadata": {
    "collapsed": false
   },
   "outputs": [
    {
     "data": {
      "image/png": "[encoded data removed]",
      "text/latex": [
       "$$\\left ( A h^{2}, \\quad A a^{2}, \\quad 0, \\quad 0\\right )$$"
      ],
      "text/plain": [
       "⎛   2     2      ⎞\n",
       "⎝A⋅h , A⋅a , 0, 0⎠"
      ]
     },
     "execution_count": 34,
     "metadata": {},
     "output_type": "execute_result"
    }
   ],
   "source": [
    "S2.Ixx0, S2.Iyy0, S2.Ixy0, S2.α0"
   ]
  },
  {
   "cell_type": "markdown",
   "metadata": {},
   "source": [
    "## Plot of **S2** section in inertial reference Frame"
   ]
  },
  {
   "cell_type": "markdown",
   "metadata": {},
   "source": [
    "Section is plotted wrt **center of gravity** and rotated (if necessary) so that *x* and *y* are principal axes.\n",
    "**Center of Gravity** and **Shear Center** are drawn"
   ]
  },
  {
   "cell_type": "code",
   "execution_count": 35,
   "metadata": {
    "collapsed": true
   },
   "outputs": [],
   "source": [
    "positions={ii: [float(S2.g.node[ii]['pos'][i].subs(datav)) for i in range(2)] for ii in S2.g.nodes() }"
   ]
  },
  {
   "cell_type": "code",
   "execution_count": 36,
   "metadata": {
    "collapsed": false
   },
   "outputs": [
    {
     "data": {
      "image/png": "[encoded data removed]",
      "text/plain": [
       "<matplotlib.figure.Figure at 0x7f6f416c0e80>"
      ]
     },
     "metadata": {},
     "output_type": "display_data"
    }
   ],
   "source": [
    "x_ct, y_ct = S2.ct.subs(datav)\n",
    "\n",
    "plt.figure(figsize=(12,8),dpi=300)\n",
    "nx.draw(S2.g,with_labels=True, pos=positions)\n",
    "plt.plot([0],[0],'o',ms=12,label='CG')\n",
    "plt.plot([x_ct],[y_ct],'^',ms=12, label='SC')\n",
    "#plt.text(0,0, 'CG', fontsize=24)\n",
    "#plt.text(x_ct,y_ct, 'SC', fontsize=24)\n",
    "plt.legend(loc='lower right', shadow=True)\n",
    "plt.axis('equal')\n",
    "plt.title(\"Section in pricipal reference Frame\",fontsize=16);"
   ]
  },
  {
   "cell_type": "markdown",
   "metadata": {},
   "source": [
    "Expression of **inertial properties** in *principal reference frame*"
   ]
  },
  {
   "cell_type": "code",
   "execution_count": 37,
   "metadata": {
    "collapsed": false
   },
   "outputs": [
    {
     "data": {
      "image/png": "[encoded data removed]",
      "text/latex": [
       "$$\\left ( A h^{2}, \\quad A a^{2}, \\quad 0, \\quad 0\\right )$$"
      ],
      "text/plain": [
       "⎛   2     2      ⎞\n",
       "⎝A⋅h , A⋅a , 0, 0⎠"
      ]
     },
     "execution_count": 37,
     "metadata": {},
     "output_type": "execute_result"
    }
   ],
   "source": [
    "S2.Ixx, S2.Iyy, S2.Ixy, S2.θ"
   ]
  },
  {
   "cell_type": "markdown",
   "metadata": {},
   "source": [
    "## **Shear center** expression "
   ]
  },
  {
   "cell_type": "code",
   "execution_count": 38,
   "metadata": {
    "collapsed": false
   },
   "outputs": [
    {
     "data": {
      "image/png": "[encoded data removed]",
      "text/latex": [
       "$$\\left[\\begin{matrix}0\\\\- h\\end{matrix}\\right]$$"
      ],
      "text/plain": [
       "⎡0 ⎤\n",
       "⎢  ⎥\n",
       "⎣-h⎦"
      ]
     },
     "execution_count": 38,
     "metadata": {},
     "output_type": "execute_result"
    }
   ],
   "source": [
    "S2.ct"
   ]
  },
  {
   "cell_type": "markdown",
   "metadata": {},
   "source": [
    "## Analisys of symmetry properties of the section"
   ]
  },
  {
   "cell_type": "markdown",
   "metadata": {},
   "source": [
    "For **x** and **y** axes pair of symmetric **nodes** and **edges** are searched for"
   ]
  },
  {
   "cell_type": "code",
   "execution_count": 39,
   "metadata": {
    "collapsed": false
   },
   "outputs": [
    {
     "data": {
      "text/plain": [
       "[{'edges': [((1, 2), (3, 4)), (2, 3)], 'nodes': [(1, 4), (2, 3)]},\n",
       " {'edges': [(1, 2), (3, 4)], 'nodes': [(1, 2), (3, 4)]}]"
      ]
     },
     "execution_count": 39,
     "metadata": {},
     "output_type": "execute_result"
    }
   ],
   "source": [
    "S2.symmetry"
   ]
  },
  {
   "cell_type": "markdown",
   "metadata": {
    "collapsed": true
   },
   "source": [
    "## Compute axial loads in Stringers in **S2**"
   ]
  },
  {
   "cell_type": "markdown",
   "metadata": {},
   "source": [
    "Set **loads** on the section:\n",
    "\n",
    "**Example 2**: _shear_ in **y** direction and _bending moment_ in **x** direction"
   ]
  },
  {
   "cell_type": "code",
   "execution_count": 40,
   "metadata": {
    "collapsed": false
   },
   "outputs": [],
   "source": [
    "S2.set_loads(_Tx=0, _Ty=Ty, _Nz=0, _Mx=Mx, _My=0, _Mz=0)"
   ]
  },
  {
   "cell_type": "markdown",
   "metadata": {},
   "source": [
    "Compute _axial loads_ in **stringers** and _shear flows_ in **panels**"
   ]
  },
  {
   "cell_type": "code",
   "execution_count": 41,
   "metadata": {
    "collapsed": false
   },
   "outputs": [],
   "source": [
    "S2.compute_stringer_actions()\n",
    "S2.compute_panel_fluxes();"
   ]
  },
  {
   "cell_type": "markdown",
   "metadata": {},
   "source": [
    "## Axial loads"
   ]
  },
  {
   "cell_type": "code",
   "execution_count": 42,
   "metadata": {
    "collapsed": false
   },
   "outputs": [
    {
     "data": {
      "image/png": "[encoded data removed]",
      "text/latex": [
       "$$\\left \\{ 1 : \\frac{M_{x}}{2 h}, \\quad 2 : - \\frac{M_{x}}{2 h}, \\quad 3 : - \\frac{M_{x}}{2 h}, \\quad 4 : \\frac{M_{x}}{2 h}\\right \\}$$"
      ],
      "text/plain": [
       "⎧    Mₓ     -Mₓ      -Mₓ       Mₓ⎫\n",
       "⎨1: ───, 2: ────, 3: ────, 4: ───⎬\n",
       "⎩   2⋅h     2⋅h      2⋅h      2⋅h⎭"
      ]
     },
     "execution_count": 42,
     "metadata": {},
     "output_type": "execute_result"
    }
   ],
   "source": [
    "S2.N"
   ]
  },
  {
   "cell_type": "markdown",
   "metadata": {
    "collapsed": false
   },
   "source": [
    "## Shear flows"
   ]
  },
  {
   "cell_type": "code",
   "execution_count": 43,
   "metadata": {
    "collapsed": false
   },
   "outputs": [
    {
     "data": {
      "image/png": "[encoded data removed]",
      "text/latex": [
       "$$\\left \\{ \\left ( 1, \\quad 2\\right ) : - \\frac{T_{y}}{2 h}, \\quad \\left ( 2, \\quad 3\\right ) : 0, \\quad \\left ( 3, \\quad 4\\right ) : \\frac{T_{y}}{2 h}\\right \\}$$"
      ],
      "text/plain": [
       "⎧        -T_y                      T_y⎫\n",
       "⎨(1, 2): ─────, (2, 3): 0, (3, 4): ───⎬\n",
       "⎩         2⋅h                      2⋅h⎭"
      ]
     },
     "execution_count": 43,
     "metadata": {},
     "output_type": "execute_result"
    }
   ],
   "source": [
    "S2.q"
   ]
  },
  {
   "cell_type": "markdown",
   "metadata": {},
   "source": [
    "Set **loads** on the section:\n",
    "\n",
    "**Example 2**: _shear_ in **x** direction and _bending moment_ in **y** direction"
   ]
  },
  {
   "cell_type": "code",
   "execution_count": 44,
   "metadata": {
    "collapsed": false
   },
   "outputs": [],
   "source": [
    "S2.set_loads(_Tx=Tx, _Ty=0, _Nz=0, _Mx=0, _My=My, _Mz=0)\n",
    "S2.compute_stringer_actions()\n",
    "S2.compute_panel_fluxes();"
   ]
  },
  {
   "cell_type": "code",
   "execution_count": 45,
   "metadata": {
    "collapsed": false
   },
   "outputs": [
    {
     "data": {
      "image/png": "[encoded data removed]",
      "text/latex": [
       "$$\\left \\{ 1 : \\frac{M_{y}}{2 a}, \\quad 2 : \\frac{M_{y}}{2 a}, \\quad 3 : - \\frac{M_{y}}{2 a}, \\quad 4 : - \\frac{M_{y}}{2 a}\\right \\}$$"
      ],
      "text/plain": [
       "⎧   M_y     M_y     -M_y      -M_y ⎫\n",
       "⎨1: ───, 2: ───, 3: ─────, 4: ─────⎬\n",
       "⎩   2⋅a     2⋅a      2⋅a       2⋅a ⎭"
      ]
     },
     "execution_count": 45,
     "metadata": {},
     "output_type": "execute_result"
    }
   ],
   "source": [
    "S2.N"
   ]
  },
  {
   "cell_type": "code",
   "execution_count": 46,
   "metadata": {
    "collapsed": false
   },
   "outputs": [
    {
     "data": {
      "image/png": "[encoded data removed]",
      "text/latex": [
       "$$\\left \\{ \\left ( 1, \\quad 2\\right ) : \\frac{T_{x}}{2 a}, \\quad \\left ( 2, \\quad 3\\right ) : \\frac{T_{x}}{a}, \\quad \\left ( 3, \\quad 4\\right ) : \\frac{T_{x}}{2 a}\\right \\}$$"
      ],
      "text/plain": [
       "⎧         Tₓ          Tₓ           Tₓ⎫\n",
       "⎨(1, 2): ───, (2, 3): ──, (3, 4): ───⎬\n",
       "⎩        2⋅a          a           2⋅a⎭"
      ]
     },
     "execution_count": 46,
     "metadata": {},
     "output_type": "execute_result"
    }
   ],
   "source": [
    "S2.q"
   ]
  },
  {
   "cell_type": "markdown",
   "metadata": {
    "collapsed": false
   },
   "source": [
    "# Second example (2): Open section"
   ]
  },
  {
   "cell_type": "code",
   "execution_count": 47,
   "metadata": {
    "collapsed": true
   },
   "outputs": [],
   "source": [
    "stringers = {1:[(a,h),A],\n",
    "             2:[(sympy.Integer(0),h),A],\n",
    "             3:[(sympy.Integer(0),sympy.Integer(0)),A],\n",
    "             4:[(a,sympy.Integer(0)),A]}\n",
    "\n",
    "panels = {(1,2):t,\n",
    "          (2,3):t,\n",
    "          (3,4):t}"
   ]
  },
  {
   "cell_type": "markdown",
   "metadata": {},
   "source": [
    "Define section and perform first calculations"
   ]
  },
  {
   "cell_type": "code",
   "execution_count": 48,
   "metadata": {
    "collapsed": false
   },
   "outputs": [],
   "source": [
    "S2_2 = Section(stringers, panels)"
   ]
  },
  {
   "cell_type": "markdown",
   "metadata": {
    "collapsed": false
   },
   "source": [
    "## Plot of **S2** section in original reference frame"
   ]
  },
  {
   "cell_type": "markdown",
   "metadata": {},
   "source": [
    "Define a dictionary of coordinates used by **Networkx** to plot section as a Directed graph.\n",
    "Note that arrows are actually just thicker stubs"
   ]
  },
  {
   "cell_type": "code",
   "execution_count": 49,
   "metadata": {
    "collapsed": false
   },
   "outputs": [],
   "source": [
    "start_pos={ii: [float(S2_2.g.node[ii]['ip'][i].subs(datav)) for i in range(2)] for ii in S2_2.g.nodes() }"
   ]
  },
  {
   "cell_type": "code",
   "execution_count": 50,
   "metadata": {
    "collapsed": false
   },
   "outputs": [
    {
     "data": {
      "image/png": "[encoded data removed]",
      "text/plain": [
       "<matplotlib.figure.Figure at 0x7f6f4162ff98>"
      ]
     },
     "metadata": {},
     "output_type": "display_data"
    }
   ],
   "source": [
    "plt.figure(figsize=(12,8),dpi=300)\n",
    "nx.draw(S2_2.g,with_labels=True, arrows= True, pos=start_pos)\n",
    "plt.arrow(0,0,20,0)\n",
    "plt.arrow(0,0,0,20)\n",
    "#plt.text(0,0, 'CG', fontsize=24)\n",
    "plt.axis('equal')\n",
    "plt.title(\"Section in starting reference Frame\",fontsize=16);"
   ]
  },
  {
   "cell_type": "markdown",
   "metadata": {},
   "source": [
    "Expression of **Inertial properties** wrt Center of Gravity in with original rotation"
   ]
  },
  {
   "cell_type": "code",
   "execution_count": 51,
   "metadata": {
    "collapsed": false
   },
   "outputs": [
    {
     "data": {
      "image/png": "[encoded data removed]",
      "text/latex": [
       "$$\\left ( A h^{2}, \\quad A a^{2}, \\quad 0, \\quad 0\\right )$$"
      ],
      "text/plain": [
       "⎛   2     2      ⎞\n",
       "⎝A⋅h , A⋅a , 0, 0⎠"
      ]
     },
     "execution_count": 51,
     "metadata": {},
     "output_type": "execute_result"
    }
   ],
   "source": [
    "S2_2.Ixx0, S2_2.Iyy0, S2_2.Ixy0, S2_2.α0"
   ]
  },
  {
   "cell_type": "markdown",
   "metadata": {},
   "source": [
    "## Plot of **S2** section in inertial reference Frame"
   ]
  },
  {
   "cell_type": "markdown",
   "metadata": {},
   "source": [
    "Section is plotted wrt **center of gravity** and rotated (if necessary) so that *x* and *y* are principal axes.\n",
    "**Center of Gravity** and **Shear Center** are drawn"
   ]
  },
  {
   "cell_type": "code",
   "execution_count": 52,
   "metadata": {
    "collapsed": true
   },
   "outputs": [],
   "source": [
    "positions={ii: [float(S2_2.g.node[ii]['pos'][i].subs(datav)) for i in range(2)] for ii in S2_2.g.nodes() }"
   ]
  },
  {
   "cell_type": "code",
   "execution_count": 53,
   "metadata": {
    "collapsed": false
   },
   "outputs": [
    {
     "data": {
      "image/png": "[encoded data removed]",
      "text/plain": [
       "<matplotlib.figure.Figure at 0x7f6f4164b6d8>"
      ]
     },
     "metadata": {},
     "output_type": "display_data"
    }
   ],
   "source": [
    "x_ct, y_ct = S2_2.ct.subs(datav)\n",
    "\n",
    "plt.figure(figsize=(12,8),dpi=300)\n",
    "nx.draw(S2_2.g,with_labels=True, pos=positions)\n",
    "plt.plot([0],[0],'o',ms=12,label='CG')\n",
    "plt.plot([x_ct],[y_ct],'^',ms=12, label='SC')\n",
    "#plt.text(0,0, 'CG', fontsize=24)\n",
    "#plt.text(x_ct,y_ct, 'SC', fontsize=24)\n",
    "plt.legend(loc='lower right', shadow=True)\n",
    "plt.axis('equal')\n",
    "plt.title(\"Section in pricipal reference Frame\",fontsize=16);"
   ]
  },
  {
   "cell_type": "markdown",
   "metadata": {},
   "source": [
    "Expression of **inertial properties** in *principal reference frame*"
   ]
  },
  {
   "cell_type": "code",
   "execution_count": 54,
   "metadata": {
    "collapsed": false
   },
   "outputs": [
    {
     "data": {
      "image/png": "[encoded data removed]",
      "text/latex": [
       "$$\\left ( A h^{2}, \\quad A a^{2}, \\quad 0, \\quad 0\\right )$$"
      ],
      "text/plain": [
       "⎛   2     2      ⎞\n",
       "⎝A⋅h , A⋅a , 0, 0⎠"
      ]
     },
     "execution_count": 54,
     "metadata": {},
     "output_type": "execute_result"
    }
   ],
   "source": [
    "S2_2.Ixx, S2_2.Iyy, S2_2.Ixy, S2_2.θ"
   ]
  },
  {
   "cell_type": "markdown",
   "metadata": {},
   "source": [
    "## **Shear center** expression "
   ]
  },
  {
   "cell_type": "code",
   "execution_count": 55,
   "metadata": {
    "collapsed": false
   },
   "outputs": [
    {
     "data": {
      "image/png": "[encoded data removed]",
      "text/latex": [
       "$$\\left[\\begin{matrix}- a\\\\0\\end{matrix}\\right]$$"
      ],
      "text/plain": [
       "⎡-a⎤\n",
       "⎢  ⎥\n",
       "⎣0 ⎦"
      ]
     },
     "execution_count": 55,
     "metadata": {},
     "output_type": "execute_result"
    }
   ],
   "source": [
    "S2_2.ct"
   ]
  }
 ],
 "metadata": {
  "kernelspec": {
   "display_name": "Python 3",
   "language": "python",
   "name": "python3"
  },
  "language_info": {
   "codemirror_mode": {
    "name": "ipython",
    "version": 3
   },
   "file_extension": ".py",
   "mimetype": "text/x-python",
   "name": "python",
   "nbconvert_exporter": "python",
   "pygments_lexer": "ipython3",
   "version": "3.5.1"
  }
 },
 "nbformat": 4,
 "nbformat_minor": 0
}
