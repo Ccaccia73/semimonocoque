{
 "cells": [
  {
   "cell_type": "markdown",
   "metadata": {},
   "source": [
    "# Semi-Monocoque Theory"
   ]
  },
  {
   "cell_type": "code",
   "execution_count": 1,
   "metadata": {
    "collapsed": false
   },
   "outputs": [],
   "source": [
    "from pint import UnitRegistry\n",
    "import sympy\n",
    "import networkx as nx\n",
    "import numpy as np\n",
    "import matplotlib.pyplot as plt\n",
    "import sys\n",
    "%matplotlib inline\n",
    "from IPython.display import display"
   ]
  },
  {
   "cell_type": "markdown",
   "metadata": {},
   "source": [
    "Import **Section** class, which contains all calculations"
   ]
  },
  {
   "cell_type": "code",
   "execution_count": 2,
   "metadata": {
    "collapsed": false
   },
   "outputs": [],
   "source": [
    "from Section import Section"
   ]
  },
  {
   "cell_type": "markdown",
   "metadata": {},
   "source": [
    "Initialization of **sympy** symbolic tool and **pint** for dimension analysis (not really implemented rn as not directly compatible with sympy)"
   ]
  },
  {
   "cell_type": "code",
   "execution_count": 3,
   "metadata": {
    "collapsed": false
   },
   "outputs": [],
   "source": [
    "ureg = UnitRegistry()\n",
    "sympy.init_printing()"
   ]
  },
  {
   "cell_type": "markdown",
   "metadata": {},
   "source": [
    "Define **sympy** parameters used for geometric description of sections"
   ]
  },
  {
   "cell_type": "code",
   "execution_count": 4,
   "metadata": {
    "collapsed": false
   },
   "outputs": [],
   "source": [
    "A, A0, t, t0, a, b, h, L = sympy.symbols('A A_0 t t_0 a b h L', positive=True)"
   ]
  },
  {
   "cell_type": "markdown",
   "metadata": {},
   "source": [
    "We also define numerical values for each **symbol** in order to plot scaled section and perform calculations"
   ]
  },
  {
   "cell_type": "code",
   "execution_count": 5,
   "metadata": {
    "collapsed": true
   },
   "outputs": [],
   "source": [
    "values = [(A, 450 * ureg.millimeter**2),(A0, 250  * ureg.millimeter**2),(a, 130 * ureg.millimeter), \\\n",
    "          (b, 300 * ureg.millimeter),(h, 150 * ureg.millimeter),(L, 650 * ureg.millimeter)]\n",
    "datav = [(v[0],v[1].magnitude) for v in values]"
   ]
  },
  {
   "cell_type": "markdown",
   "metadata": {
    "collapsed": false
   },
   "source": [
    "# Multiconnected Section"
   ]
  },
  {
   "cell_type": "markdown",
   "metadata": {},
   "source": [
    "Define graph describing the section:\n",
    "\n",
    "1) **stringers** are **nodes** with parameters:\n",
    "- **x** coordinate\n",
    "- **y** coordinate\n",
    "- **Area**\n",
    "\n",
    "2) **panels** are **oriented edges** with parameters:\n",
    "- **thickness**\n",
    "- **lenght** which is automatically calculated"
   ]
  },
  {
   "cell_type": "code",
   "execution_count": 6,
   "metadata": {
    "collapsed": true
   },
   "outputs": [],
   "source": [
    "stringers = {1:[(sympy.Integer(0),h),A],\n",
    "             2:[(sympy.Integer(0),sympy.Integer(0)),A],\n",
    "             3:[(a,sympy.Integer(0)),A],\n",
    "             4:[(a+b,sympy.Integer(0)),A],\n",
    "             5:[(a+b,h),A],\n",
    "             6:[(a,h),A]}\n",
    "\n",
    "panels = {(1,2):t,\n",
    "          (2,3):t,\n",
    "          (3,4):t,\n",
    "          (4,5):t,\n",
    "          (5,6):t,\n",
    "          (6,1):t,\n",
    "          (3,6):t}"
   ]
  },
  {
   "cell_type": "markdown",
   "metadata": {},
   "source": [
    "Define section and perform first calculations"
   ]
  },
  {
   "cell_type": "code",
   "execution_count": 7,
   "metadata": {
    "collapsed": false
   },
   "outputs": [],
   "source": [
    "S3 = Section(stringers, panels)"
   ]
  },
  {
   "cell_type": "markdown",
   "metadata": {},
   "source": [
    "As we need to compute $x_{sc}$, we have to perform\n",
    "\n",
    "$$A \\cdot q_{ext} = T$$\n",
    "\n",
    "where:\n",
    "- **A** is a matrix with **number of nodes + number of loops** rows and **number of edges +1** columns (it is square)\n",
    "- **q** is a column vector of unknowns: **#edges fluxes** and **shear center** coordinate\n",
    "- **T** is the vector of known terms: $-\\frac{T_y}{J_x} \\cdot S_{x_i}$ or $-\\frac{T_x}{J_y} \\cdot S_{y_i}$ for *n-1* nodes and the rest are 0"
   ]
  },
  {
   "cell_type": "markdown",
   "metadata": {},
   "source": [
    "**Expression of A**"
   ]
  },
  {
   "cell_type": "code",
   "execution_count": 8,
   "metadata": {
    "collapsed": false
   },
   "outputs": [
    {
     "data": {
      "image/png": "[encoded data removed]",
      "text/latex": [
       "$$\\left[\\begin{matrix}1 & 0 & 0 & 0 & 0 & 0 & -1 & 0\\\\-1 & 1 & 0 & 0 & 0 & 0 & 0 & 0\\\\0 & -1 & 1 & 1 & 0 & 0 & 0 & 0\\\\0 & 0 & -1 & 0 & 1 & 0 & 0 & 0\\\\0 & 0 & 0 & 0 & -1 & 1 & 0 & 0\\\\\\frac{h}{3} \\left(2 a + b\\right) & \\frac{a h}{2} & \\frac{b h}{2} & \\frac{h}{3} \\left(a - b\\right) & \\frac{h}{3} \\left(a + 2 b\\right) & \\frac{b h}{2} & \\frac{a h}{2} & -1\\\\\\frac{h}{t} & \\frac{a}{t} & 0 & \\frac{h}{t} & 0 & 0 & \\frac{a}{t} & 0\\\\0 & 0 & \\frac{b}{t} & - \\frac{h}{t} & \\frac{h}{t} & \\frac{b}{t} & 0 & 0\\end{matrix}\\right]$$"
      ],
      "text/plain": [
       "⎡     1        0    0       0           0        0   -1   0 ⎤\n",
       "⎢                                                           ⎥\n",
       "⎢    -1        1    0       0           0        0    0   0 ⎥\n",
       "⎢                                                           ⎥\n",
       "⎢     0       -1    1       1           0        0    0   0 ⎥\n",
       "⎢                                                           ⎥\n",
       "⎢     0        0   -1       0           1        0    0   0 ⎥\n",
       "⎢                                                           ⎥\n",
       "⎢     0        0    0       0          -1        1    0   0 ⎥\n",
       "⎢                                                           ⎥\n",
       "⎢h⋅(2⋅a + b)  a⋅h  b⋅h  h⋅(a - b)  h⋅(a + 2⋅b)  b⋅h  a⋅h    ⎥\n",
       "⎢───────────  ───  ───  ─────────  ───────────  ───  ───  -1⎥\n",
       "⎢     3        2    2       3           3        2    2     ⎥\n",
       "⎢                                                           ⎥\n",
       "⎢     h        a            h                         a     ⎥\n",
       "⎢     ─        ─    0       ─           0        0    ─   0 ⎥\n",
       "⎢     t        t            t                         t     ⎥\n",
       "⎢                                                           ⎥\n",
       "⎢                   b      -h           h        b          ⎥\n",
       "⎢     0        0    ─      ───          ─        ─    0   0 ⎥\n",
       "⎣                   t       t           t        t          ⎦"
      ]
     },
     "execution_count": 8,
     "metadata": {},
     "output_type": "execute_result"
    }
   ],
   "source": [
    "sympy.simplify(S3.A)"
   ]
  },
  {
   "cell_type": "markdown",
   "metadata": {},
   "source": [
    "**Expression of T**"
   ]
  },
  {
   "cell_type": "code",
   "execution_count": 9,
   "metadata": {
    "collapsed": false
   },
   "outputs": [
    {
     "data": {
      "image/png": "[encoded data removed]",
      "text/latex": [
       "$$\\left[\\begin{matrix}- \\frac{1}{3 h}\\\\\\frac{1}{3 h}\\\\\\frac{1}{3 h}\\\\\\frac{1}{3 h}\\\\- \\frac{1}{3 h}\\\\0\\\\0\\\\0\\end{matrix}\\right]$$"
      ],
      "text/plain": [
       "⎡-1 ⎤\n",
       "⎢───⎥\n",
       "⎢3⋅h⎥\n",
       "⎢   ⎥\n",
       "⎢ 1 ⎥\n",
       "⎢───⎥\n",
       "⎢3⋅h⎥\n",
       "⎢   ⎥\n",
       "⎢ 1 ⎥\n",
       "⎢───⎥\n",
       "⎢3⋅h⎥\n",
       "⎢   ⎥\n",
       "⎢ 1 ⎥\n",
       "⎢───⎥\n",
       "⎢3⋅h⎥\n",
       "⎢   ⎥\n",
       "⎢-1 ⎥\n",
       "⎢───⎥\n",
       "⎢3⋅h⎥\n",
       "⎢   ⎥\n",
       "⎢ 0 ⎥\n",
       "⎢   ⎥\n",
       "⎢ 0 ⎥\n",
       "⎢   ⎥\n",
       "⎣ 0 ⎦"
      ]
     },
     "execution_count": 9,
     "metadata": {},
     "output_type": "execute_result"
    }
   ],
   "source": [
    "sympy.simplify(S3.T)"
   ]
  },
  {
   "cell_type": "markdown",
   "metadata": {},
   "source": [
    "**Resulting fluxes and coordinate**"
   ]
  },
  {
   "cell_type": "code",
   "execution_count": 10,
   "metadata": {
    "collapsed": false
   },
   "outputs": [
    {
     "data": {
      "image/png": "[encoded data removed]",
      "text/latex": [
       "$$\\left[\\begin{matrix}- \\frac{1}{3 h}\\\\0\\\\0\\\\\\frac{1}{3 h}\\\\\\frac{1}{3 h}\\\\0\\\\0\\\\0\\end{matrix}\\right]$$"
      ],
      "text/plain": [
       "⎡-1 ⎤\n",
       "⎢───⎥\n",
       "⎢3⋅h⎥\n",
       "⎢   ⎥\n",
       "⎢ 0 ⎥\n",
       "⎢   ⎥\n",
       "⎢ 0 ⎥\n",
       "⎢   ⎥\n",
       "⎢ 1 ⎥\n",
       "⎢───⎥\n",
       "⎢3⋅h⎥\n",
       "⎢   ⎥\n",
       "⎢ 1 ⎥\n",
       "⎢───⎥\n",
       "⎢3⋅h⎥\n",
       "⎢   ⎥\n",
       "⎢ 0 ⎥\n",
       "⎢   ⎥\n",
       "⎢ 0 ⎥\n",
       "⎢   ⎥\n",
       "⎣ 0 ⎦"
      ]
     },
     "execution_count": 10,
     "metadata": {},
     "output_type": "execute_result"
    }
   ],
   "source": [
    "sympy.simplify(S3.tempq)"
   ]
  },
  {
   "cell_type": "markdown",
   "metadata": {
    "collapsed": false
   },
   "source": [
    "## Plot of **S3** section in original reference frame"
   ]
  },
  {
   "cell_type": "code",
   "execution_count": 11,
   "metadata": {
    "collapsed": true
   },
   "outputs": [],
   "source": [
    "start_pos={ii: [float(S3.g.node[ii]['ip'][i].subs(datav)) for i in range(2)] for ii in S3.g.nodes() }"
   ]
  },
  {
   "cell_type": "code",
   "execution_count": 12,
   "metadata": {
    "collapsed": false
   },
   "outputs": [
    {
     "data": {
      "image/png": "[encoded data removed]",
      "text/plain": [
       "<matplotlib.figure.Figure at 0x7fed288273c8>"
      ]
     },
     "metadata": {},
     "output_type": "display_data"
    }
   ],
   "source": [
    "plt.figure(figsize=(12,8),dpi=300)\n",
    "nx.draw(S3.g,with_labels=True, arrows= True, pos=start_pos)\n",
    "plt.arrow(0,0,20,0)\n",
    "plt.arrow(0,0,0,20)\n",
    "#plt.text(0,0, 'CG', fontsize=24)\n",
    "plt.axis('equal')\n",
    "plt.title(\"Section in starting reference Frame\",fontsize=16);"
   ]
  },
  {
   "cell_type": "markdown",
   "metadata": {},
   "source": [
    "Expression of **Inertial properties** wrt Center of Gravity in with original rotation"
   ]
  },
  {
   "cell_type": "code",
   "execution_count": 13,
   "metadata": {
    "collapsed": false
   },
   "outputs": [
    {
     "data": {
      "image/png": "[encoded data removed]",
      "text/latex": [
       "$$\\left ( \\frac{3 A}{2} h^{2}, \\quad \\frac{4 A}{3} \\left(a^{2} + a b + b^{2}\\right), \\quad 0, \\quad 0\\right )$$"
      ],
      "text/plain": [
       "⎛     2      ⎛ 2          2⎞      ⎞\n",
       "⎜3⋅A⋅h   4⋅A⋅⎝a  + a⋅b + b ⎠      ⎟\n",
       "⎜──────, ───────────────────, 0, 0⎟\n",
       "⎝  2              3               ⎠"
      ]
     },
     "execution_count": 13,
     "metadata": {},
     "output_type": "execute_result"
    }
   ],
   "source": [
    "S3.Ixx0, S3.Iyy0, S3.Ixy0, S3.α0"
   ]
  },
  {
   "cell_type": "markdown",
   "metadata": {},
   "source": [
    "## Plot of **S3** section in inertial reference Frame"
   ]
  },
  {
   "cell_type": "markdown",
   "metadata": {},
   "source": [
    "Section is plotted wrt **center of gravity** and rotated (if necessary) so that *x* and *y* are principal axes.\n",
    "**Center of Gravity** and **Shear Center** are drawn"
   ]
  },
  {
   "cell_type": "code",
   "execution_count": 14,
   "metadata": {
    "collapsed": true
   },
   "outputs": [],
   "source": [
    "positions={ii: [float(S3.g.node[ii]['pos'][i].subs(datav)) for i in range(2)] for ii in S3.g.nodes() }"
   ]
  },
  {
   "cell_type": "code",
   "execution_count": 15,
   "metadata": {
    "collapsed": false
   },
   "outputs": [
    {
     "data": {
      "image/png": "[encoded data removed]",
      "text/plain": [
       "<matplotlib.figure.Figure at 0x7fed288270f0>"
      ]
     },
     "metadata": {},
     "output_type": "display_data"
    }
   ],
   "source": [
    "x_ct, y_ct = S3.ct.subs(datav)\n",
    "\n",
    "plt.figure(figsize=(12,8),dpi=300)\n",
    "nx.draw(S3.g,with_labels=True, pos=positions)\n",
    "plt.plot([0],[0],'o',ms=12,label='CG')\n",
    "plt.plot([x_ct],[y_ct],'^',ms=12, label='SC')\n",
    "#plt.text(0,0, 'CG', fontsize=24)\n",
    "#plt.text(x_ct,y_ct, 'SC', fontsize=24)\n",
    "plt.legend(loc='lower right', shadow=True)\n",
    "plt.axis('equal')\n",
    "plt.title(\"Section in pricipal reference Frame\",fontsize=16);"
   ]
  },
  {
   "cell_type": "markdown",
   "metadata": {},
   "source": [
    "Expression of **inertial properties** in *principal reference frame*"
   ]
  },
  {
   "cell_type": "code",
   "execution_count": 16,
   "metadata": {
    "collapsed": false
   },
   "outputs": [
    {
     "data": {
      "image/png": "[encoded data removed]",
      "text/latex": [
       "$$\\left ( \\frac{3 A}{2} h^{2}, \\quad \\frac{4 A}{3} \\left(a^{2} + a b + b^{2}\\right), \\quad 0, \\quad 0\\right )$$"
      ],
      "text/plain": [
       "⎛     2      ⎛ 2          2⎞      ⎞\n",
       "⎜3⋅A⋅h   4⋅A⋅⎝a  + a⋅b + b ⎠      ⎟\n",
       "⎜──────, ───────────────────, 0, 0⎟\n",
       "⎝  2              3               ⎠"
      ]
     },
     "execution_count": 16,
     "metadata": {},
     "output_type": "execute_result"
    }
   ],
   "source": [
    "S3.Ixx, S3.Iyy, S3.Ixy, S3.θ"
   ]
  },
  {
   "cell_type": "markdown",
   "metadata": {},
   "source": [
    "## **Shear center** expression "
   ]
  },
  {
   "cell_type": "code",
   "execution_count": 17,
   "metadata": {
    "collapsed": false
   },
   "outputs": [
    {
     "data": {
      "image/png": "[encoded data removed]",
      "text/latex": [
       "$$\\left[\\begin{matrix}0\\\\0\\end{matrix}\\right]$$"
      ],
      "text/plain": [
       "⎡0⎤\n",
       "⎢ ⎥\n",
       "⎣0⎦"
      ]
     },
     "execution_count": 17,
     "metadata": {},
     "output_type": "execute_result"
    }
   ],
   "source": [
    "S3.ct"
   ]
  },
  {
   "cell_type": "markdown",
   "metadata": {},
   "source": [
    "## Loops detection"
   ]
  },
  {
   "cell_type": "code",
   "execution_count": 18,
   "metadata": {
    "collapsed": false
   },
   "outputs": [
    {
     "data": {
      "image/png": "[encoded data removed]",
      "text/latex": [
       "$$\\left [ \\left [ 3, \\quad 4, \\quad 5, \\quad 6, \\quad 3\\right ], \\quad \\left [ 2, \\quad 3, \\quad 6, \\quad 1, \\quad 2\\right ]\\right ]$$"
      ],
      "text/plain": [
       "[[3, 4, 5, 6, 3], [2, 3, 6, 1, 2]]"
      ]
     },
     "execution_count": 18,
     "metadata": {},
     "output_type": "execute_result"
    }
   ],
   "source": [
    "S3.cycles"
   ]
  },
  {
   "cell_type": "markdown",
   "metadata": {
    "collapsed": true
   },
   "source": [
    "## Compute axial loads in Stringers in **S3**"
   ]
  },
  {
   "cell_type": "markdown",
   "metadata": {},
   "source": [
    "Set **loads** on the section:\n",
    "\n",
    "**Example 1**: _shear_ in **y** direction and _bending moment_ in **x** direction"
   ]
  },
  {
   "cell_type": "code",
   "execution_count": 19,
   "metadata": {
    "collapsed": false
   },
   "outputs": [],
   "source": [
    "Tx, Ty, Nz, Mx, My, Mz, F, ry, ry, mz = sympy.symbols('T_x T_y N_z M_x M_y M_z F r_y r_x m_z')\n",
    "S3.set_loads(_Tx=0, _Ty=Ty, _Nz=0, _Mx=Mx, _My=0, _Mz=0)"
   ]
  },
  {
   "cell_type": "markdown",
   "metadata": {},
   "source": [
    "Compute _axial loads_ in **stringers** and _shear flows_ in **panels**"
   ]
  },
  {
   "cell_type": "code",
   "execution_count": 20,
   "metadata": {
    "collapsed": false
   },
   "outputs": [],
   "source": [
    "S3.compute_stringer_actions()\n",
    "S3.compute_panel_fluxes();"
   ]
  },
  {
   "cell_type": "markdown",
   "metadata": {},
   "source": [
    "Expression of matrix **A**:\n",
    "\n",
    "- second to last row: Mz equilibrium\n",
    "- last row: equivalence of rotations in the form: $\\dot{\\theta_1} - \\dot{\\theta_2} = 0$"
   ]
  },
  {
   "cell_type": "code",
   "execution_count": 21,
   "metadata": {
    "collapsed": false
   },
   "outputs": [
    {
     "data": {
      "image/png": "[encoded data removed]",
      "text/latex": [
       "$$\\left[\\begin{matrix}1 & 0 & 0 & 0 & 0 & 0 & -1\\\\-1 & 1 & 0 & 0 & 0 & 0 & 0\\\\0 & -1 & 1 & 1 & 0 & 0 & 0\\\\0 & 0 & -1 & 0 & 1 & 0 & 0\\\\0 & 0 & 0 & 0 & -1 & 1 & 0\\\\\\frac{h}{3} \\left(2 a + b\\right) & \\frac{a h}{2} & \\frac{b h}{2} & \\frac{h}{3} \\left(a - b\\right) & \\frac{h}{3} \\left(a + 2 b\\right) & \\frac{b h}{2} & \\frac{a h}{2}\\\\- \\frac{1}{2 a t} & - \\frac{1}{2 h t} & \\frac{1}{2 h t} & - \\frac{a + b}{2 a b t} & \\frac{1}{2 b t} & \\frac{1}{2 h t} & - \\frac{1}{2 h t}\\end{matrix}\\right]$$"
      ],
      "text/plain": [
       "⎡     1         0      0        0           0         0     -1  ⎤\n",
       "⎢                                                               ⎥\n",
       "⎢    -1         1      0        0           0         0      0  ⎥\n",
       "⎢                                                               ⎥\n",
       "⎢     0        -1      1        1           0         0      0  ⎥\n",
       "⎢                                                               ⎥\n",
       "⎢     0         0     -1        0           1         0      0  ⎥\n",
       "⎢                                                               ⎥\n",
       "⎢     0         0      0        0          -1         1      0  ⎥\n",
       "⎢                                                               ⎥\n",
       "⎢h⋅(2⋅a + b)   a⋅h    b⋅h   h⋅(a - b)  h⋅(a + 2⋅b)   b⋅h    a⋅h ⎥\n",
       "⎢───────────   ───    ───   ─────────  ───────────   ───    ─── ⎥\n",
       "⎢     3         2      2        3           3         2      2  ⎥\n",
       "⎢                                                               ⎥\n",
       "⎢    -1        -1      1    -(a + b)        1         1     -1  ⎥\n",
       "⎢   ─────     ─────  ─────  ─────────     ─────     ─────  ─────⎥\n",
       "⎣   2⋅a⋅t     2⋅h⋅t  2⋅h⋅t   2⋅a⋅b⋅t      2⋅b⋅t     2⋅h⋅t  2⋅h⋅t⎦"
      ]
     },
     "execution_count": 21,
     "metadata": {},
     "output_type": "execute_result"
    }
   ],
   "source": [
    "sympy.simplify(S3.A)"
   ]
  },
  {
   "cell_type": "markdown",
   "metadata": {},
   "source": [
    "Expression of **T**"
   ]
  },
  {
   "cell_type": "code",
   "execution_count": 22,
   "metadata": {
    "collapsed": false
   },
   "outputs": [
    {
     "data": {
      "image/png": "[encoded data removed]",
      "text/latex": [
       "$$\\left[\\begin{matrix}- \\frac{T_{y}}{3 h}\\\\\\frac{T_{y}}{3 h}\\\\\\frac{T_{y}}{3 h}\\\\\\frac{T_{y}}{3 h}\\\\- \\frac{T_{y}}{3 h}\\\\0\\\\0\\end{matrix}\\right]$$"
      ],
      "text/plain": [
       "⎡-T_y ⎤\n",
       "⎢─────⎥\n",
       "⎢ 3⋅h ⎥\n",
       "⎢     ⎥\n",
       "⎢ T_y ⎥\n",
       "⎢ ─── ⎥\n",
       "⎢ 3⋅h ⎥\n",
       "⎢     ⎥\n",
       "⎢ T_y ⎥\n",
       "⎢ ─── ⎥\n",
       "⎢ 3⋅h ⎥\n",
       "⎢     ⎥\n",
       "⎢ T_y ⎥\n",
       "⎢ ─── ⎥\n",
       "⎢ 3⋅h ⎥\n",
       "⎢     ⎥\n",
       "⎢-T_y ⎥\n",
       "⎢─────⎥\n",
       "⎢ 3⋅h ⎥\n",
       "⎢     ⎥\n",
       "⎢  0  ⎥\n",
       "⎢     ⎥\n",
       "⎣  0  ⎦"
      ]
     },
     "execution_count": 22,
     "metadata": {},
     "output_type": "execute_result"
    }
   ],
   "source": [
    "sympy.simplify(S3.T)"
   ]
  },
  {
   "cell_type": "markdown",
   "metadata": {},
   "source": [
    "## Axial loads"
   ]
  },
  {
   "cell_type": "code",
   "execution_count": 23,
   "metadata": {
    "collapsed": false
   },
   "outputs": [
    {
     "data": {
      "image/png": "[encoded data removed]",
      "text/latex": [
       "$$\\left \\{ 1 : \\frac{M_{x}}{3 h}, \\quad 2 : - \\frac{M_{x}}{3 h}, \\quad 3 : - \\frac{M_{x}}{3 h}, \\quad 4 : - \\frac{M_{x}}{3 h}, \\quad 5 : \\frac{M_{x}}{3 h}, \\quad 6 : \\frac{M_{x}}{3 h}\\right \\}$$"
      ],
      "text/plain": [
       "⎧    Mₓ     -Mₓ      -Mₓ      -Mₓ       Mₓ      Mₓ⎫\n",
       "⎨1: ───, 2: ────, 3: ────, 4: ────, 5: ───, 6: ───⎬\n",
       "⎩   3⋅h     3⋅h      3⋅h      3⋅h      3⋅h     3⋅h⎭"
      ]
     },
     "execution_count": 23,
     "metadata": {},
     "output_type": "execute_result"
    }
   ],
   "source": [
    "S3.N"
   ]
  },
  {
   "cell_type": "markdown",
   "metadata": {
    "collapsed": false
   },
   "source": [
    "## Shear flows"
   ]
  },
  {
   "cell_type": "code",
   "execution_count": 24,
   "metadata": {
    "collapsed": false
   },
   "outputs": [
    {
     "data": {
      "image/png": "[encoded data removed]",
      "text/latex": [
       "$$\\left \\{ \\left ( 1, \\quad 2\\right ) : - \\frac{T_{y}}{3 h}, \\quad \\left ( 2, \\quad 3\\right ) : 0, \\quad \\left ( 3, \\quad 4\\right ) : 0, \\quad \\left ( 3, \\quad 6\\right ) : \\frac{T_{y}}{3 h}, \\quad \\left ( 4, \\quad 5\\right ) : \\frac{T_{y}}{3 h}, \\quad \\left ( 5, \\quad 6\\right ) : 0, \\quad \\left ( 6, \\quad 1\\right ) : 0\\right \\}$$"
      ],
      "text/plain": [
       "⎧        -T_y                                 T_y          T_y                \n",
       "⎨(1, 2): ─────, (2, 3): 0, (3, 4): 0, (3, 6): ───, (4, 5): ───, (5, 6): 0, (6,\n",
       "⎩         3⋅h                                 3⋅h          3⋅h                \n",
       "\n",
       "      ⎫\n",
       " 1): 0⎬\n",
       "      ⎭"
      ]
     },
     "execution_count": 24,
     "metadata": {},
     "output_type": "execute_result"
    }
   ],
   "source": [
    "sympy.simplify(S3.q)"
   ]
  },
  {
   "cell_type": "markdown",
   "metadata": {
    "collapsed": false
   },
   "source": [
    "**Example 2**: _twisting moment_ in **z** direction"
   ]
  },
  {
   "cell_type": "code",
   "execution_count": 25,
   "metadata": {
    "collapsed": true
   },
   "outputs": [],
   "source": [
    "S3.set_loads(_Tx=0, _Ty=0, _Nz=0, _Mx=0, _My=0, _Mz=Mz)\n",
    "S3.compute_stringer_actions()\n",
    "S3.compute_panel_fluxes();"
   ]
  },
  {
   "cell_type": "code",
   "execution_count": 26,
   "metadata": {
    "collapsed": false
   },
   "outputs": [
    {
     "data": {
      "image/png": "[encoded data removed]",
      "text/latex": [
       "$$\\left \\{ 1 : 0, \\quad 2 : 0, \\quad 3 : 0, \\quad 4 : 0, \\quad 5 : 0, \\quad 6 : 0\\right \\}$$"
      ],
      "text/plain": [
       "{1: 0, 2: 0, 3: 0, 4: 0, 5: 0, 6: 0}"
      ]
     },
     "execution_count": 26,
     "metadata": {},
     "output_type": "execute_result"
    }
   ],
   "source": [
    "S3.N"
   ]
  },
  {
   "cell_type": "code",
   "execution_count": 27,
   "metadata": {
    "collapsed": false
   },
   "outputs": [
    {
     "data": {
      "image/png": "[encoded data removed]",
      "text/latex": [
       "$$\\left \\{ \\left ( 1, \\quad 2\\right ) : \\frac{M_{z} \\left(2 a b + 2 a h + b h\\right)}{4 h \\left(a^{2} b + a^{2} h + a b^{2} + a b h + b^{2} h\\right)}, \\quad \\left ( 2, \\quad 3\\right ) : \\frac{M_{z} \\left(2 a b + 2 a h + b h\\right)}{4 h \\left(a^{2} b + a^{2} h + a b^{2} + a b h + b^{2} h\\right)}, \\quad \\left ( 3, \\quad 4\\right ) : \\frac{M_{z} \\left(2 a b + a h + 2 b h\\right)}{4 h \\left(a^{2} b + a^{2} h + a b^{2} + a b h + b^{2} h\\right)}, \\quad \\left ( 3, \\quad 6\\right ) : \\frac{M_{z} \\left(a - b\\right)}{4 a^{2} b + 4 a^{2} h + 4 a b^{2} + 4 a b h + 4 b^{2} h}, \\quad \\left ( 4, \\quad 5\\right ) : \\frac{M_{z} \\left(2 a b + a h + 2 b h\\right)}{4 h \\left(a^{2} b + a^{2} h + a b^{2} + a b h + b^{2} h\\right)}, \\quad \\left ( 5, \\quad 6\\right ) : \\frac{M_{z} \\left(2 a b + a h + 2 b h\\right)}{4 h \\left(a^{2} b + a^{2} h + a b^{2} + a b h + b^{2} h\\right)}, \\quad \\left ( 6, \\quad 1\\right ) : \\frac{M_{z} \\left(2 a b + 2 a h + b h\\right)}{4 h \\left(a^{2} b + a^{2} h + a b^{2} + a b h + b^{2} h\\right)}\\right \\}$$"
      ],
      "text/plain": [
       "⎧               M_z⋅(2⋅a⋅b + 2⋅a⋅h + b⋅h)                        M_z⋅(2⋅a⋅b + \n",
       "⎪(1, 2): ───────────────────────────────────────, (2, 3): ────────────────────\n",
       "⎨            ⎛ 2      2        2            2  ⎞              ⎛ 2      2      \n",
       "⎪        4⋅h⋅⎝a ⋅b + a ⋅h + a⋅b  + a⋅b⋅h + b ⋅h⎠          4⋅h⋅⎝a ⋅b + a ⋅h + a\n",
       "⎩                                                                             \n",
       "\n",
       "2⋅a⋅h + b⋅h)                        M_z⋅(2⋅a⋅b + a⋅h + 2⋅b⋅h)                 \n",
       "───────────────────, (3, 4): ───────────────────────────────────────, (3, 6): \n",
       "  2            2  ⎞              ⎛ 2      2        2            2  ⎞          \n",
       "⋅b  + a⋅b⋅h + b ⋅h⎠          4⋅h⋅⎝a ⋅b + a ⋅h + a⋅b  + a⋅b⋅h + b ⋅h⎠          \n",
       "                                                                              \n",
       "\n",
       "             M_z⋅(a - b)                              M_z⋅(2⋅a⋅b + a⋅h + 2⋅b⋅h\n",
       "─────────────────────────────────────, (4, 5): ───────────────────────────────\n",
       "  ⎛ 2      2        2            2  ⎞              ⎛ 2      2        2        \n",
       "4⋅⎝a ⋅b + a ⋅h + a⋅b  + a⋅b⋅h + b ⋅h⎠          4⋅h⋅⎝a ⋅b + a ⋅h + a⋅b  + a⋅b⋅h\n",
       "                                                                              \n",
       "\n",
       ")                        M_z⋅(2⋅a⋅b + a⋅h + 2⋅b⋅h)                        M_z⋅\n",
       "────────, (5, 6): ───────────────────────────────────────, (6, 1): ───────────\n",
       "    2  ⎞              ⎛ 2      2        2            2  ⎞              ⎛ 2    \n",
       " + b ⋅h⎠          4⋅h⋅⎝a ⋅b + a ⋅h + a⋅b  + a⋅b⋅h + b ⋅h⎠          4⋅h⋅⎝a ⋅b +\n",
       "                                                                              \n",
       "\n",
       "(2⋅a⋅b + 2⋅a⋅h + b⋅h)       ⎫\n",
       "────────────────────────────⎪\n",
       "  2        2            2  ⎞⎬\n",
       " a ⋅h + a⋅b  + a⋅b⋅h + b ⋅h⎠⎪\n",
       "                            ⎭"
      ]
     },
     "execution_count": 27,
     "metadata": {},
     "output_type": "execute_result"
    }
   ],
   "source": [
    "S3.q"
   ]
  },
  {
   "cell_type": "markdown",
   "metadata": {},
   "source": [
    "Set **loads** on the section:\n",
    "\n",
    "**Example 3**: _shear_ in **x** direction and _bending moment_ in **y** direction"
   ]
  },
  {
   "cell_type": "code",
   "execution_count": 28,
   "metadata": {
    "collapsed": true
   },
   "outputs": [],
   "source": [
    "S3.set_loads(_Tx=Tx, _Ty=0, _Nz=0, _Mx=0, _My=My, _Mz=0)\n",
    "S3.compute_stringer_actions()\n",
    "S3.compute_panel_fluxes();"
   ]
  },
  {
   "cell_type": "code",
   "execution_count": 29,
   "metadata": {
    "collapsed": false
   },
   "outputs": [
    {
     "data": {
      "image/png": "[encoded data removed]",
      "text/latex": [
       "$$\\left \\{ 1 : - \\frac{3 M_{y} \\left(- \\frac{2 a}{3} - \\frac{b}{3}\\right)}{4 a^{2} + 4 a b + 4 b^{2}}, \\quad 2 : - \\frac{3 M_{y} \\left(- \\frac{2 a}{3} - \\frac{b}{3}\\right)}{4 a^{2} + 4 a b + 4 b^{2}}, \\quad 3 : - \\frac{3 M_{y} \\left(\\frac{a}{3} - \\frac{b}{3}\\right)}{4 a^{2} + 4 a b + 4 b^{2}}, \\quad 4 : - \\frac{3 M_{y} \\left(\\frac{a}{3} + \\frac{2 b}{3}\\right)}{4 a^{2} + 4 a b + 4 b^{2}}, \\quad 5 : - \\frac{3 M_{y} \\left(\\frac{a}{3} + \\frac{2 b}{3}\\right)}{4 a^{2} + 4 a b + 4 b^{2}}, \\quad 6 : - \\frac{3 M_{y} \\left(\\frac{a}{3} - \\frac{b}{3}\\right)}{4 a^{2} + 4 a b + 4 b^{2}}\\right \\}$$"
      ],
      "text/plain": [
       "⎧          ⎛  2⋅a   b⎞             ⎛  2⋅a   b⎞              ⎛a   b⎞           \n",
       "⎪   -3⋅M_y⋅⎜- ─── - ─⎟      -3⋅M_y⋅⎜- ─── - ─⎟       -3⋅M_y⋅⎜─ - ─⎟       -3⋅M\n",
       "⎪          ⎝   3    3⎠             ⎝   3    3⎠              ⎝3   3⎠           \n",
       "⎨1: ───────────────────, 2: ───────────────────, 3: ─────────────────, 4: ────\n",
       "⎪      ⎛ 2          2⎞         ⎛ 2          2⎞        ⎛ 2          2⎞       ⎛ \n",
       "⎪    4⋅⎝a  + a⋅b + b ⎠       4⋅⎝a  + a⋅b + b ⎠      4⋅⎝a  + a⋅b + b ⎠     4⋅⎝a\n",
       "⎩                                                                             \n",
       "\n",
       "   ⎛a   2⋅b⎞             ⎛a   2⋅b⎞              ⎛a   b⎞  ⎫\n",
       "_y⋅⎜─ + ───⎟      -3⋅M_y⋅⎜─ + ───⎟       -3⋅M_y⋅⎜─ - ─⎟  ⎪\n",
       "   ⎝3    3 ⎠             ⎝3    3 ⎠              ⎝3   3⎠  ⎪\n",
       "─────────────, 5: ─────────────────, 6: ─────────────────⎬\n",
       "2          2⎞       ⎛ 2          2⎞       ⎛ 2          2⎞⎪\n",
       "  + a⋅b + b ⎠     4⋅⎝a  + a⋅b + b ⎠     4⋅⎝a  + a⋅b + b ⎠⎪\n",
       "                                                         ⎭"
      ]
     },
     "execution_count": 29,
     "metadata": {},
     "output_type": "execute_result"
    }
   ],
   "source": [
    "S3.N"
   ]
  },
  {
   "cell_type": "code",
   "execution_count": 30,
   "metadata": {
    "collapsed": false
   },
   "outputs": [
    {
     "data": {
      "image/png": "[encoded data removed]",
      "text/latex": [
       "$$\\left \\{ \\left ( 1, \\quad 2\\right ) : 0, \\quad \\left ( 2, \\quad 3\\right ) : \\frac{T_{x} \\left(2 a + b\\right)}{4 a^{2} + 4 a b + 4 b^{2}}, \\quad \\left ( 3, \\quad 4\\right ) : \\frac{T_{x} \\left(a + 2 b\\right)}{4 a^{2} + 4 a b + 4 b^{2}}, \\quad \\left ( 3, \\quad 6\\right ) : 0, \\quad \\left ( 4, \\quad 5\\right ) : 0, \\quad \\left ( 5, \\quad 6\\right ) : - \\frac{T_{x} \\left(a + 2 b\\right)}{4 a^{2} + 4 a b + 4 b^{2}}, \\quad \\left ( 6, \\quad 1\\right ) : - \\frac{T_{x} \\left(2 a + b\\right)}{4 a^{2} + 4 a b + 4 b^{2}}\\right \\}$$"
      ],
      "text/plain": [
       "⎧                      Tₓ⋅(2⋅a + b)               Tₓ⋅(a + 2⋅b)                \n",
       "⎪(1, 2): 0, (2, 3): ─────────────────, (3, 4): ─────────────────, (3, 6): 0, (\n",
       "⎨                     ⎛ 2          2⎞            ⎛ 2          2⎞              \n",
       "⎪                   4⋅⎝a  + a⋅b + b ⎠          4⋅⎝a  + a⋅b + b ⎠              \n",
       "⎩                                                                             \n",
       "\n",
       "                     -Tₓ⋅(a + 2⋅b)                -Tₓ⋅(2⋅a + b)   ⎫\n",
       "4, 5): 0, (5, 6): ───────────────────, (6, 1): ───────────────────⎪\n",
       "                     2              2             2              2⎬\n",
       "                  4⋅a  + 4⋅a⋅b + 4⋅b           4⋅a  + 4⋅a⋅b + 4⋅b ⎪\n",
       "                                                                  ⎭"
      ]
     },
     "execution_count": 30,
     "metadata": {},
     "output_type": "execute_result"
    }
   ],
   "source": [
    "S3.q"
   ]
  },
  {
   "cell_type": "markdown",
   "metadata": {},
   "source": [
    "Verify that $$q_i \\cdot l_i = T_x$$"
   ]
  },
  {
   "cell_type": "code",
   "execution_count": 31,
   "metadata": {
    "collapsed": false
   },
   "outputs": [
    {
     "data": {
      "image/png": "[encoded data removed]",
      "text/latex": [
       "$$T_{x}$$"
      ],
      "text/plain": [
       "Tₓ"
      ]
     },
     "execution_count": 31,
     "metadata": {},
     "output_type": "execute_result"
    }
   ],
   "source": [
    "sympy.simplify(S3.q[(2,3)]*a+S3.q[(3,4)]*b-S3.q[(5,6)]*b-S3.q[(6,1)]*a)"
   ]
  },
  {
   "cell_type": "markdown",
   "metadata": {
    "collapsed": false
   },
   "source": [
    "## Torsional moment of inertia"
   ]
  },
  {
   "cell_type": "code",
   "execution_count": 32,
   "metadata": {
    "collapsed": false
   },
   "outputs": [
    {
     "data": {
      "image/png": "[encoded data removed]",
      "text/latex": [
       "$$\\left[\\begin{matrix}\\frac{8 h^{2} t \\left(a^{2} b + a^{2} h + a b^{2} + a b h + b^{2} h\\right)}{4 a b + 4 a h + 4 b h + 3 h^{2}}\\end{matrix}\\right]$$"
      ],
      "text/plain": [
       "⎡   2   ⎛ 2      2        2            2  ⎞⎤\n",
       "⎢8⋅h ⋅t⋅⎝a ⋅b + a ⋅h + a⋅b  + a⋅b⋅h + b ⋅h⎠⎥\n",
       "⎢──────────────────────────────────────────⎥\n",
       "⎢                                  2       ⎥\n",
       "⎣       4⋅a⋅b + 4⋅a⋅h + 4⋅b⋅h + 3⋅h        ⎦"
      ]
     },
     "execution_count": 32,
     "metadata": {},
     "output_type": "execute_result"
    }
   ],
   "source": [
    "S3.compute_Jt()\n",
    "S3.Jt"
   ]
  },
  {
   "cell_type": "code",
   "execution_count": null,
   "metadata": {
    "collapsed": true
   },
   "outputs": [],
   "source": []
  }
 ],
 "metadata": {
  "kernelspec": {
   "display_name": "Python 3",
   "language": "python",
   "name": "python3"
  },
  "language_info": {
   "codemirror_mode": {
    "name": "ipython",
    "version": 3
   },
   "file_extension": ".py",
   "mimetype": "text/x-python",
   "name": "python",
   "nbconvert_exporter": "python",
   "pygments_lexer": "ipython3",
   "version": "3.5.1"
  }
 },
 "nbformat": 4,
 "nbformat_minor": 0
}
