{
 "cells": [
  {
   "cell_type": "markdown",
   "metadata": {},
   "source": [
    "# Semi-Monocoque Theory"
   ]
  },
  {
   "cell_type": "code",
   "execution_count": 1,
   "metadata": {
    "collapsed": false
   },
   "outputs": [],
   "source": [
    "from pint import UnitRegistry\n",
    "import sympy\n",
    "import networkx as nx\n",
    "import numpy as np\n",
    "import matplotlib.pyplot as plt\n",
    "import sys\n",
    "%matplotlib inline\n",
    "from IPython.display import display"
   ]
  },
  {
   "cell_type": "markdown",
   "metadata": {},
   "source": [
    "Import **Section** class, which contains all calculations"
   ]
  },
  {
   "cell_type": "code",
   "execution_count": 2,
   "metadata": {
    "collapsed": false
   },
   "outputs": [],
   "source": [
    "from Section import Section"
   ]
  },
  {
   "cell_type": "markdown",
   "metadata": {},
   "source": [
    "Initialization of **sympy** symbolic tool and **pint** for dimension analysis (not really implemented rn as not directly compatible with sympy)"
   ]
  },
  {
   "cell_type": "code",
   "execution_count": 3,
   "metadata": {
    "collapsed": false
   },
   "outputs": [],
   "source": [
    "ureg = UnitRegistry()\n",
    "sympy.init_printing()"
   ]
  },
  {
   "cell_type": "markdown",
   "metadata": {},
   "source": [
    "Define **sympy** parameters used for geometric description of sections"
   ]
  },
  {
   "cell_type": "code",
   "execution_count": 4,
   "metadata": {
    "collapsed": false
   },
   "outputs": [],
   "source": [
    "A, A0, t, t0, a, b, h, L = sympy.symbols('A A_0 t t_0 a b h L', positive=True)"
   ]
  },
  {
   "cell_type": "markdown",
   "metadata": {},
   "source": [
    "We also define numerical values for each **symbol** in order to plot scaled section and perform calculations"
   ]
  },
  {
   "cell_type": "code",
   "execution_count": 5,
   "metadata": {
    "collapsed": true
   },
   "outputs": [],
   "source": [
    "values = [(A, 400 * ureg.millimeter**2),(A0, 250  * ureg.millimeter**2),(a, 400 * ureg.millimeter), \\\n",
    "          (b, 300 * ureg.millimeter),(h, 150 * ureg.millimeter),(L, 650 * ureg.millimeter),(t, 3 * ureg.millimeter)]\n",
    "datav = [(v[0],v[1].magnitude) for v in values]"
   ]
  },
  {
   "cell_type": "markdown",
   "metadata": {
    "collapsed": false
   },
   "source": [
    "# Multiconnected Section"
   ]
  },
  {
   "cell_type": "markdown",
   "metadata": {},
   "source": [
    "Define graph describing the section:\n",
    "\n",
    "1) **stringers** are **nodes** with parameters:\n",
    "- **x** coordinate\n",
    "- **y** coordinate\n",
    "- **Area**\n",
    "\n",
    "2) **panels** are **oriented edges** with parameters:\n",
    "- **thickness**\n",
    "- **lenght** which is automatically calculated"
   ]
  },
  {
   "cell_type": "code",
   "execution_count": 7,
   "metadata": {
    "collapsed": false
   },
   "outputs": [],
   "source": [
    "stringers = {1:[(4*a,2*a),A],\n",
    "             2:[(a,2*a),A],\n",
    "             3:[(sympy.Integer(0),a),A],\n",
    "             4:[(a,sympy.Integer(0)),A],\n",
    "             5:[(2*a,a),A],\n",
    "             6:[(4*a,sympy.Integer(0)),A]}\n",
    "\n",
    "panels = {(1,2):t,\n",
    "          (2,3):t,\n",
    "          (3,4):t,\n",
    "          (4,5):t,\n",
    "          (5,2):t,\n",
    "          (4,6):t,\n",
    "          (6,1):t}"
   ]
  },
  {
   "cell_type": "markdown",
   "metadata": {},
   "source": [
    "Define section and perform first calculations"
   ]
  },
  {
   "cell_type": "code",
   "execution_count": 8,
   "metadata": {
    "collapsed": false
   },
   "outputs": [],
   "source": [
    "S3 = Section(stringers, panels)"
   ]
  },
  {
   "cell_type": "markdown",
   "metadata": {},
   "source": [
    "As we need to compute $x_{sc}$, we have to perform\n",
    "\n",
    "$$A \\cdot q_{ext} = T$$\n",
    "\n",
    "where:\n",
    "- **A** is a matrix with **number of nodes + number of loops** rows and **number of edges +1** columns (it is square)\n",
    "- **q** is a column vector of unknowns: **#edges fluxes** and **shear center** coordinate\n",
    "- **T** is the vector of known terms: $-\\frac{T_y}{J_x} \\cdot S_{x_i}$ or $-\\frac{T_x}{J_y} \\cdot S_{y_i}$ for *n-1* nodes and the rest are 0"
   ]
  },
  {
   "cell_type": "markdown",
   "metadata": {},
   "source": [
    "**Expression of A**"
   ]
  },
  {
   "cell_type": "code",
   "execution_count": 9,
   "metadata": {
    "collapsed": false
   },
   "outputs": [
    {
     "data": {
      "image/png": "[encoded data removed]",
      "text/latex": [
       "$$\\left[\\begin{matrix}1 & 0 & 0 & 0 & 0 & 0 & -1 & 0\\\\-1 & 1 & 0 & 0 & 0 & -1 & 0 & 0\\\\0 & -1 & 1 & 0 & 0 & 0 & 0 & 0\\\\0 & 0 & -1 & 1 & 1 & 0 & 0 & 0\\\\0 & 0 & 0 & -1 & 0 & 1 & 0 & 0\\\\3 a^{2} & 2 a^{2} & 2 a^{2} & 0 & 3 a^{2} & 0 & 4 a^{2} & -1\\\\\\frac{3 a}{t} & \\frac{\\sqrt{2} a}{t} & \\frac{\\sqrt{2} a}{t} & 0 & \\frac{3 a}{t} & 0 & \\frac{2 a}{t} & 0\\\\\\frac{3 a}{t} & 0 & 0 & - \\frac{\\sqrt{2} a}{t} & \\frac{3 a}{t} & - \\frac{\\sqrt{2} a}{t} & \\frac{2 a}{t} & 0\\end{matrix}\\right]$$"
      ],
      "text/plain": [
       "⎡ 1       0        0         0       0        0       -1   0 ⎤\n",
       "⎢                                                            ⎥\n",
       "⎢ -1      1        0         0       0       -1       0    0 ⎥\n",
       "⎢                                                            ⎥\n",
       "⎢ 0      -1        1         0       0        0       0    0 ⎥\n",
       "⎢                                                            ⎥\n",
       "⎢ 0       0       -1         1       1        0       0    0 ⎥\n",
       "⎢                                                            ⎥\n",
       "⎢ 0       0        0        -1       0        1       0    0 ⎥\n",
       "⎢                                                            ⎥\n",
       "⎢   2      2        2                  2                2    ⎥\n",
       "⎢3⋅a    2⋅a      2⋅a         0      3⋅a       0      4⋅a   -1⎥\n",
       "⎢                                                            ⎥\n",
       "⎢        ___      ___                                        ⎥\n",
       "⎢3⋅a   ╲╱ 2 ⋅a  ╲╱ 2 ⋅a             3⋅a              2⋅a     ⎥\n",
       "⎢───   ───────  ───────      0      ───       0      ───   0 ⎥\n",
       "⎢ t       t        t                 t                t      ⎥\n",
       "⎢                                                            ⎥\n",
       "⎢                           ___              ___             ⎥\n",
       "⎢3⋅a                     -╲╱ 2 ⋅a   3⋅a   -╲╱ 2 ⋅a   2⋅a     ⎥\n",
       "⎢───      0        0     ─────────  ───   ─────────  ───   0 ⎥\n",
       "⎣ t                          t       t        t       t      ⎦"
      ]
     },
     "execution_count": 9,
     "metadata": {},
     "output_type": "execute_result"
    }
   ],
   "source": [
    "sympy.simplify(S3.A)"
   ]
  },
  {
   "cell_type": "markdown",
   "metadata": {},
   "source": [
    "**Expression of T**"
   ]
  },
  {
   "cell_type": "code",
   "execution_count": 10,
   "metadata": {
    "collapsed": false
   },
   "outputs": [
    {
     "data": {
      "image/png": "[encoded data removed]",
      "text/latex": [
       "$$\\left[\\begin{matrix}- \\frac{1}{4 a}\\\\- \\frac{1}{4 a}\\\\0\\\\\\frac{1}{4 a}\\\\0\\\\0\\\\0\\\\0\\end{matrix}\\right]$$"
      ],
      "text/plain": [
       "⎡-1 ⎤\n",
       "⎢───⎥\n",
       "⎢4⋅a⎥\n",
       "⎢   ⎥\n",
       "⎢-1 ⎥\n",
       "⎢───⎥\n",
       "⎢4⋅a⎥\n",
       "⎢   ⎥\n",
       "⎢ 0 ⎥\n",
       "⎢   ⎥\n",
       "⎢ 1 ⎥\n",
       "⎢───⎥\n",
       "⎢4⋅a⎥\n",
       "⎢   ⎥\n",
       "⎢ 0 ⎥\n",
       "⎢   ⎥\n",
       "⎢ 0 ⎥\n",
       "⎢   ⎥\n",
       "⎢ 0 ⎥\n",
       "⎢   ⎥\n",
       "⎣ 0 ⎦"
      ]
     },
     "execution_count": 10,
     "metadata": {},
     "output_type": "execute_result"
    }
   ],
   "source": [
    "sympy.simplify(S3.T)"
   ]
  },
  {
   "cell_type": "markdown",
   "metadata": {},
   "source": [
    "**Resulting fluxes and coordinate**"
   ]
  },
  {
   "cell_type": "code",
   "execution_count": 12,
   "metadata": {
    "collapsed": false
   },
   "outputs": [
    {
     "data": {
      "image/png": "[encoded data removed]",
      "text/latex": [
       "$$\\left[\\begin{matrix}- \\frac{- 9 \\sqrt{2} + 13}{4 a \\left(- 16 \\sqrt{2} + 27\\right)}\\\\\\frac{- \\frac{505 \\sqrt{2}}{8} + 115}{a \\left(-635 + 312 \\sqrt{2}\\right)}\\\\\\frac{- \\frac{505 \\sqrt{2}}{8} + 115}{a \\left(-635 + 312 \\sqrt{2}\\right)}\\\\\\frac{-135 + 80 \\sqrt{2}}{4 a \\left(-184 + 101 \\sqrt{2}\\right)}\\\\- \\frac{- 9 \\sqrt{2} + 13}{4 a \\left(- 16 \\sqrt{2} + 27\\right)}\\\\\\frac{-135 + 80 \\sqrt{2}}{4 a \\left(-184 + 101 \\sqrt{2}\\right)}\\\\\\frac{-14 + 7 \\sqrt{2}}{4 a \\left(-27 + 16 \\sqrt{2}\\right)}\\\\- \\frac{23 a}{62} + \\frac{15 a}{31} \\sqrt{2}\\end{matrix}\\right]$$"
      ],
      "text/plain": [
       "⎡   ⎛      ___     ⎞   ⎤\n",
       "⎢  -⎝- 9⋅╲╱ 2  + 13⎠   ⎥\n",
       "⎢───────────────────── ⎥\n",
       "⎢    ⎛       ___     ⎞ ⎥\n",
       "⎢4⋅a⋅⎝- 16⋅╲╱ 2  + 27⎠ ⎥\n",
       "⎢                      ⎥\n",
       "⎢          ___         ⎥\n",
       "⎢    505⋅╲╱ 2          ⎥\n",
       "⎢  - ───────── + 115   ⎥\n",
       "⎢        8             ⎥\n",
       "⎢ ──────────────────── ⎥\n",
       "⎢   ⎛             ___⎞ ⎥\n",
       "⎢ a⋅⎝-635 + 312⋅╲╱ 2 ⎠ ⎥\n",
       "⎢                      ⎥\n",
       "⎢          ___         ⎥\n",
       "⎢    505⋅╲╱ 2          ⎥\n",
       "⎢  - ───────── + 115   ⎥\n",
       "⎢        8             ⎥\n",
       "⎢ ──────────────────── ⎥\n",
       "⎢   ⎛             ___⎞ ⎥\n",
       "⎢ a⋅⎝-635 + 312⋅╲╱ 2 ⎠ ⎥\n",
       "⎢                      ⎥\n",
       "⎢    ⎛           ___⎞  ⎥\n",
       "⎢  5⋅⎝-27 + 16⋅╲╱ 2 ⎠  ⎥\n",
       "⎢──────────────────────⎥\n",
       "⎢    ⎛             ___⎞⎥\n",
       "⎢4⋅a⋅⎝-184 + 101⋅╲╱ 2 ⎠⎥\n",
       "⎢                      ⎥\n",
       "⎢   ⎛      ___     ⎞   ⎥\n",
       "⎢  -⎝- 9⋅╲╱ 2  + 13⎠   ⎥\n",
       "⎢───────────────────── ⎥\n",
       "⎢    ⎛       ___     ⎞ ⎥\n",
       "⎢4⋅a⋅⎝- 16⋅╲╱ 2  + 27⎠ ⎥\n",
       "⎢                      ⎥\n",
       "⎢    ⎛           ___⎞  ⎥\n",
       "⎢  5⋅⎝-27 + 16⋅╲╱ 2 ⎠  ⎥\n",
       "⎢──────────────────────⎥\n",
       "⎢    ⎛             ___⎞⎥\n",
       "⎢4⋅a⋅⎝-184 + 101⋅╲╱ 2 ⎠⎥\n",
       "⎢                      ⎥\n",
       "⎢      ⎛       ___⎞    ⎥\n",
       "⎢    7⋅⎝-2 + ╲╱ 2 ⎠    ⎥\n",
       "⎢ ──────────────────── ⎥\n",
       "⎢     ⎛           ___⎞ ⎥\n",
       "⎢ 4⋅a⋅⎝-27 + 16⋅╲╱ 2 ⎠ ⎥\n",
       "⎢                      ⎥\n",
       "⎢               ___    ⎥\n",
       "⎢   23⋅a   15⋅╲╱ 2 ⋅a  ⎥\n",
       "⎢ - ──── + ──────────  ⎥\n",
       "⎣    62        31      ⎦"
      ]
     },
     "execution_count": 12,
     "metadata": {},
     "output_type": "execute_result"
    }
   ],
   "source": [
    "sympy.simplify(S3.tempq)"
   ]
  },
  {
   "cell_type": "markdown",
   "metadata": {
    "collapsed": false
   },
   "source": [
    "## Plot of **S3** section in original reference frame"
   ]
  },
  {
   "cell_type": "code",
   "execution_count": 13,
   "metadata": {
    "collapsed": true
   },
   "outputs": [],
   "source": [
    "start_pos={ii: [float(S3.g.node[ii]['ip'][i].subs(datav)) for i in range(2)] for ii in S3.g.nodes() }"
   ]
  },
  {
   "cell_type": "code",
   "execution_count": 14,
   "metadata": {
    "collapsed": false
   },
   "outputs": [
    {
     "data": {
      "image/png": "[encoded data removed]",
      "text/plain": [
       "<matplotlib.figure.Figure at 0x7f2c0df2df98>"
      ]
     },
     "metadata": {},
     "output_type": "display_data"
    }
   ],
   "source": [
    "plt.figure(figsize=(12,8),dpi=300)\n",
    "nx.draw(S3.g,with_labels=True, arrows= True, pos=start_pos)\n",
    "plt.arrow(0,0,20,0)\n",
    "plt.arrow(0,0,0,20)\n",
    "#plt.text(0,0, 'CG', fontsize=24)\n",
    "plt.axis('equal')\n",
    "plt.title(\"Section in starting reference Frame\",fontsize=16);"
   ]
  },
  {
   "cell_type": "markdown",
   "metadata": {},
   "source": [
    "Expression of **Inertial properties** wrt Center of Gravity in with original rotation"
   ]
  },
  {
   "cell_type": "code",
   "execution_count": 15,
   "metadata": {
    "collapsed": false
   },
   "outputs": [
    {
     "data": {
      "image/png": "[encoded data removed]",
      "text/latex": [
       "$$\\left ( 4 A a^{2}, \\quad 14 A a^{2}, \\quad 0, \\quad 0\\right )$$"
      ],
      "text/plain": [
       "⎛     2        2      ⎞\n",
       "⎝4⋅A⋅a , 14⋅A⋅a , 0, 0⎠"
      ]
     },
     "execution_count": 15,
     "metadata": {},
     "output_type": "execute_result"
    }
   ],
   "source": [
    "S3.Ixx0, S3.Iyy0, S3.Ixy0, S3.α0"
   ]
  },
  {
   "cell_type": "markdown",
   "metadata": {},
   "source": [
    "## Plot of **S3** section in inertial reference Frame"
   ]
  },
  {
   "cell_type": "markdown",
   "metadata": {},
   "source": [
    "Section is plotted wrt **center of gravity** and rotated (if necessary) so that *x* and *y* are principal axes.\n",
    "**Center of Gravity** and **Shear Center** are drawn"
   ]
  },
  {
   "cell_type": "code",
   "execution_count": 16,
   "metadata": {
    "collapsed": true
   },
   "outputs": [],
   "source": [
    "positions={ii: [float(S3.g.node[ii]['pos'][i].subs(datav)) for i in range(2)] for ii in S3.g.nodes() }"
   ]
  },
  {
   "cell_type": "code",
   "execution_count": 17,
   "metadata": {
    "collapsed": false
   },
   "outputs": [
    {
     "data": {
      "image/png": "[encoded data removed]",
      "text/plain": [
       "<matplotlib.figure.Figure at 0x7f2c0df26438>"
      ]
     },
     "metadata": {},
     "output_type": "display_data"
    }
   ],
   "source": [
    "x_ct, y_ct = S3.ct.subs(datav)\n",
    "\n",
    "plt.figure(figsize=(12,8),dpi=300)\n",
    "nx.draw(S3.g,with_labels=True, pos=positions)\n",
    "plt.plot([0],[0],'o',ms=12,label='CG')\n",
    "plt.plot([x_ct],[y_ct],'^',ms=12, label='SC')\n",
    "#plt.text(0,0, 'CG', fontsize=24)\n",
    "#plt.text(x_ct,y_ct, 'SC', fontsize=24)\n",
    "plt.legend(loc='lower right', shadow=True)\n",
    "plt.axis('equal')\n",
    "plt.title(\"Section in pricipal reference Frame\",fontsize=16);"
   ]
  },
  {
   "cell_type": "markdown",
   "metadata": {},
   "source": [
    "Expression of **inertial properties** in *principal reference frame*"
   ]
  },
  {
   "cell_type": "code",
   "execution_count": 18,
   "metadata": {
    "collapsed": false
   },
   "outputs": [
    {
     "data": {
      "image/png": "[encoded data removed]",
      "text/latex": [
       "$$\\left ( 4 A a^{2}, \\quad 14 A a^{2}, \\quad 0, \\quad 0\\right )$$"
      ],
      "text/plain": [
       "⎛     2        2      ⎞\n",
       "⎝4⋅A⋅a , 14⋅A⋅a , 0, 0⎠"
      ]
     },
     "execution_count": 18,
     "metadata": {},
     "output_type": "execute_result"
    }
   ],
   "source": [
    "S3.Ixx, S3.Iyy, S3.Ixy, S3.θ"
   ]
  },
  {
   "cell_type": "markdown",
   "metadata": {},
   "source": [
    "## **Shear center** expression "
   ]
  },
  {
   "cell_type": "code",
   "execution_count": 19,
   "metadata": {
    "collapsed": false
   },
   "outputs": [
    {
     "data": {
      "image/png": "[encoded data removed]",
      "text/latex": [
       "$$\\left[\\begin{matrix}- \\frac{23 a}{62} + \\frac{15 a}{31} \\sqrt{2}\\\\0\\end{matrix}\\right]$$"
      ],
      "text/plain": [
       "⎡              ___  ⎤\n",
       "⎢  23⋅a   15⋅╲╱ 2 ⋅a⎥\n",
       "⎢- ──── + ──────────⎥\n",
       "⎢   62        31    ⎥\n",
       "⎢                   ⎥\n",
       "⎣         0         ⎦"
      ]
     },
     "execution_count": 19,
     "metadata": {},
     "output_type": "execute_result"
    }
   ],
   "source": [
    "S3.ct"
   ]
  },
  {
   "cell_type": "markdown",
   "metadata": {},
   "source": [
    "## Loops detection"
   ]
  },
  {
   "cell_type": "code",
   "execution_count": 20,
   "metadata": {
    "collapsed": false
   },
   "outputs": [
    {
     "data": {
      "image/png": "[encoded data removed]",
      "text/latex": [
       "$$\\left [ \\left [ 2, \\quad 5, \\quad 4, \\quad 6, \\quad 1, \\quad 2\\right ], \\quad \\left [ 2, \\quad 3, \\quad 4, \\quad 6, \\quad 1, \\quad 2\\right ]\\right ]$$"
      ],
      "text/plain": [
       "[[2, 5, 4, 6, 1, 2], [2, 3, 4, 6, 1, 2]]"
      ]
     },
     "execution_count": 20,
     "metadata": {},
     "output_type": "execute_result"
    }
   ],
   "source": [
    "S3.cycles"
   ]
  },
  {
   "cell_type": "markdown",
   "metadata": {
    "collapsed": false
   },
   "source": [
    "## Torsional moment of inertia"
   ]
  },
  {
   "cell_type": "code",
   "execution_count": 22,
   "metadata": {
    "collapsed": false
   },
   "outputs": [
    {
     "data": {
      "image/png": "[encoded data removed]",
      "text/latex": [
       "$$\\left[\\begin{matrix}\\frac{4 a^{3} t \\left(296 \\sqrt{2} + 1401\\right)}{69 \\sqrt{2} + 304}\\end{matrix}\\right]$$"
      ],
      "text/plain": [
       "⎡   3   ⎛      ___       ⎞⎤\n",
       "⎢4⋅a ⋅t⋅⎝296⋅╲╱ 2  + 1401⎠⎥\n",
       "⎢─────────────────────────⎥\n",
       "⎢           ___           ⎥\n",
       "⎣      69⋅╲╱ 2  + 304     ⎦"
      ]
     },
     "execution_count": 22,
     "metadata": {},
     "output_type": "execute_result"
    }
   ],
   "source": [
    "Tx, Ty, Nz, Mx, My, Mz, F, ry, ry, mz = sympy.symbols('T_x T_y N_z M_x M_y M_z F r_y r_x m_z')\n",
    "S3.set_loads(_Tx=0, _Ty=1, _Nz=0, _Mx=Mx, _My=0, _Mz=0)\n",
    "S3.compute_Jt()\n",
    "S3.Jt"
   ]
  },
  {
   "cell_type": "code",
   "execution_count": null,
   "metadata": {
    "collapsed": true
   },
   "outputs": [],
   "source": []
  }
 ],
 "metadata": {
  "kernelspec": {
   "display_name": "Python 3",
   "language": "python",
   "name": "python3"
  },
  "language_info": {
   "codemirror_mode": {
    "name": "ipython",
    "version": 3
   },
   "file_extension": ".py",
   "mimetype": "text/x-python",
   "name": "python",
   "nbconvert_exporter": "python",
   "pygments_lexer": "ipython3",
   "version": "3.5.1"
  }
 },
 "nbformat": 4,
 "nbformat_minor": 0
}
