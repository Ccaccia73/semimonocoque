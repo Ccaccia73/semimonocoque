{
 "cells": [
  {
   "cell_type": "markdown",
   "metadata": {},
   "source": [
    "# Semi-Monocoque Theory: corrective solutions"
   ]
  },
  {
   "cell_type": "code",
   "execution_count": 1,
   "metadata": {
    "collapsed": false
   },
   "outputs": [],
   "source": [
    "from pint import UnitRegistry\n",
    "import sympy\n",
    "import networkx as nx\n",
    "import numpy as np\n",
    "import matplotlib.pyplot as plt\n",
    "import sys\n",
    "%matplotlib inline\n",
    "from IPython.display import display"
   ]
  },
  {
   "cell_type": "markdown",
   "metadata": {},
   "source": [
    "Import **Section** class, which contains all calculations"
   ]
  },
  {
   "cell_type": "code",
   "execution_count": 2,
   "metadata": {
    "collapsed": false
   },
   "outputs": [],
   "source": [
    "from Section import Section"
   ]
  },
  {
   "cell_type": "markdown",
   "metadata": {},
   "source": [
    "Initialization of **sympy** symbolic tool and **pint** for dimension analysis (not really implemented rn as not directly compatible with sympy)"
   ]
  },
  {
   "cell_type": "code",
   "execution_count": 3,
   "metadata": {
    "collapsed": false
   },
   "outputs": [],
   "source": [
    "ureg = UnitRegistry()\n",
    "sympy.init_printing()"
   ]
  },
  {
   "cell_type": "markdown",
   "metadata": {},
   "source": [
    "Define **sympy** parameters used for geometric description of sections"
   ]
  },
  {
   "cell_type": "code",
   "execution_count": 4,
   "metadata": {
    "collapsed": false
   },
   "outputs": [],
   "source": [
    "A, A0, t, t0, a, b, h, L, E, G = sympy.symbols('A A_0 t t_0 a b h L E G', positive=True)"
   ]
  },
  {
   "cell_type": "markdown",
   "metadata": {},
   "source": [
    "We also define numerical values for each **symbol** in order to plot scaled section and perform calculations"
   ]
  },
  {
   "cell_type": "code",
   "execution_count": 5,
   "metadata": {
    "collapsed": false
   },
   "outputs": [],
   "source": [
    "values = [(A, 150 * ureg.millimeter**2),(A0, 250  * ureg.millimeter**2),(a, 80 * ureg.millimeter), \\\n",
    "          (b, 20 * ureg.millimeter),(h, 200 * ureg.millimeter),(L, 2000 * ureg.millimeter), \\\n",
    "          (t, 1.3 *ureg.millimeter),(E, 72e3 * ureg.MPa), (G, 27e3 * ureg.MPa)]\n",
    "datav = [(v[0],v[1].magnitude) for v in values]"
   ]
  },
  {
   "cell_type": "markdown",
   "metadata": {
    "collapsed": false
   },
   "source": [
    "# First example: Simple rectangular symmetric section"
   ]
  },
  {
   "cell_type": "markdown",
   "metadata": {},
   "source": [
    "Define graph describing the section:\n",
    "\n",
    "1) **stringers** are **nodes** with parameters:\n",
    "- **x** coordinate\n",
    "- **y** coordinate\n",
    "- **Area**\n",
    "\n",
    "2) **panels** are **oriented edges** with parameters:\n",
    "- **thickness**\n",
    "- **lenght** which is automatically calculated"
   ]
  },
  {
   "cell_type": "code",
   "execution_count": 6,
   "metadata": {
    "collapsed": false
   },
   "outputs": [],
   "source": [
    "stringers = {1:[(a+2*b,h),A],\n",
    "             2:[(b+sympy.Rational(1,2)*a,h),A],\n",
    "             3:[(sympy.Integer(0),h),A],\n",
    "             4:[(b,sympy.Integer(0)),A],\n",
    "             5:[(b+a,sympy.Integer(0)),A]}\n",
    "             #5:[(sympy.Rational(1,2)*a,h),A]}\n",
    "\n",
    "panels = {(1,2):t,\n",
    "          (2,3):t,\n",
    "          (3,4):t,\n",
    "          (4,5):t,\n",
    "          (5,1):t}"
   ]
  },
  {
   "cell_type": "markdown",
   "metadata": {},
   "source": [
    "Define section and perform first calculations"
   ]
  },
  {
   "cell_type": "code",
   "execution_count": 7,
   "metadata": {
    "collapsed": false
   },
   "outputs": [],
   "source": [
    "S1 = Section(stringers, panels)"
   ]
  },
  {
   "cell_type": "code",
   "execution_count": 8,
   "metadata": {
    "collapsed": false
   },
   "outputs": [
    {
     "data": {
      "image/png": "[encoded data removed]",
      "text/latex": [
       "$$\\left [ \\left [ 2, \\quad 3, \\quad 4, \\quad 5, \\quad 1, \\quad 2\\right ]\\right ]$$"
      ],
      "text/plain": [
       "[[2, 3, 4, 5, 1, 2]]"
      ]
     },
     "execution_count": 8,
     "metadata": {},
     "output_type": "execute_result"
    }
   ],
   "source": [
    "S1.cycles"
   ]
  },
  {
   "cell_type": "markdown",
   "metadata": {
    "collapsed": false
   },
   "source": [
    "## Plot of **S1** section in original reference frame"
   ]
  },
  {
   "cell_type": "markdown",
   "metadata": {},
   "source": [
    "Define a dictionary of coordinates used by **Networkx** to plot section as a Directed graph.\n",
    "Note that arrows are actually just thicker stubs"
   ]
  },
  {
   "cell_type": "code",
   "execution_count": 9,
   "metadata": {
    "collapsed": true
   },
   "outputs": [],
   "source": [
    "start_pos={ii: [float(S1.g.node[ii]['ip'][i].subs(datav)) for i in range(2)] for ii in S1.g.nodes() }"
   ]
  },
  {
   "cell_type": "code",
   "execution_count": 10,
   "metadata": {
    "collapsed": false
   },
   "outputs": [
    {
     "data": {
      "image/png": "[encoded data removed]",
      "text/plain": [
       "<matplotlib.figure.Figure at 0x7f97ea26d860>"
      ]
     },
     "metadata": {},
     "output_type": "display_data"
    }
   ],
   "source": [
    "plt.figure(figsize=(12,8),dpi=300)\n",
    "nx.draw(S1.g,with_labels=True, arrows= True, pos=start_pos)\n",
    "plt.arrow(0,0,20,0)\n",
    "plt.arrow(0,0,0,20)\n",
    "#plt.text(0,0, 'CG', fontsize=24)\n",
    "plt.axis('equal')\n",
    "plt.title(\"Section in starting reference Frame\",fontsize=16);"
   ]
  },
  {
   "cell_type": "markdown",
   "metadata": {},
   "source": [
    "## Plot of **S1** section in inertial reference Frame"
   ]
  },
  {
   "cell_type": "markdown",
   "metadata": {},
   "source": [
    "Section is plotted wrt **center of gravity** and rotated (if necessary) so that *x* and *y* are principal axes.\n",
    "**Center of Gravity** and **Shear Center** are drawn"
   ]
  },
  {
   "cell_type": "code",
   "execution_count": 11,
   "metadata": {
    "collapsed": true
   },
   "outputs": [],
   "source": [
    "positions={ii: [float(S1.g.node[ii]['pos'][i].subs(datav)) for i in range(2)] for ii in S1.g.nodes() }"
   ]
  },
  {
   "cell_type": "code",
   "execution_count": 12,
   "metadata": {
    "collapsed": false
   },
   "outputs": [
    {
     "data": {
      "image/png": "[encoded data removed]",
      "text/plain": [
       "<matplotlib.figure.Figure at 0x7f9810914ba8>"
      ]
     },
     "metadata": {},
     "output_type": "display_data"
    }
   ],
   "source": [
    "x_ct, y_ct = S1.ct.subs(datav)\n",
    "\n",
    "plt.figure(figsize=(12,8),dpi=300)\n",
    "nx.draw(S1.g,with_labels=True, pos=positions)\n",
    "plt.plot([0],[0],'o',ms=12,label='CG')\n",
    "plt.plot([x_ct],[y_ct],'^',ms=12, label='SC')\n",
    "#plt.text(0,0, 'CG', fontsize=24)\n",
    "#plt.text(x_ct,y_ct, 'SC', fontsize=24)\n",
    "plt.legend(loc='lower right', shadow=True)\n",
    "plt.axis('equal')\n",
    "plt.title(\"Section in pricipal reference Frame\",fontsize=16);"
   ]
  },
  {
   "cell_type": "markdown",
   "metadata": {},
   "source": [
    "## Standard Solution"
   ]
  },
  {
   "cell_type": "code",
   "execution_count": 13,
   "metadata": {
    "collapsed": true
   },
   "outputs": [],
   "source": [
    "Tx, Ty, Nz, Mx, My, Mz, F, ry, ry, mz = sympy.symbols('T_x T_y N_z M_x M_y M_z F r_y r_x m_z')"
   ]
  },
  {
   "cell_type": "code",
   "execution_count": 14,
   "metadata": {
    "collapsed": true
   },
   "outputs": [],
   "source": [
    "S1.set_loads(_Tx=0, _Ty=Ty, _Nz=0, _Mx=Mx, _My=0, _Mz=Mz)"
   ]
  },
  {
   "cell_type": "markdown",
   "metadata": {},
   "source": [
    "## Loads"
   ]
  },
  {
   "cell_type": "code",
   "execution_count": 15,
   "metadata": {
    "collapsed": true
   },
   "outputs": [],
   "source": [
    "S1.compute_stringer_actions()\n",
    "S1.compute_panel_fluxes();"
   ]
  },
  {
   "cell_type": "code",
   "execution_count": 16,
   "metadata": {
    "collapsed": false
   },
   "outputs": [
    {
     "data": {
      "image/png": "[encoded data removed]",
      "text/latex": [
       "$$\\left \\{ 1 : \\frac{M_{x}}{3 h}, \\quad 2 : \\frac{M_{x}}{3 h}, \\quad 3 : \\frac{M_{x}}{3 h}, \\quad 4 : - \\frac{M_{x}}{2 h}, \\quad 5 : - \\frac{M_{x}}{2 h}\\right \\}$$"
      ],
      "text/plain": [
       "⎧    Mₓ      Mₓ      Mₓ     -Mₓ      -Mₓ ⎫\n",
       "⎨1: ───, 2: ───, 3: ───, 4: ────, 5: ────⎬\n",
       "⎩   3⋅h     3⋅h     3⋅h     2⋅h      2⋅h ⎭"
      ]
     },
     "execution_count": 16,
     "metadata": {},
     "output_type": "execute_result"
    }
   ],
   "source": [
    "S1.N"
   ]
  },
  {
   "cell_type": "code",
   "execution_count": 17,
   "metadata": {
    "collapsed": false
   },
   "outputs": [
    {
     "data": {
      "image/png": "[encoded data removed]",
      "text/latex": [
       "$$\\left \\{ \\left ( 1, \\quad 2\\right ) : \\frac{3 M_{z} + T_{y} a + T_{y} b}{6 h \\left(a + b\\right)}, \\quad \\left ( 2, \\quad 3\\right ) : - \\frac{- 3 M_{z} + T_{y} a + T_{y} b}{6 h \\left(a + b\\right)}, \\quad \\left ( 3, \\quad 4\\right ) : - \\frac{- M_{z} + T_{y} a + T_{y} b}{2 h \\left(a + b\\right)}, \\quad \\left ( 4, \\quad 5\\right ) : \\frac{M_{z}}{2 h \\left(a + b\\right)}, \\quad \\left ( 5, \\quad 1\\right ) : \\frac{M_{z} + T_{y} a + T_{y} b}{2 h \\left(a + b\\right)}\\right \\}$$"
      ],
      "text/plain": [
       "⎧        3⋅M_z + T_y⋅a + T_y⋅b          -(-3⋅M_z + T_y⋅a + T_y⋅b)           -(\n",
       "⎨(1, 2): ─────────────────────, (2, 3): ──────────────────────────, (3, 4): ──\n",
       "⎩             6⋅h⋅(a + b)                      6⋅h⋅(a + b)                    \n",
       "\n",
       "-M_z + T_y⋅a + T_y⋅b)               M_z              M_z + T_y⋅a + T_y⋅b⎫\n",
       "──────────────────────, (4, 5): ───────────, (5, 1): ───────────────────⎬\n",
       "    2⋅h⋅(a + b)                 2⋅h⋅(a + b)              2⋅h⋅(a + b)    ⎭"
      ]
     },
     "execution_count": 17,
     "metadata": {},
     "output_type": "execute_result"
    }
   ],
   "source": [
    "S1.q"
   ]
  },
  {
   "cell_type": "markdown",
   "metadata": {},
   "source": [
    "Compute **L** matrix: with 5 nodes we expect 2 **dofs**, one with _symmetric load_ and one with _antisymmetric load_"
   ]
  },
  {
   "cell_type": "code",
   "execution_count": 18,
   "metadata": {
    "collapsed": false
   },
   "outputs": [],
   "source": [
    "S1.compute_L()"
   ]
  },
  {
   "cell_type": "code",
   "execution_count": 19,
   "metadata": {
    "collapsed": false
   },
   "outputs": [
    {
     "data": {
      "image/png": "[encoded data removed]",
      "text/latex": [
       "$$\\left[\\begin{matrix}- \\frac{1}{2} & \\frac{2}{3}\\\\1 & 0\\\\- \\frac{1}{2} & - \\frac{2}{3}\\\\0 & 1\\\\0 & -1\\end{matrix}\\right]$$"
      ],
      "text/plain": [
       "⎡-1/2  2/3 ⎤\n",
       "⎢          ⎥\n",
       "⎢ 1     0  ⎥\n",
       "⎢          ⎥\n",
       "⎢-1/2  -2/3⎥\n",
       "⎢          ⎥\n",
       "⎢ 0     1  ⎥\n",
       "⎢          ⎥\n",
       "⎣ 0     -1 ⎦"
      ]
     },
     "execution_count": 19,
     "metadata": {},
     "output_type": "execute_result"
    }
   ],
   "source": [
    "S1.L.subs(datav)"
   ]
  },
  {
   "cell_type": "markdown",
   "metadata": {},
   "source": [
    "Compute **H** matrix"
   ]
  },
  {
   "cell_type": "code",
   "execution_count": 20,
   "metadata": {
    "collapsed": false
   },
   "outputs": [],
   "source": [
    "S1.compute_H()"
   ]
  },
  {
   "cell_type": "code",
   "execution_count": 23,
   "metadata": {
    "collapsed": false
   },
   "outputs": [
    {
     "data": {
      "image/png": "[encoded data removed]",
      "text/latex": [
       "$$\\left[\\begin{matrix}\\frac{1}{2} & - \\frac{4}{15}\\\\- \\frac{1}{2} & - \\frac{4}{15}\\\\0 & \\frac{2}{5}\\\\0 & - \\frac{3}{5}\\\\0 & \\frac{2}{5}\\end{matrix}\\right]$$"
      ],
      "text/plain": [
       "⎡1/2   -4/15⎤\n",
       "⎢           ⎥\n",
       "⎢-1/2  -4/15⎥\n",
       "⎢           ⎥\n",
       "⎢ 0     2/5 ⎥\n",
       "⎢           ⎥\n",
       "⎢ 0    -3/5 ⎥\n",
       "⎢           ⎥\n",
       "⎣ 0     2/5 ⎦"
      ]
     },
     "execution_count": 23,
     "metadata": {},
     "output_type": "execute_result"
    }
   ],
   "source": [
    "S1.H.subs(datav)"
   ]
  },
  {
   "cell_type": "markdown",
   "metadata": {},
   "source": [
    "Compute $\\tilde{K}$ and $\\tilde{M}$ as:\n",
    "\n",
    "$$\\tilde{K} = L^T \\cdot \\left[ \\frac{A}{A_0} \\right] \\cdot L$$\n",
    "$$\\tilde{M} = H^T \\cdot \\left[ \\frac{l}{l_0}\\frac{t_0}{t} \\right] \\cdot L$$"
   ]
  },
  {
   "cell_type": "code",
   "execution_count": 24,
   "metadata": {
    "collapsed": false
   },
   "outputs": [],
   "source": [
    "S1.compute_KM(A,b,t)"
   ]
  },
  {
   "cell_type": "code",
   "execution_count": 25,
   "metadata": {
    "collapsed": false
   },
   "outputs": [
    {
     "data": {
      "image/png": "[encoded data removed]",
      "text/latex": [
       "$$\\left[\\begin{matrix}\\frac{3}{2} & 0\\\\0 & \\frac{26}{9}\\end{matrix}\\right]$$"
      ],
      "text/plain": [
       "⎡3/2   0  ⎤\n",
       "⎢         ⎥\n",
       "⎣ 0   26/9⎦"
      ]
     },
     "execution_count": 25,
     "metadata": {},
     "output_type": "execute_result"
    }
   ],
   "source": [
    "S1.Ktilde.subs(datav)"
   ]
  },
  {
   "cell_type": "code",
   "execution_count": 26,
   "metadata": {
    "collapsed": false
   },
   "outputs": [
    {
     "data": {
      "image/png": "[encoded data removed]",
      "text/latex": [
       "$$\\left[\\begin{matrix}\\frac{3}{2} & 0\\\\0 & \\frac{28}{15} + \\frac{8 \\sqrt{101}}{25}\\end{matrix}\\right]$$"
      ],
      "text/plain": [
       "⎡3/2        0       ⎤\n",
       "⎢                   ⎥\n",
       "⎢              _____⎥\n",
       "⎢     28   8⋅╲╱ 101 ⎥\n",
       "⎢ 0   ── + ─────────⎥\n",
       "⎣     15       25   ⎦"
      ]
     },
     "execution_count": 26,
     "metadata": {},
     "output_type": "execute_result"
    }
   ],
   "source": [
    "S1.Mtilde.subs(datav)"
   ]
  },
  {
   "cell_type": "markdown",
   "metadata": {},
   "source": [
    "Compute **eigenvalues** and **eigenvectors** as:\n",
    "\n",
    "$$\\left| \\mathbf{I} \\cdot \\beta^2 - \\mathbf{\\tilde{K}}^{-1} \\cdot \\mathbf{\\tilde{M}} \\right| = 0$$\n",
    "\n",
    "We substitute some numerical values to simplify the expressions"
   ]
  },
  {
   "cell_type": "code",
   "execution_count": 28,
   "metadata": {
    "collapsed": false
   },
   "outputs": [],
   "source": [
    "sol_data = (sympy.N(S1.Ktilde.subs(datav).inv())*(sympy.N(S1.Mtilde.subs(datav)))).eigenvects()"
   ]
  },
  {
   "cell_type": "markdown",
   "metadata": {},
   "source": [
    "**Eigenvalues** correspond to $\\beta^2$"
   ]
  },
  {
   "cell_type": "code",
   "execution_count": 29,
   "metadata": {
    "collapsed": false
   },
   "outputs": [
    {
     "data": {
      "image/png": "[encoded data removed]",
      "text/latex": [
       "$$\\left [ 1.0, \\quad 1.75937083803185\\right ]$$"
      ],
      "text/plain": [
       "[1.0, 1.75937083803185]"
      ]
     },
     "execution_count": 29,
     "metadata": {},
     "output_type": "execute_result"
    }
   ],
   "source": [
    "β2 = [sol[0] for sol in sol_data]\n",
    "β2"
   ]
  },
  {
   "cell_type": "markdown",
   "metadata": {},
   "source": [
    "**Eigenvectors** are orthogonal as expected"
   ]
  },
  {
   "cell_type": "code",
   "execution_count": 30,
   "metadata": {
    "collapsed": false
   },
   "outputs": [
    {
     "data": {
      "image/png": "[encoded data removed]",
      "text/latex": [
       "$$\\left [ \\left[\\begin{matrix}1.0\\\\0\\end{matrix}\\right], \\quad \\left[\\begin{matrix}0\\\\1.0\\end{matrix}\\right]\\right ]$$"
      ],
      "text/plain": [
       "⎡⎡1.0⎤, ⎡ 0 ⎤⎤\n",
       "⎢⎢   ⎥  ⎢   ⎥⎥\n",
       "⎣⎣ 0 ⎦  ⎣1.0⎦⎦"
      ]
     },
     "execution_count": 30,
     "metadata": {},
     "output_type": "execute_result"
    }
   ],
   "source": [
    "X = [sol[2][0] for sol in sol_data]\n",
    "X"
   ]
  },
  {
   "cell_type": "markdown",
   "metadata": {},
   "source": [
    "From $\\beta_i^2$ we compute:\n",
    "$$\\lambda_i = \\sqrt{\\frac{E A_0 l_0}{G t_0} \\beta_i^2}$$\n",
    "\n",
    "substuting numerical values"
   ]
  },
  {
   "cell_type": "code",
   "execution_count": 32,
   "metadata": {
    "collapsed": false
   },
   "outputs": [
    {
     "data": {
      "image/png": "[encoded data removed]",
      "text/latex": [
       "$$\\left [ 78.4464540552736, \\quad 104.052378467824\\right ]$$"
      ],
      "text/plain": [
       "[78.4464540552736, 104.052378467824]"
      ]
     },
     "execution_count": 32,
     "metadata": {},
     "output_type": "execute_result"
    }
   ],
   "source": [
    "λ = [sympy.N(sympy.sqrt(E*A*b/(G*t)*βi).subs(datav)) for βi in β2]\n",
    "λ"
   ]
  },
  {
   "cell_type": "code",
   "execution_count": null,
   "metadata": {
    "collapsed": true
   },
   "outputs": [],
   "source": []
  }
 ],
 "metadata": {
  "kernelspec": {
   "display_name": "Python 3",
   "language": "python",
   "name": "python3"
  },
  "language_info": {
   "codemirror_mode": {
    "name": "ipython",
    "version": 3
   },
   "file_extension": ".py",
   "mimetype": "text/x-python",
   "name": "python",
   "nbconvert_exporter": "python",
   "pygments_lexer": "ipython3",
   "version": "3.5.1"
  }
 },
 "nbformat": 4,
 "nbformat_minor": 0
}
