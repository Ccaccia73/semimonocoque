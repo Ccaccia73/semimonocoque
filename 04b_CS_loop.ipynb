{
 "cells": [
  {
   "cell_type": "markdown",
   "metadata": {},
   "source": [
    "# Semi-Monocoque Theory: corrective solutions"
   ]
  },
  {
   "cell_type": "code",
   "execution_count": 1,
   "metadata": {
    "collapsed": false
   },
   "outputs": [],
   "source": [
    "from pint import UnitRegistry\n",
    "import sympy\n",
    "import networkx as nx\n",
    "import numpy as np\n",
    "import matplotlib.pyplot as plt\n",
    "import sys\n",
    "%matplotlib inline\n",
    "from IPython.display import display"
   ]
  },
  {
   "cell_type": "markdown",
   "metadata": {},
   "source": [
    "Import **Section** class, which contains all calculations"
   ]
  },
  {
   "cell_type": "code",
   "execution_count": 2,
   "metadata": {
    "collapsed": false
   },
   "outputs": [],
   "source": [
    "from Section import Section"
   ]
  },
  {
   "cell_type": "markdown",
   "metadata": {},
   "source": [
    "Initialization of **sympy** symbolic tool and **pint** for dimension analysis (not really implemented rn as not directly compatible with sympy)"
   ]
  },
  {
   "cell_type": "code",
   "execution_count": 3,
   "metadata": {
    "collapsed": false
   },
   "outputs": [],
   "source": [
    "ureg = UnitRegistry()\n",
    "sympy.init_printing()"
   ]
  },
  {
   "cell_type": "markdown",
   "metadata": {},
   "source": [
    "Define **sympy** parameters used for geometric description of sections"
   ]
  },
  {
   "cell_type": "code",
   "execution_count": 4,
   "metadata": {
    "collapsed": false
   },
   "outputs": [],
   "source": [
    "A, A0, t, t0, a, b, h, L, E, G = sympy.symbols('A A_0 t t_0 a b h L E G', positive=True)"
   ]
  },
  {
   "cell_type": "markdown",
   "metadata": {},
   "source": [
    "We also define numerical values for each **symbol** in order to plot scaled section and perform calculations"
   ]
  },
  {
   "cell_type": "code",
   "execution_count": 5,
   "metadata": {
    "collapsed": false
   },
   "outputs": [],
   "source": [
    "values = [(A, 150 * ureg.millimeter**2),(A0, 250  * ureg.millimeter**2),(a, 400 * ureg.millimeter), \\\n",
    "          (b, 20 * ureg.millimeter),(h, 150 * ureg.millimeter),(L, 2000 * ureg.millimeter), \\\n",
    "          (t, 0.8 *ureg.millimeter),(E, 72e3 * ureg.MPa), (G, 28e3 * ureg.MPa)]\n",
    "datav = [(v[0],v[1].magnitude) for v in values]"
   ]
  },
  {
   "cell_type": "markdown",
   "metadata": {
    "collapsed": false
   },
   "source": [
    "# First example: Simple rectangular symmetric section"
   ]
  },
  {
   "cell_type": "markdown",
   "metadata": {},
   "source": [
    "Define graph describing the section:\n",
    "\n",
    "1) **stringers** are **nodes** with parameters:\n",
    "- **x** coordinate\n",
    "- **y** coordinate\n",
    "- **Area**\n",
    "\n",
    "2) **panels** are **oriented edges** with parameters:\n",
    "- **thickness**\n",
    "- **lenght** which is automatically calculated"
   ]
  },
  {
   "cell_type": "code",
   "execution_count": 6,
   "metadata": {
    "collapsed": false
   },
   "outputs": [],
   "source": [
    "stringers = {1:[(a,h),A],\n",
    "             2:[(sympy.Rational(1,2)*a,h),A],\n",
    "             3:[(sympy.Integer(0),h),A],\n",
    "             4:[(sympy.Integer(0),sympy.Integer(0)),A],\n",
    "             5:[(sympy.Rational(1,2)*a,sympy.Integer(0)),A],\n",
    "             6:[(a,sympy.Integer(0)),A]}\n",
    "\n",
    "panels = {(1,2):t,\n",
    "          (3,4):t,\n",
    "          (4,5):t,\n",
    "          (5,6):t,\n",
    "          (6,1):t,\n",
    "          (5,2):t}"
   ]
  },
  {
   "cell_type": "markdown",
   "metadata": {},
   "source": [
    "Define section and perform first calculations"
   ]
  },
  {
   "cell_type": "code",
   "execution_count": 7,
   "metadata": {
    "collapsed": false
   },
   "outputs": [],
   "source": [
    "S1 = Section(stringers, panels)"
   ]
  },
  {
   "cell_type": "code",
   "execution_count": 8,
   "metadata": {
    "collapsed": false
   },
   "outputs": [
    {
     "data": {
      "image/png": "[encoded data removed]",
      "text/latex": [
       "$$\\left [ \\left [ 2, \\quad 5, \\quad 6, \\quad 1, \\quad 2\\right ]\\right ]$$"
      ],
      "text/plain": [
       "[[2, 5, 6, 1, 2]]"
      ]
     },
     "execution_count": 8,
     "metadata": {},
     "output_type": "execute_result"
    }
   ],
   "source": [
    "S1.cycles"
   ]
  },
  {
   "cell_type": "markdown",
   "metadata": {
    "collapsed": false
   },
   "source": [
    "## Plot of **S1** section in original reference frame"
   ]
  },
  {
   "cell_type": "markdown",
   "metadata": {},
   "source": [
    "Define a dictionary of coordinates used by **Networkx** to plot section as a Directed graph.\n",
    "Note that arrows are actually just thicker stubs"
   ]
  },
  {
   "cell_type": "code",
   "execution_count": 9,
   "metadata": {
    "collapsed": true
   },
   "outputs": [],
   "source": [
    "start_pos={ii: [float(S1.g.node[ii]['ip'][i].subs(datav)) for i in range(2)] for ii in S1.g.nodes() }"
   ]
  },
  {
   "cell_type": "code",
   "execution_count": 10,
   "metadata": {
    "collapsed": false
   },
   "outputs": [
    {
     "data": {
      "image/png": "[encoded data removed]",
      "text/plain": [
       "<matplotlib.figure.Figure at 0x7f7906140cf8>"
      ]
     },
     "metadata": {},
     "output_type": "display_data"
    }
   ],
   "source": [
    "plt.figure(figsize=(12,8),dpi=300)\n",
    "nx.draw(S1.g,with_labels=True, arrows= True, pos=start_pos)\n",
    "plt.arrow(0,0,20,0)\n",
    "plt.arrow(0,0,0,20)\n",
    "#plt.text(0,0, 'CG', fontsize=24)\n",
    "plt.axis('equal')\n",
    "plt.title(\"Section in starting reference Frame\",fontsize=16);"
   ]
  },
  {
   "cell_type": "markdown",
   "metadata": {},
   "source": [
    "## Plot of **S1** section in inertial reference Frame"
   ]
  },
  {
   "cell_type": "markdown",
   "metadata": {},
   "source": [
    "Section is plotted wrt **center of gravity** and rotated (if necessary) so that *x* and *y* are principal axes.\n",
    "**Center of Gravity** and **Shear Center** are drawn"
   ]
  },
  {
   "cell_type": "code",
   "execution_count": 11,
   "metadata": {
    "collapsed": true
   },
   "outputs": [],
   "source": [
    "positions={ii: [float(S1.g.node[ii]['pos'][i].subs(datav)) for i in range(2)] for ii in S1.g.nodes() }"
   ]
  },
  {
   "cell_type": "code",
   "execution_count": 12,
   "metadata": {
    "collapsed": false
   },
   "outputs": [
    {
     "data": {
      "image/png": "[encoded data removed]",
      "text/plain": [
       "<matplotlib.figure.Figure at 0x7f792c863a58>"
      ]
     },
     "metadata": {},
     "output_type": "display_data"
    }
   ],
   "source": [
    "x_ct, y_ct = S1.ct.subs(datav)\n",
    "\n",
    "plt.figure(figsize=(12,8),dpi=300)\n",
    "nx.draw(S1.g,with_labels=True, pos=positions)\n",
    "plt.plot([0],[0],'o',ms=12,label='CG')\n",
    "plt.plot([x_ct],[y_ct],'^',ms=12, label='SC')\n",
    "#plt.text(0,0, 'CG', fontsize=24)\n",
    "#plt.text(x_ct,y_ct, 'SC', fontsize=24)\n",
    "plt.legend(loc='lower right', shadow=True)\n",
    "plt.axis('equal')\n",
    "plt.title(\"Section in pricipal reference Frame\",fontsize=16);"
   ]
  },
  {
   "cell_type": "markdown",
   "metadata": {},
   "source": [
    "## Standard Solution"
   ]
  },
  {
   "cell_type": "code",
   "execution_count": 13,
   "metadata": {
    "collapsed": true
   },
   "outputs": [],
   "source": [
    "Tx, Ty, Nz, Mx, My, Mz, F, ry, ry, mz = sympy.symbols('T_x T_y N_z M_x M_y M_z F r_y r_x m_z')"
   ]
  },
  {
   "cell_type": "code",
   "execution_count": 14,
   "metadata": {
    "collapsed": true
   },
   "outputs": [],
   "source": [
    "S1.set_loads(_Tx=0, _Ty=0, _Nz=0, _Mx=0, _My=0, _Mz=Mz)"
   ]
  },
  {
   "cell_type": "markdown",
   "metadata": {},
   "source": [
    "## Loads"
   ]
  },
  {
   "cell_type": "code",
   "execution_count": 15,
   "metadata": {
    "collapsed": true
   },
   "outputs": [],
   "source": [
    "S1.compute_stringer_actions()\n",
    "S1.compute_panel_fluxes();"
   ]
  },
  {
   "cell_type": "code",
   "execution_count": 16,
   "metadata": {
    "collapsed": false
   },
   "outputs": [
    {
     "data": {
      "image/png": "[encoded data removed]",
      "text/latex": [
       "$$\\left \\{ 1 : 0, \\quad 2 : 0, \\quad 3 : 0, \\quad 4 : 0, \\quad 5 : 0, \\quad 6 : 0\\right \\}$$"
      ],
      "text/plain": [
       "{1: 0, 2: 0, 3: 0, 4: 0, 5: 0, 6: 0}"
      ]
     },
     "execution_count": 16,
     "metadata": {},
     "output_type": "execute_result"
    }
   ],
   "source": [
    "S1.N"
   ]
  },
  {
   "cell_type": "code",
   "execution_count": 17,
   "metadata": {
    "collapsed": false
   },
   "outputs": [
    {
     "data": {
      "image/png": "[encoded data removed]",
      "text/latex": [
       "$$\\left \\{ \\left ( 1, \\quad 2\\right ) : \\frac{M_{z}}{a h}, \\quad \\left ( 3, \\quad 4\\right ) : 0, \\quad \\left ( 4, \\quad 5\\right ) : 0, \\quad \\left ( 5, \\quad 2\\right ) : - \\frac{M_{z}}{a h}, \\quad \\left ( 5, \\quad 6\\right ) : \\frac{M_{z}}{a h}, \\quad \\left ( 6, \\quad 1\\right ) : \\frac{M_{z}}{a h}\\right \\}$$"
      ],
      "text/plain": [
       "⎧        M_z                                -M_z           M_z          M_z⎫\n",
       "⎨(1, 2): ───, (3, 4): 0, (4, 5): 0, (5, 2): ─────, (5, 6): ───, (6, 1): ───⎬\n",
       "⎩        a⋅h                                 a⋅h           a⋅h          a⋅h⎭"
      ]
     },
     "execution_count": 17,
     "metadata": {},
     "output_type": "execute_result"
    }
   ],
   "source": [
    "S1.q"
   ]
  },
  {
   "cell_type": "code",
   "execution_count": 31,
   "metadata": {
    "collapsed": true
   },
   "outputs": [],
   "source": [
    "S1.set_loads(_Tx=0, _Ty=Ty, _Nz=0, _Mx=Mx, _My=0, _Mz=0)"
   ]
  },
  {
   "cell_type": "code",
   "execution_count": 32,
   "metadata": {
    "collapsed": true
   },
   "outputs": [],
   "source": [
    "S1.compute_stringer_actions()\n",
    "S1.compute_panel_fluxes();"
   ]
  },
  {
   "cell_type": "code",
   "execution_count": 33,
   "metadata": {
    "collapsed": false
   },
   "outputs": [
    {
     "data": {
      "image/png": "[encoded data removed]",
      "text/latex": [
       "$$\\left \\{ 1 : \\frac{M_{x}}{3 h}, \\quad 2 : \\frac{M_{x}}{3 h}, \\quad 3 : \\frac{M_{x}}{3 h}, \\quad 4 : - \\frac{M_{x}}{3 h}, \\quad 5 : - \\frac{M_{x}}{3 h}, \\quad 6 : - \\frac{M_{x}}{3 h}\\right \\}$$"
      ],
      "text/plain": [
       "⎧    Mₓ      Mₓ      Mₓ     -Mₓ      -Mₓ      -Mₓ ⎫\n",
       "⎨1: ───, 2: ───, 3: ───, 4: ────, 5: ────, 6: ────⎬\n",
       "⎩   3⋅h     3⋅h     3⋅h     3⋅h      3⋅h      3⋅h ⎭"
      ]
     },
     "execution_count": 33,
     "metadata": {},
     "output_type": "execute_result"
    }
   ],
   "source": [
    "S1.N"
   ]
  },
  {
   "cell_type": "code",
   "execution_count": 34,
   "metadata": {
    "collapsed": false
   },
   "outputs": [
    {
     "data": {
      "image/png": "[encoded data removed]",
      "text/latex": [
       "$$\\left \\{ \\left ( 1, \\quad 2\\right ) : 0, \\quad \\left ( 3, \\quad 4\\right ) : - \\frac{T_{y}}{3 h}, \\quad \\left ( 4, \\quad 5\\right ) : 0, \\quad \\left ( 5, \\quad 2\\right ) : \\frac{T_{y}}{3 h}, \\quad \\left ( 5, \\quad 6\\right ) : 0, \\quad \\left ( 6, \\quad 1\\right ) : \\frac{T_{y}}{3 h}\\right \\}$$"
      ],
      "text/plain": [
       "⎧                   -T_y                      T_y                     T_y⎫\n",
       "⎨(1, 2): 0, (3, 4): ─────, (4, 5): 0, (5, 2): ───, (5, 6): 0, (6, 1): ───⎬\n",
       "⎩                    3⋅h                      3⋅h                     3⋅h⎭"
      ]
     },
     "execution_count": 34,
     "metadata": {},
     "output_type": "execute_result"
    }
   ],
   "source": [
    "S1.q"
   ]
  },
  {
   "cell_type": "markdown",
   "metadata": {},
   "source": [
    "# Autosolutions"
   ]
  },
  {
   "cell_type": "markdown",
   "metadata": {},
   "source": [
    "Compute **L** matrix: with 6 nodes we expect 3 **dofs**, one with _symmetric load_ and one with _antisymmetric load_"
   ]
  },
  {
   "cell_type": "code",
   "execution_count": 18,
   "metadata": {
    "collapsed": false
   },
   "outputs": [],
   "source": [
    "S1.compute_L()"
   ]
  },
  {
   "cell_type": "code",
   "execution_count": 19,
   "metadata": {
    "collapsed": false,
    "scrolled": true
   },
   "outputs": [
    {
     "data": {
      "image/png": "[encoded data removed]",
      "text/latex": [
       "$$\\left[\\begin{matrix}- \\frac{1}{2} & - \\frac{1}{2} & -1\\\\1 & 0 & 0\\\\- \\frac{1}{2} & \\frac{1}{2} & 1\\\\0 & -1 & -1\\\\0 & 1 & 0\\\\0 & 0 & 1\\end{matrix}\\right]$$"
      ],
      "text/plain": [
       "⎡-1/2  -1/2  -1⎤\n",
       "⎢              ⎥\n",
       "⎢ 1     0    0 ⎥\n",
       "⎢              ⎥\n",
       "⎢-1/2  1/2   1 ⎥\n",
       "⎢              ⎥\n",
       "⎢ 0     -1   -1⎥\n",
       "⎢              ⎥\n",
       "⎢ 0     1    0 ⎥\n",
       "⎢              ⎥\n",
       "⎣ 0     0    1 ⎦"
      ]
     },
     "execution_count": 19,
     "metadata": {},
     "output_type": "execute_result"
    }
   ],
   "source": [
    "S1.L"
   ]
  },
  {
   "cell_type": "markdown",
   "metadata": {},
   "source": [
    "Compute **H** matrix"
   ]
  },
  {
   "cell_type": "code",
   "execution_count": 20,
   "metadata": {
    "collapsed": false
   },
   "outputs": [],
   "source": [
    "S1.compute_H()"
   ]
  },
  {
   "cell_type": "code",
   "execution_count": 21,
   "metadata": {
    "collapsed": false
   },
   "outputs": [
    {
     "data": {
      "image/png": "[encoded data removed]",
      "text/latex": [
       "$$\\left[\\begin{matrix}0 & \\frac{1}{2} & 1\\\\\\frac{1}{2} & - \\frac{1}{2} & -1\\\\\\frac{1}{2} & \\frac{1}{2} & 0\\\\1 & - \\frac{1}{2} & -1\\\\- \\frac{1}{2} & 0 & 1\\\\- \\frac{1}{2} & 0 & 0\\end{matrix}\\right]$$"
      ],
      "text/plain": [
       "⎡ 0    1/2   1 ⎤\n",
       "⎢              ⎥\n",
       "⎢1/2   -1/2  -1⎥\n",
       "⎢              ⎥\n",
       "⎢1/2   1/2   0 ⎥\n",
       "⎢              ⎥\n",
       "⎢ 1    -1/2  -1⎥\n",
       "⎢              ⎥\n",
       "⎢-1/2   0    1 ⎥\n",
       "⎢              ⎥\n",
       "⎣-1/2   0    0 ⎦"
      ]
     },
     "execution_count": 21,
     "metadata": {},
     "output_type": "execute_result"
    }
   ],
   "source": [
    "S1.H"
   ]
  },
  {
   "cell_type": "markdown",
   "metadata": {},
   "source": [
    "Compute $\\tilde{K}$ and $\\tilde{M}$ as:\n",
    "\n",
    "$$\\tilde{K} = L^T \\cdot \\left[ \\frac{A}{A_0} \\right] \\cdot L$$\n",
    "$$\\tilde{M} = H^T \\cdot \\left[ \\frac{l}{l_0}\\frac{t_0}{t} \\right] \\cdot L$$"
   ]
  },
  {
   "cell_type": "code",
   "execution_count": 22,
   "metadata": {
    "collapsed": false
   },
   "outputs": [],
   "source": [
    "S1.compute_KM(A,a/2,t,datav)"
   ]
  },
  {
   "cell_type": "code",
   "execution_count": 29,
   "metadata": {
    "collapsed": false
   },
   "outputs": [
    {
     "data": {
      "image/png": "[encoded data removed]",
      "text/latex": [
       "$$\\left[\\begin{matrix}\\frac{3}{2} & 0 & 0\\\\0 & \\frac{5}{2} & 2\\\\0 & 2 & 4\\end{matrix}\\right]$$"
      ],
      "text/plain": [
       "⎡3/2   0   0⎤\n",
       "⎢           ⎥\n",
       "⎢ 0   5/2  2⎥\n",
       "⎢           ⎥\n",
       "⎣ 0    2   4⎦"
      ]
     },
     "execution_count": 29,
     "metadata": {},
     "output_type": "execute_result"
    }
   ],
   "source": [
    "S1.Ktilde"
   ]
  },
  {
   "cell_type": "code",
   "execution_count": 30,
   "metadata": {
    "collapsed": false
   },
   "outputs": [
    {
     "data": {
      "image/png": "[encoded data removed]",
      "text/latex": [
       "$$\\left[\\begin{matrix}\\frac{13}{8} & - \\frac{5}{16} & - \\frac{13}{8}\\\\- \\frac{5}{16} & \\frac{7}{8} & \\frac{5}{4}\\\\- \\frac{13}{8} & \\frac{5}{4} & \\frac{7}{2}\\end{matrix}\\right]$$"
      ],
      "text/plain": [
       "⎡13/8   -5/16  -13/8⎤\n",
       "⎢                   ⎥\n",
       "⎢-5/16   7/8    5/4 ⎥\n",
       "⎢                   ⎥\n",
       "⎣-13/8   5/4    7/2 ⎦"
      ]
     },
     "execution_count": 30,
     "metadata": {},
     "output_type": "execute_result"
    }
   ],
   "source": [
    "S1.Mtilde"
   ]
  },
  {
   "cell_type": "markdown",
   "metadata": {},
   "source": [
    "Compute **eigenvalues** and **eigenvectors** as:\n",
    "\n",
    "$$\\left| \\mathbf{I} \\cdot \\beta^2 - \\mathbf{\\tilde{K}}^{-1} \\cdot \\mathbf{\\tilde{M}} \\right| = 0$$\n",
    "\n",
    "We substitute some numerical values to simplify the expressions"
   ]
  },
  {
   "cell_type": "code",
   "execution_count": 25,
   "metadata": {
    "collapsed": false
   },
   "outputs": [],
   "source": [
    "sol_data = (sympy.N(S1.Ktilde.subs(datav).inv())*(sympy.N(S1.Mtilde.subs(datav)))).eigenvects()"
   ]
  },
  {
   "cell_type": "markdown",
   "metadata": {},
   "source": [
    "**Eigenvalues** correspond to $\\beta^2$"
   ]
  },
  {
   "cell_type": "code",
   "execution_count": 26,
   "metadata": {
    "collapsed": false
   },
   "outputs": [
    {
     "data": {
      "image/png": "[encoded data removed]",
      "text/latex": [
       "$$\\left [ 0.339290414631418 - 3.0 \\cdot 10^{-23} i, \\quad 0.196731067901288 + 1.0 \\cdot 10^{-23} i, \\quad 1.75564518413396 - 2.0 \\cdot 10^{-22} i\\right ]$$"
      ],
      "text/plain": [
       "[0.339290414631418 - - -0.e-23⋅ⅈ, 0.196731067901288 + 0.e-23⋅ⅈ, 1.755645184133\n",
       "96 - - -0.e-22⋅ⅈ]"
      ]
     },
     "execution_count": 26,
     "metadata": {},
     "output_type": "execute_result"
    }
   ],
   "source": [
    "β2 = [sol[0] for sol in sol_data]\n",
    "β2"
   ]
  },
  {
   "cell_type": "markdown",
   "metadata": {},
   "source": [
    "**Eigenvectors** are orthogonal as expected"
   ]
  },
  {
   "cell_type": "code",
   "execution_count": 27,
   "metadata": {
    "collapsed": false
   },
   "outputs": [
    {
     "data": {
      "image/png": "[encoded data removed]",
      "text/latex": [
       "$$\\left [ \\left[\\begin{matrix}1.99278837919186 - 1.2229017886908 \\cdot 10^{-23} i\\\\1.91705639364402 - 1.26385682555636 \\cdot 10^{-25} i\\\\1.0\\end{matrix}\\right], \\quad \\left[\\begin{matrix}0.861773743111062 - 8.0 \\cdot 10^{-25} i\\\\-1.53255734592582 + 2.62670292138894 \\cdot 10^{-23} i\\\\1.0\\end{matrix}\\right], \\quad \\left[\\begin{matrix}-1.45196471970552 - 1.93261773279565 \\cdot 10^{-30} i\\\\-0.514369177588328 + 2.45344342718328 \\cdot 10^{-28} i\\\\1.0\\end{matrix}\\right]\\right ]$$"
      ],
      "text/plain": [
       "⎡⎡1.99278837919186 - - -1.2229017886908e-23⋅ⅈ ⎤, ⎡     0.861773743111062 - - -\n",
       "⎢⎢                                            ⎥  ⎢                            \n",
       "⎢⎢1.91705639364402 - - -1.26385682555636e-25⋅ⅈ⎥  ⎢-1.53255734592582 + 2.626702\n",
       "⎢⎢                                            ⎥  ⎢                            \n",
       "⎣⎣                    1.0                     ⎦  ⎣                   1.0      \n",
       "\n",
       "0.e-24⋅ⅈ      ⎤, ⎡-1.45196471970552 - - -1.93261773279565e-30⋅ⅈ⎤⎤\n",
       "              ⎥  ⎢                                             ⎥⎥\n",
       "92138894e-23⋅ⅈ⎥  ⎢ -0.514369177588328 + 2.45344342718328e-28⋅ⅈ ⎥⎥\n",
       "              ⎥  ⎢                                             ⎥⎥\n",
       "              ⎦  ⎣                     1.0                     ⎦⎦"
      ]
     },
     "execution_count": 27,
     "metadata": {},
     "output_type": "execute_result"
    }
   ],
   "source": [
    "X = [sol[2][0] for sol in sol_data]\n",
    "X"
   ]
  },
  {
   "cell_type": "markdown",
   "metadata": {},
   "source": [
    "From $\\beta_i^2$ we compute:\n",
    "$$\\lambda_i = \\sqrt{\\frac{E A_0 l_0}{G t_0} \\beta_i^2}$$\n",
    "\n",
    "substuting numerical values"
   ]
  },
  {
   "cell_type": "code",
   "execution_count": 28,
   "metadata": {
    "collapsed": false
   },
   "outputs": [
    {
     "data": {
      "image/png": "[encoded data removed]",
      "text/latex": [
       "$$\\left [ 57.1990296965913 - 2.23119434591815 \\cdot 10^{-21} i, \\quad 43.5551326864452 + 1.46506443419418 \\cdot 10^{-21} i, \\quad 130.113164991668 - 7.84684019694465 \\cdot 10^{-21} i\\right ]$$"
      ],
      "text/plain": [
       "[57.1990296965913 - - -2.23119434591815e-21⋅ⅈ, 43.5551326864452 + 1.4650644341\n",
       "9418e-21⋅ⅈ, 130.113164991668 - - -7.84684019694465e-21⋅ⅈ]"
      ]
     },
     "execution_count": 28,
     "metadata": {},
     "output_type": "execute_result"
    }
   ],
   "source": [
    "λ = [sympy.N(sympy.sqrt(E*A*b/(G*t)*βi).subs(datav)) for βi in β2]\n",
    "λ"
   ]
  },
  {
   "cell_type": "code",
   "execution_count": null,
   "metadata": {
    "collapsed": true
   },
   "outputs": [],
   "source": []
  }
 ],
 "metadata": {
  "kernelspec": {
   "display_name": "Python 3",
   "language": "python",
   "name": "python3"
  },
  "language_info": {
   "codemirror_mode": {
    "name": "ipython",
    "version": 3
   },
   "file_extension": ".py",
   "mimetype": "text/x-python",
   "name": "python",
   "nbconvert_exporter": "python",
   "pygments_lexer": "ipython3",
   "version": "3.5.1"
  }
 },
 "nbformat": 4,
 "nbformat_minor": 0
}
