{
 "cells": [
  {
   "cell_type": "markdown",
   "metadata": {},
   "source": [
    "# Semi-Monocoque Theory: corrective solutions"
   ]
  },
  {
   "cell_type": "code",
   "execution_count": 1,
   "metadata": {
    "collapsed": false
   },
   "outputs": [],
   "source": [
    "from pint import UnitRegistry\n",
    "import sympy\n",
    "import networkx as nx\n",
    "#import numpy as np\n",
    "import matplotlib.pyplot as plt\n",
    "#import sys\n",
    "%matplotlib inline\n",
    "from IPython.display import display"
   ]
  },
  {
   "cell_type": "markdown",
   "metadata": {},
   "source": [
    "Import **Section** class, which contains all calculations"
   ]
  },
  {
   "cell_type": "code",
   "execution_count": 2,
   "metadata": {
    "collapsed": false
   },
   "outputs": [],
   "source": [
    "from Section import Section"
   ]
  },
  {
   "cell_type": "markdown",
   "metadata": {},
   "source": [
    "Initialization of **sympy** symbolic tool and **pint** for dimension analysis (not really implemented rn as not directly compatible with sympy)"
   ]
  },
  {
   "cell_type": "code",
   "execution_count": 3,
   "metadata": {
    "collapsed": false
   },
   "outputs": [],
   "source": [
    "ureg = UnitRegistry()\n",
    "sympy.init_printing()"
   ]
  },
  {
   "cell_type": "markdown",
   "metadata": {},
   "source": [
    "Define **sympy** parameters used for geometric description of sections"
   ]
  },
  {
   "cell_type": "code",
   "execution_count": 4,
   "metadata": {
    "collapsed": false
   },
   "outputs": [],
   "source": [
    "A, A0, t, t0, a, b, h, L, E, G = sympy.symbols('A A_0 t t_0 a b h L E G', positive=True)"
   ]
  },
  {
   "cell_type": "markdown",
   "metadata": {},
   "source": [
    "We also define numerical values for each **symbol** in order to plot scaled section and perform calculations"
   ]
  },
  {
   "cell_type": "code",
   "execution_count": 5,
   "metadata": {
    "collapsed": false
   },
   "outputs": [],
   "source": [
    "values = [(A, 150 * ureg.millimeter**2),(A0, 250  * ureg.millimeter**2),(a, 80 * ureg.millimeter), \\\n",
    "          (b, 20 * ureg.millimeter),(h, 35 * ureg.millimeter),(L, 2000 * ureg.millimeter), \\\n",
    "          (t, 0.8 *ureg.millimeter),(E, 72e3 * ureg.MPa), (G, 27e3 * ureg.MPa)]\n",
    "datav = [(v[0],v[1].magnitude) for v in values]"
   ]
  },
  {
   "cell_type": "markdown",
   "metadata": {
    "collapsed": false
   },
   "source": [
    "# Third example: Simple rectangular section with 7 nodes"
   ]
  },
  {
   "cell_type": "markdown",
   "metadata": {},
   "source": [
    "Define graph describing the section:\n",
    "\n",
    "1) **stringers** are **nodes** with parameters:\n",
    "- **x** coordinate\n",
    "- **y** coordinate\n",
    "- **Area**\n",
    "\n",
    "2) **panels** are **oriented edges** with parameters:\n",
    "- **thickness**\n",
    "- **lenght** which is automatically calculated"
   ]
  },
  {
   "cell_type": "code",
   "execution_count": 6,
   "metadata": {
    "collapsed": false
   },
   "outputs": [],
   "source": [
    "stringers = {1:[(3*a,h),A],\n",
    "             2:[(2*a,h),A],\n",
    "             3:[(a,h),A],\n",
    "             4:[(sympy.Integer(0),h),A],\n",
    "             5:[(sympy.Integer(0),sympy.Integer(0)),A],\n",
    "             6:[(sympy.Rational(3,2)*a,sympy.Integer(0)),A],\n",
    "             7:[(3*a,sympy.Integer(0)),A]}\n",
    "\n",
    "panels = {(1,2):t,\n",
    "          (2,3):t,\n",
    "          (3,4):t,\n",
    "          (4,5):t,\n",
    "          (5,6):t,\n",
    "          (6,7):t,\n",
    "          (7,1):t}"
   ]
  },
  {
   "cell_type": "markdown",
   "metadata": {},
   "source": [
    "Define section and perform first calculations"
   ]
  },
  {
   "cell_type": "code",
   "execution_count": 7,
   "metadata": {
    "collapsed": false
   },
   "outputs": [],
   "source": [
    "S1 = Section(stringers, panels)"
   ]
  },
  {
   "cell_type": "code",
   "execution_count": 8,
   "metadata": {
    "collapsed": false
   },
   "outputs": [
    {
     "data": {
      "image/png": "[encoded data removed]",
      "text/latex": [
       "$$\\left [ \\left [ 2, \\quad 3, \\quad 4, \\quad 5, \\quad 6, \\quad 7, \\quad 1, \\quad 2\\right ]\\right ]$$"
      ],
      "text/plain": [
       "[[2, 3, 4, 5, 6, 7, 1, 2]]"
      ]
     },
     "execution_count": 8,
     "metadata": {},
     "output_type": "execute_result"
    }
   ],
   "source": [
    "S1.cycles"
   ]
  },
  {
   "cell_type": "markdown",
   "metadata": {
    "collapsed": false
   },
   "source": [
    "## Plot of **S1** section in original reference frame"
   ]
  },
  {
   "cell_type": "markdown",
   "metadata": {},
   "source": [
    "Define a dictionary of coordinates used by **Networkx** to plot section as a Directed graph.\n",
    "Note that arrows are actually just thicker stubs"
   ]
  },
  {
   "cell_type": "code",
   "execution_count": 9,
   "metadata": {
    "collapsed": true
   },
   "outputs": [],
   "source": [
    "start_pos={ii: [float(S1.g.node[ii]['ip'][i].subs(datav)) for i in range(2)] for ii in S1.g.nodes() }"
   ]
  },
  {
   "cell_type": "code",
   "execution_count": 10,
   "metadata": {
    "collapsed": false
   },
   "outputs": [
    {
     "data": {
      "image/png": "[encoded data removed]",
      "text/plain": [
       "<matplotlib.figure.Figure at 0x7f04c92ad278>"
      ]
     },
     "metadata": {},
     "output_type": "display_data"
    }
   ],
   "source": [
    "plt.figure(figsize=(12,8),dpi=300)\n",
    "nx.draw(S1.g,with_labels=True, arrows= True, pos=start_pos)\n",
    "plt.arrow(0,0,20,0)\n",
    "plt.arrow(0,0,0,20)\n",
    "#plt.text(0,0, 'CG', fontsize=24)\n",
    "plt.axis('equal')\n",
    "plt.title(\"Section in starting reference Frame\",fontsize=16);"
   ]
  },
  {
   "cell_type": "markdown",
   "metadata": {},
   "source": [
    "## Plot of **S1** section in inertial reference Frame"
   ]
  },
  {
   "cell_type": "markdown",
   "metadata": {},
   "source": [
    "Section is plotted wrt **center of gravity** and rotated (if necessary) so that *x* and *y* are principal axes.\n",
    "**Center of Gravity** and **Shear Center** are drawn"
   ]
  },
  {
   "cell_type": "code",
   "execution_count": 11,
   "metadata": {
    "collapsed": true
   },
   "outputs": [],
   "source": [
    "positions={ii: [float(S1.g.node[ii]['pos'][i].subs(datav)) for i in range(2)] for ii in S1.g.nodes() }"
   ]
  },
  {
   "cell_type": "code",
   "execution_count": 12,
   "metadata": {
    "collapsed": false
   },
   "outputs": [
    {
     "data": {
      "image/png": "[encoded data removed]",
      "text/plain": [
       "<matplotlib.figure.Figure at 0x7f04c92ad208>"
      ]
     },
     "metadata": {},
     "output_type": "display_data"
    }
   ],
   "source": [
    "x_ct, y_ct = S1.ct.subs(datav)\n",
    "\n",
    "plt.figure(figsize=(12,8),dpi=300)\n",
    "nx.draw(S1.g,with_labels=True, pos=positions)\n",
    "plt.plot([0],[0],'o',ms=12,label='CG')\n",
    "plt.plot([x_ct],[y_ct],'^',ms=12, label='SC')\n",
    "#plt.text(0,0, 'CG', fontsize=24)\n",
    "#plt.text(x_ct,y_ct, 'SC', fontsize=24)\n",
    "plt.legend(loc='lower right', shadow=True)\n",
    "plt.axis('equal')\n",
    "plt.title(\"Section in pricipal reference Frame\",fontsize=16);"
   ]
  },
  {
   "cell_type": "markdown",
   "metadata": {},
   "source": [
    "Expression of **inertial properties** in *principal reference frame*"
   ]
  },
  {
   "cell_type": "code",
   "execution_count": 13,
   "metadata": {
    "collapsed": false
   },
   "outputs": [
    {
     "data": {
      "image/png": "[encoded data removed]",
      "text/latex": [
       "$$\\left ( \\frac{12 A}{7} h^{2}, \\quad \\frac{19 A}{2} a^{2}, \\quad 0, \\quad 0\\right )$$"
      ],
      "text/plain": [
       "⎛      2        2      ⎞\n",
       "⎜12⋅A⋅h   19⋅A⋅a       ⎟\n",
       "⎜───────, ───────, 0, 0⎟\n",
       "⎝   7        2         ⎠"
      ]
     },
     "execution_count": 13,
     "metadata": {},
     "output_type": "execute_result"
    }
   ],
   "source": [
    "sympy.simplify(S1.Ixx), sympy.simplify(S1.Iyy), sympy.simplify(S1.Ixy), sympy.simplify(S1.θ)"
   ]
  },
  {
   "cell_type": "code",
   "execution_count": 14,
   "metadata": {
    "collapsed": false
   },
   "outputs": [
    {
     "data": {
      "text/plain": [
       "[{'edges': [((1, 2), (3, 4)), (2, 3), ((4, 5), (7, 1)), ((5, 6), (6, 7))],\n",
       "  'nodes': [(1, 4), (2, 3), (5, 7), (6, 6)]},\n",
       " {'edges': [], 'nodes': []}]"
      ]
     },
     "execution_count": 14,
     "metadata": {},
     "output_type": "execute_result"
    }
   ],
   "source": [
    "S1.symmetry"
   ]
  },
  {
   "cell_type": "code",
   "execution_count": 15,
   "metadata": {
    "collapsed": false
   },
   "outputs": [],
   "source": [
    "S1.compute_L()"
   ]
  },
  {
   "cell_type": "code",
   "execution_count": 16,
   "metadata": {
    "collapsed": false
   },
   "outputs": [
    {
     "data": {
      "image/png": "[encoded data removed]",
      "text/latex": [
       "$$\\left[\\begin{matrix}-1 & 0 & 1 & - \\frac{1}{3}\\\\1 & 0 & 0 & 1\\\\1 & 0 & 0 & -1\\\\-1 & 0 & -1 & \\frac{1}{3}\\\\0 & - \\frac{1}{2} & 1 & 0\\\\0 & 1 & 0 & 0\\\\0 & - \\frac{1}{2} & -1 & 0\\end{matrix}\\right]$$"
      ],
      "text/plain": [
       "⎡-1   0    1   -1/3⎤\n",
       "⎢                  ⎥\n",
       "⎢1    0    0    1  ⎥\n",
       "⎢                  ⎥\n",
       "⎢1    0    0    -1 ⎥\n",
       "⎢                  ⎥\n",
       "⎢-1   0    -1  1/3 ⎥\n",
       "⎢                  ⎥\n",
       "⎢0   -1/2  1    0  ⎥\n",
       "⎢                  ⎥\n",
       "⎢0    1    0    0  ⎥\n",
       "⎢                  ⎥\n",
       "⎣0   -1/2  -1   0  ⎦"
      ]
     },
     "execution_count": 16,
     "metadata": {},
     "output_type": "execute_result"
    }
   ],
   "source": [
    "S1.L"
   ]
  },
  {
   "cell_type": "code",
   "execution_count": 17,
   "metadata": {
    "collapsed": false
   },
   "outputs": [],
   "source": [
    "S1.compute_H()"
   ]
  },
  {
   "cell_type": "code",
   "execution_count": 18,
   "metadata": {
    "collapsed": false
   },
   "outputs": [
    {
     "data": {
      "image/png": "[encoded data removed]",
      "text/latex": [
       "$$\\left[\\begin{matrix}1 & 0 & - \\frac{1}{2} & \\frac{1}{3}\\\\0 & 0 & - \\frac{1}{2} & - \\frac{2}{3}\\\\-1 & 0 & - \\frac{1}{2} & \\frac{1}{3}\\\\0 & 0 & \\frac{1}{2} & 0\\\\0 & \\frac{1}{2} & - \\frac{1}{2} & 0\\\\0 & - \\frac{1}{2} & - \\frac{1}{2} & 0\\\\0 & 0 & \\frac{1}{2} & 0\\end{matrix}\\right]$$"
      ],
      "text/plain": [
       "⎡1    0    -1/2  1/3 ⎤\n",
       "⎢                    ⎥\n",
       "⎢0    0    -1/2  -2/3⎥\n",
       "⎢                    ⎥\n",
       "⎢-1   0    -1/2  1/3 ⎥\n",
       "⎢                    ⎥\n",
       "⎢0    0    1/2    0  ⎥\n",
       "⎢                    ⎥\n",
       "⎢0   1/2   -1/2   0  ⎥\n",
       "⎢                    ⎥\n",
       "⎢0   -1/2  -1/2   0  ⎥\n",
       "⎢                    ⎥\n",
       "⎣0    0    1/2    0  ⎦"
      ]
     },
     "execution_count": 18,
     "metadata": {},
     "output_type": "execute_result"
    }
   ],
   "source": [
    "S1.H.subs(datav)"
   ]
  },
  {
   "cell_type": "code",
   "execution_count": 19,
   "metadata": {
    "collapsed": true
   },
   "outputs": [],
   "source": [
    "S1.compute_KM(A,h,t)"
   ]
  },
  {
   "cell_type": "code",
   "execution_count": 20,
   "metadata": {
    "collapsed": false
   },
   "outputs": [
    {
     "data": {
      "image/png": "[encoded data removed]",
      "text/latex": [
       "$$\\left[\\begin{matrix}4 & 0 & 0 & 0\\\\0 & \\frac{3}{2} & 0 & 0\\\\0 & 0 & 4 & - \\frac{2}{3}\\\\0 & 0 & - \\frac{2}{3} & \\frac{20}{9}\\end{matrix}\\right]$$"
      ],
      "text/plain": [
       "⎡4   0    0     0  ⎤\n",
       "⎢                  ⎥\n",
       "⎢0  3/2   0     0  ⎥\n",
       "⎢                  ⎥\n",
       "⎢0   0    4    -2/3⎥\n",
       "⎢                  ⎥\n",
       "⎣0   0   -2/3  20/9⎦"
      ]
     },
     "execution_count": 20,
     "metadata": {},
     "output_type": "execute_result"
    }
   ],
   "source": [
    "S1.Ktilde"
   ]
  },
  {
   "cell_type": "code",
   "execution_count": 21,
   "metadata": {
    "collapsed": false
   },
   "outputs": [
    {
     "data": {
      "image/png": "[encoded data removed]",
      "text/latex": [
       "$$\\left[\\begin{matrix}\\frac{32}{7} & 0 & 0 & 0\\\\0 & \\frac{12}{7} & 0 & 0\\\\0 & 0 & \\frac{55}{14} & 0\\\\0 & 0 & 0 & \\frac{32}{21}\\end{matrix}\\right]$$"
      ],
      "text/plain": [
       "⎡32/7   0    0   0 ⎤\n",
       "⎢                  ⎥\n",
       "⎢ 0    12/7  0   0 ⎥\n",
       "⎢                  ⎥\n",
       "⎢            55    ⎥\n",
       "⎢ 0     0    ──  0 ⎥\n",
       "⎢            14    ⎥\n",
       "⎢                  ⎥\n",
       "⎢                32⎥\n",
       "⎢ 0     0    0   ──⎥\n",
       "⎣                21⎦"
      ]
     },
     "execution_count": 21,
     "metadata": {},
     "output_type": "execute_result"
    }
   ],
   "source": [
    "S1.Mtilde.subs(datav)"
   ]
  },
  {
   "cell_type": "code",
   "execution_count": 22,
   "metadata": {
    "collapsed": false
   },
   "outputs": [
    {
     "data": {
      "image/png": "[encoded data removed]",
      "text/latex": [
       "$$\\left [ \\left ( \\frac{8}{7}, \\quad 2, \\quad \\left [ \\left[\\begin{matrix}1\\\\0\\\\0\\\\0\\end{matrix}\\right], \\quad \\left[\\begin{matrix}0\\\\1\\\\0\\\\0\\end{matrix}\\right]\\right ]\\right ), \\quad \\left ( - \\frac{\\sqrt{17449}}{532} + \\frac{467}{532}, \\quad 1, \\quad \\left [ \\left[\\begin{matrix}0\\\\0\\\\- \\frac{16}{\\frac{83}{4} + \\frac{\\sqrt{17449}}{4}}\\\\1\\end{matrix}\\right]\\right ]\\right ), \\quad \\left ( \\frac{\\sqrt{17449}}{532} + \\frac{467}{532}, \\quad 1, \\quad \\left [ \\left[\\begin{matrix}0\\\\0\\\\- \\frac{16}{- \\frac{\\sqrt{17449}}{4} + \\frac{83}{4}}\\\\1\\end{matrix}\\right]\\right ]\\right )\\right ]$$"
      ],
      "text/plain": [
       "⎡                      ⎛    _______                                    ⎞  ⎛  _\n",
       "⎢                      ⎜  ╲╱ 17449    467                              ⎟  ⎜╲╱ \n",
       "⎢⎛8/7, 2, ⎡⎡1⎤, ⎡0⎤⎤⎞, ⎜- ───────── + ───, 1, ⎡⎡          0          ⎤⎤⎟, ⎜───\n",
       "⎢⎜        ⎢⎢ ⎥  ⎢ ⎥⎥⎟  ⎜     532      532     ⎢⎢                     ⎥⎥⎟  ⎜   \n",
       "⎢⎜        ⎢⎢0⎥  ⎢1⎥⎥⎟  ⎜                      ⎢⎢          0          ⎥⎥⎟  ⎜   \n",
       "⎢⎜        ⎢⎢ ⎥  ⎢ ⎥⎥⎟  ⎜                      ⎢⎢                     ⎥⎥⎟  ⎜   \n",
       "⎢⎜        ⎢⎢0⎥  ⎢0⎥⎥⎟  ⎜                      ⎢⎢         -16         ⎥⎥⎟  ⎜   \n",
       "⎢⎜        ⎢⎢ ⎥  ⎢ ⎥⎥⎟  ⎜                      ⎢⎢─────────────────────⎥⎥⎟  ⎜   \n",
       "⎢⎝        ⎣⎣0⎦  ⎣0⎦⎦⎠  ⎜                      ⎢⎢    ⎛        _______⎞⎥⎥⎟  ⎜   \n",
       "⎢                      ⎜                      ⎢⎢    ⎜ 83   ╲╱ 17449 ⎟⎥⎥⎟  ⎜   \n",
       "⎢                      ⎜                      ⎢⎢133⋅⎜─── + ─────────⎟⎥⎥⎟  ⎜   \n",
       "⎢                      ⎜                      ⎢⎢    ⎝532      532   ⎠⎥⎥⎟  ⎜   \n",
       "⎢                      ⎜                      ⎢⎢                     ⎥⎥⎟  ⎜   \n",
       "⎣                      ⎝                      ⎣⎣          1          ⎦⎦⎠  ⎝   \n",
       "\n",
       "______                                      ⎞⎤\n",
       "17449    467                                ⎟⎥\n",
       "────── + ───, 1, ⎡⎡           0           ⎤⎤⎟⎥\n",
       "532      532     ⎢⎢                       ⎥⎥⎟⎥\n",
       "                 ⎢⎢           0           ⎥⎥⎟⎥\n",
       "                 ⎢⎢                       ⎥⎥⎟⎥\n",
       "                 ⎢⎢          -16          ⎥⎥⎟⎥\n",
       "                 ⎢⎢───────────────────────⎥⎥⎟⎥\n",
       "                 ⎢⎢    ⎛    _______      ⎞⎥⎥⎟⎥\n",
       "                 ⎢⎢    ⎜  ╲╱ 17449     83⎟⎥⎥⎟⎥\n",
       "                 ⎢⎢133⋅⎜- ───────── + ───⎟⎥⎥⎟⎥\n",
       "                 ⎢⎢    ⎝     532      532⎠⎥⎥⎟⎥\n",
       "                 ⎢⎢                       ⎥⎥⎟⎥\n",
       "                 ⎣⎣           1           ⎦⎦⎠⎦"
      ]
     },
     "execution_count": 22,
     "metadata": {},
     "output_type": "execute_result"
    }
   ],
   "source": [
    "sol_data = (S1.Ktilde.inv()*(S1.Mtilde.subs(datav))).eigenvects()\n",
    "sol_data"
   ]
  },
  {
   "cell_type": "code",
   "execution_count": 23,
   "metadata": {
    "collapsed": false
   },
   "outputs": [
    {
     "data": {
      "image/png": "[encoded data removed]",
      "text/latex": [
       "$$\\left [ \\frac{8}{7}, \\quad - \\frac{\\sqrt{17449}}{532} + \\frac{467}{532}, \\quad \\frac{\\sqrt{17449}}{532} + \\frac{467}{532}\\right ]$$"
      ],
      "text/plain": [
       "⎡         _______          _______      ⎤\n",
       "⎢       ╲╱ 17449    467  ╲╱ 17449    467⎥\n",
       "⎢8/7, - ───────── + ───, ───────── + ───⎥\n",
       "⎣          532      532     532      532⎦"
      ]
     },
     "execution_count": 23,
     "metadata": {},
     "output_type": "execute_result"
    }
   ],
   "source": [
    "β2 = [sol[0] for sol in sol_data]\n",
    "β2"
   ]
  },
  {
   "cell_type": "code",
   "execution_count": 24,
   "metadata": {
    "collapsed": false
   },
   "outputs": [
    {
     "data": {
      "image/png": "[encoded data removed]",
      "text/latex": [
       "$$\\left [ \\left[\\begin{matrix}1.0\\\\0\\\\0\\\\0\\end{matrix}\\right], \\quad \\left[\\begin{matrix}0\\\\1.0\\\\0\\\\0\\end{matrix}\\right], \\quad \\left[\\begin{matrix}0\\\\0\\\\-0.285186998575641\\\\0.958471896219924\\end{matrix}\\right], \\quad \\left[\\begin{matrix}0\\\\0\\\\0.793438739738669\\\\0.608650118115418\\end{matrix}\\right]\\right ]$$"
      ],
      "text/plain": [
       "⎡⎡1.0⎤, ⎡ 0 ⎤, ⎡        0         ⎤, ⎡        0        ⎤⎤\n",
       "⎢⎢   ⎥  ⎢   ⎥  ⎢                  ⎥  ⎢                 ⎥⎥\n",
       "⎢⎢ 0 ⎥  ⎢1.0⎥  ⎢        0         ⎥  ⎢        0        ⎥⎥\n",
       "⎢⎢   ⎥  ⎢   ⎥  ⎢                  ⎥  ⎢                 ⎥⎥\n",
       "⎢⎢ 0 ⎥  ⎢ 0 ⎥  ⎢-0.285186998575641⎥  ⎢0.793438739738669⎥⎥\n",
       "⎢⎢   ⎥  ⎢   ⎥  ⎢                  ⎥  ⎢                 ⎥⎥\n",
       "⎣⎣ 0 ⎦  ⎣ 0 ⎦  ⎣0.958471896219924 ⎦  ⎣0.608650118115418⎦⎦"
      ]
     },
     "execution_count": 24,
     "metadata": {},
     "output_type": "execute_result"
    }
   ],
   "source": [
    "X = []\n",
    "for sol in sol_data:\n",
    "    for i in range(len(sol[2])):\n",
    "        X.append(sympy.N(sol[2][i]/sol[2][i].norm()))\n",
    "X"
   ]
  },
  {
   "cell_type": "code",
   "execution_count": 25,
   "metadata": {
    "collapsed": false
   },
   "outputs": [
    {
     "data": {
      "image/png": "[encoded data removed]",
      "text/latex": [
       "$$\\left [ 141.42135623731, \\quad 104.960101594703, \\quad 140.381841004298\\right ]$$"
      ],
      "text/plain": [
       "[141.42135623731, 104.960101594703, 140.381841004298]"
      ]
     },
     "execution_count": 25,
     "metadata": {},
     "output_type": "execute_result"
    }
   ],
   "source": [
    "λ = [sympy.N(sympy.sqrt(E*A*h/(G*t)*βi).subs(datav)) for βi in β2]\n",
    "λ"
   ]
  },
  {
   "cell_type": "code",
   "execution_count": null,
   "metadata": {
    "collapsed": true
   },
   "outputs": [],
   "source": []
  }
 ],
 "metadata": {
  "kernelspec": {
   "display_name": "Python 3",
   "language": "python",
   "name": "python3"
  },
  "language_info": {
   "codemirror_mode": {
    "name": "ipython",
    "version": 3
   },
   "file_extension": ".py",
   "mimetype": "text/x-python",
   "name": "python",
   "nbconvert_exporter": "python",
   "pygments_lexer": "ipython3",
   "version": "3.5.1"
  }
 },
 "nbformat": 4,
 "nbformat_minor": 0
}
