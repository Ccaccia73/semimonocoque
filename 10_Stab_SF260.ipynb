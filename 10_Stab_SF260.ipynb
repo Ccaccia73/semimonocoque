{
 "cells": [
  {
   "cell_type": "markdown",
   "metadata": {},
   "source": [
    "# SF 260 Stabilizer"
   ]
  },
  {
   "cell_type": "code",
   "execution_count": 1,
   "metadata": {
    "collapsed": false
   },
   "outputs": [],
   "source": [
    "from pint import UnitRegistry\n",
    "import sympy\n",
    "import networkx as nx\n",
    "import numpy as np\n",
    "import matplotlib.pyplot as plt\n",
    "#import sys\n",
    "%matplotlib inline\n",
    "#from IPython.display import display"
   ]
  },
  {
   "cell_type": "markdown",
   "metadata": {},
   "source": [
    "Import **Section** class, which contains all calculations"
   ]
  },
  {
   "cell_type": "code",
   "execution_count": 2,
   "metadata": {
    "collapsed": false
   },
   "outputs": [],
   "source": [
    "from Section import Section"
   ]
  },
  {
   "cell_type": "markdown",
   "metadata": {},
   "source": [
    "Initialization of **sympy** symbolic tool and **pint** for dimension analysis (not really implemented rn as not directly compatible with sympy)"
   ]
  },
  {
   "cell_type": "code",
   "execution_count": 3,
   "metadata": {
    "collapsed": false
   },
   "outputs": [],
   "source": [
    "ureg = UnitRegistry()\n",
    "sympy.init_printing()"
   ]
  },
  {
   "cell_type": "markdown",
   "metadata": {},
   "source": [
    "Define **sympy** parameters used for geometric description of sections"
   ]
  },
  {
   "cell_type": "code",
   "execution_count": 4,
   "metadata": {
    "collapsed": false
   },
   "outputs": [],
   "source": [
    "Ams, Afs, Amid, Atip, tms, tfs, tpt, tpn, hms, hfs, xfs, xtip, L = \\\n",
    "sympy.symbols('A_ms A_fs A_mid A_tip t_ms t_fs t_pn t_pt h_ms h_fs x_sp x_tip L', positive=True)"
   ]
  },
  {
   "cell_type": "markdown",
   "metadata": {},
   "source": [
    "We also define numerical values for each **symbol** in order to plot scaled section and perform calculations"
   ]
  },
  {
   "cell_type": "code",
   "execution_count": 5,
   "metadata": {
    "collapsed": true
   },
   "outputs": [],
   "source": [
    "L1 = (205.+110.)/2\n",
    "tg_β = 381.8/1400.\n",
    "\n",
    "xtip1 = -651.8 + np.arctan(tg_β)*L1/2\n",
    "\n",
    "\n",
    "# altezza longheroni\n",
    "hms1 = 45.\n",
    "hfs1 = 50.\n",
    "#pos longherone anteriore\n",
    "xfs1 = -345.\n",
    "# spessore pannello\n",
    "tpt1 = 0.81\n",
    "\n",
    "# punghezza pannello 1\n",
    "lp1 = np.sqrt((hms1-hfs1)**2+xfs1**2)\n",
    "\n",
    "# area pannello 1\n",
    "Ap1 =lp1*tpt1\n",
    "\n",
    "#spessore longheroni\n",
    "tms1 = 3.6\n",
    "tfs1 = 1.471*2\n",
    "\n",
    "# area correnti\n",
    "Astr_ms1=2.28760E+02\n",
    "Astr_fs1=1.471*25.\n",
    "\n",
    "# AREE\n",
    "Ams1 = hms1*tms1/6+Ap1/4+Astr_ms1\n",
    "Afs1 = hfs1*tfs1/6+Ap1/4+Astr_fs1\n",
    "Amid1 = Ap1/2"
   ]
  },
  {
   "cell_type": "code",
   "execution_count": 6,
   "metadata": {
    "collapsed": false
   },
   "outputs": [],
   "source": [
    "values = [(Ams, Ams1 * ureg.millimeter**2),(Afs, Afs1  * ureg.millimeter**2), \\\n",
    "          (Amid, Amid1 * ureg.millimeter**2),(Atip, 0 * ureg.millimeter), \\\n",
    "          (tms, tms1 * ureg.millimeter),(tfs, tfs1 * ureg.millimeter), \\\n",
    "          (tpt, tpt1 * ureg.millimeter), (tpn, 0. * ureg.millimeter), \\\n",
    "          (hms, hms1 * ureg.millimeter), (hfs, hfs1 * ureg.millimeter), \\\n",
    "          (xfs, xfs1 * ureg.millimeter), (xtip, xtip1 * ureg.millimeter),\n",
    "          (L,  L1* ureg.millimeter)]\n",
    "datav = [(v[0],v[1].magnitude) for v in values]"
   ]
  },
  {
   "cell_type": "markdown",
   "metadata": {
    "collapsed": false
   },
   "source": [
    "# First section"
   ]
  },
  {
   "cell_type": "markdown",
   "metadata": {},
   "source": [
    "Define graph describing the section:\n",
    "\n",
    "1) **stringers** are **nodes** with parameters:\n",
    "- **x** coordinate\n",
    "- **y** coordinate\n",
    "- **Area**\n",
    "\n",
    "2) **panels** are **oriented edges** with parameters:\n",
    "- **thickness**\n",
    "- **lenght** which is automatically calculated"
   ]
  },
  {
   "cell_type": "code",
   "execution_count": 7,
   "metadata": {
    "collapsed": false
   },
   "outputs": [],
   "source": [
    "stringers = {1:[(sympy.Integer(0),hms),Ams],\n",
    "             2:[(xfs/2,(hms+hfs)/2),Amid],\n",
    "             3:[(xfs,hfs),Afs],\n",
    "             4:[(xfs,-hfs),Afs],\n",
    "             5:[(xfs/2,-(hms+hfs)/2),Amid],\n",
    "             6:[(sympy.Integer(0),-hms),Ams]}\n",
    "\n",
    "panels = {(1,2):tpt,\n",
    "          (2,3):tpt,\n",
    "          (3,4):tfs,\n",
    "          (4,5):tpt,\n",
    "          (5,6):tpt,\n",
    "          (6,1):tms}"
   ]
  },
  {
   "cell_type": "markdown",
   "metadata": {},
   "source": [
    "Define section and perform first calculations"
   ]
  },
  {
   "cell_type": "code",
   "execution_count": 8,
   "metadata": {
    "collapsed": false
   },
   "outputs": [],
   "source": [
    "S1 = Section(stringers, panels)"
   ]
  },
  {
   "cell_type": "markdown",
   "metadata": {},
   "source": [
    "## Verify that we find a simply closed section"
   ]
  },
  {
   "cell_type": "code",
   "execution_count": 9,
   "metadata": {
    "collapsed": false
   },
   "outputs": [
    {
     "data": {
      "image/png": "[encoded data removed]",
      "text/latex": [
       "$$\\left [ \\left [ 2, \\quad 3, \\quad 4, \\quad 5, \\quad 6, \\quad 1, \\quad 2\\right ]\\right ]$$"
      ],
      "text/plain": [
       "[[2, 3, 4, 5, 6, 1, 2]]"
      ]
     },
     "execution_count": 9,
     "metadata": {},
     "output_type": "execute_result"
    }
   ],
   "source": [
    "S1.cycles"
   ]
  },
  {
   "cell_type": "markdown",
   "metadata": {
    "collapsed": false
   },
   "source": [
    "## Plot of **S1** section in original reference frame"
   ]
  },
  {
   "cell_type": "markdown",
   "metadata": {},
   "source": [
    "Define a dictionary of coordinates used by **Networkx** to plot section as a Directed graph.\n",
    "Note that arrows are actually just thicker stubs"
   ]
  },
  {
   "cell_type": "code",
   "execution_count": 10,
   "metadata": {
    "collapsed": true
   },
   "outputs": [],
   "source": [
    "start_pos={ii: [float(S1.g.node[ii]['ip'][i].subs(datav)) for i in range(2)] for ii in S1.g.nodes() }"
   ]
  },
  {
   "cell_type": "code",
   "execution_count": 11,
   "metadata": {
    "collapsed": false
   },
   "outputs": [
    {
     "data": {
      "image/png": "[encoded data removed]",
      "text/plain": [
       "<matplotlib.figure.Figure at 0x7f6f21e11710>"
      ]
     },
     "metadata": {},
     "output_type": "display_data"
    }
   ],
   "source": [
    "plt.figure(figsize=(12,8),dpi=300)\n",
    "nx.draw(S1.g,with_labels=True, arrows= True, pos=start_pos)\n",
    "plt.arrow(0,0,20,0)\n",
    "plt.arrow(0,0,0,20)\n",
    "#plt.text(0,0, 'CG', fontsize=24)\n",
    "plt.axis('equal')\n",
    "plt.title(\"Section in starting reference Frame\",fontsize=16);"
   ]
  },
  {
   "cell_type": "markdown",
   "metadata": {},
   "source": [
    "Expression of **Inertial properties** wrt Center of Gravity in with original rotation"
   ]
  },
  {
   "cell_type": "code",
   "execution_count": 12,
   "metadata": {
    "collapsed": false
   },
   "outputs": [
    {
     "data": {
      "image/png": "[encoded data removed]",
      "text/latex": [
       "$$\\left ( 2 A_{fs} h_{fs}^{2} + \\frac{A_{mid} h_{fs}^{2}}{2} + A_{mid} h_{fs} h_{ms} + \\frac{A_{mid} h_{ms}^{2}}{2} + 2 A_{ms} h_{ms}^{2}, \\quad \\frac{x_{sp}^{2} \\left(\\frac{A_{fs} A_{mid}}{2} + 2 A_{fs} A_{ms} + \\frac{A_{mid} A_{ms}}{2}\\right)}{A_{fs} + A_{mid} + A_{ms}}, \\quad 0, \\quad 0\\right )$$"
      ],
      "text/plain": [
       "⎛                                                                          2 ⎛\n",
       "⎜                         2                             2               xₛₚ ⋅⎜\n",
       "⎜           2   A_mid⋅h_fs                     A_mid⋅hₘₛ             2       ⎝\n",
       "⎜2⋅A_fs⋅h_fs  + ─────────── + A_mid⋅h_fs⋅hₘₛ + ────────── + 2⋅Aₘₛ⋅hₘₛ , ──────\n",
       "⎝                    2                             2                          \n",
       "\n",
       "A_fs⋅A_mid                A_mid⋅Aₘₛ⎞      ⎞\n",
       "────────── + 2⋅A_fs⋅Aₘₛ + ─────────⎟      ⎟\n",
       "    2                         2    ⎠      ⎟\n",
       "────────────────────────────────────, 0, 0⎟\n",
       "      A_fs + A_mid + Aₘₛ                  ⎠"
      ]
     },
     "execution_count": 12,
     "metadata": {},
     "output_type": "execute_result"
    }
   ],
   "source": [
    "S1.Ixx0, S1.Iyy0, S1.Ixy0, S1.α0"
   ]
  },
  {
   "cell_type": "markdown",
   "metadata": {},
   "source": [
    "## Plot of **S1** section in inertial reference Frame"
   ]
  },
  {
   "cell_type": "markdown",
   "metadata": {},
   "source": [
    "Section is plotted wrt **center of gravity** and rotated (if necessary) so that *x* and *y* are principal axes.\n",
    "**Center of Gravity** and **Shear Center** are drawn"
   ]
  },
  {
   "cell_type": "code",
   "execution_count": 13,
   "metadata": {
    "collapsed": true
   },
   "outputs": [],
   "source": [
    "positions={ii: [float(S1.g.node[ii]['pos'][i].subs(datav)) for i in range(2)] for ii in S1.g.nodes() }"
   ]
  },
  {
   "cell_type": "code",
   "execution_count": 14,
   "metadata": {
    "collapsed": false
   },
   "outputs": [
    {
     "data": {
      "image/png": "[encoded data removed]",
      "text/plain": [
       "<matplotlib.figure.Figure at 0x7f6f21dac4e0>"
      ]
     },
     "metadata": {},
     "output_type": "display_data"
    }
   ],
   "source": [
    "x_ct, y_ct = S1.ct.subs(datav)\n",
    "\n",
    "plt.figure(figsize=(12,8),dpi=300)\n",
    "nx.draw(S1.g,with_labels=True, pos=positions)\n",
    "plt.plot([0],[0],'o',ms=12,label='CG')\n",
    "plt.plot([x_ct],[y_ct],'^',ms=12, label='SC')\n",
    "#plt.text(0,0, 'CG', fontsize=24)\n",
    "#plt.text(x_ct,y_ct, 'SC', fontsize=24)\n",
    "plt.legend(loc='lower right', shadow=True)\n",
    "plt.axis('equal')\n",
    "plt.title(\"Section in pricipal reference Frame\",fontsize=16);"
   ]
  },
  {
   "cell_type": "markdown",
   "metadata": {},
   "source": [
    "Expression of **inertial properties** in *principal reference frame*"
   ]
  },
  {
   "cell_type": "code",
   "execution_count": 15,
   "metadata": {
    "collapsed": false
   },
   "outputs": [
    {
     "data": {
      "image/png": "[encoded data removed]",
      "text/latex": [
       "$$\\left ( 2 A_{fs} h_{fs}^{2} + \\frac{A_{mid} h_{fs}^{2}}{2} + A_{mid} h_{fs} h_{ms} + \\frac{A_{mid} h_{ms}^{2}}{2} + 2 A_{ms} h_{ms}^{2}, \\quad \\frac{x_{sp}^{2} \\left(\\frac{A_{fs} A_{mid}}{2} + 2 A_{fs} A_{ms} + \\frac{A_{mid} A_{ms}}{2}\\right)}{A_{fs} + A_{mid} + A_{ms}}, \\quad 0, \\quad 0\\right )$$"
      ],
      "text/plain": [
       "⎛                                                                          2 ⎛\n",
       "⎜                         2                             2               xₛₚ ⋅⎜\n",
       "⎜           2   A_mid⋅h_fs                     A_mid⋅hₘₛ             2       ⎝\n",
       "⎜2⋅A_fs⋅h_fs  + ─────────── + A_mid⋅h_fs⋅hₘₛ + ────────── + 2⋅Aₘₛ⋅hₘₛ , ──────\n",
       "⎝                    2                             2                          \n",
       "\n",
       "A_fs⋅A_mid                A_mid⋅Aₘₛ⎞      ⎞\n",
       "────────── + 2⋅A_fs⋅Aₘₛ + ─────────⎟      ⎟\n",
       "    2                         2    ⎠      ⎟\n",
       "────────────────────────────────────, 0, 0⎟\n",
       "      A_fs + A_mid + Aₘₛ                  ⎠"
      ]
     },
     "execution_count": 15,
     "metadata": {},
     "output_type": "execute_result"
    }
   ],
   "source": [
    "S1.Ixx, S1.Iyy, S1.Ixy, S1.θ"
   ]
  },
  {
   "cell_type": "code",
   "execution_count": 16,
   "metadata": {
    "collapsed": false
   },
   "outputs": [],
   "source": [
    "Ixx1 = S1.Ixx.subs(datav)"
   ]
  },
  {
   "cell_type": "markdown",
   "metadata": {
    "collapsed": true
   },
   "source": [
    "## Compute axial loads in Stringers in **S1**"
   ]
  },
  {
   "cell_type": "markdown",
   "metadata": {},
   "source": [
    "We first define some symbols:"
   ]
  },
  {
   "cell_type": "code",
   "execution_count": 17,
   "metadata": {
    "collapsed": true
   },
   "outputs": [],
   "source": [
    "Tx, Ty, Nz, Mx, My, Mz, F, ry, ry, mz = sympy.symbols('T_x T_y N_z M_x M_y M_z F r_y r_x m_z')"
   ]
  },
  {
   "cell_type": "markdown",
   "metadata": {},
   "source": [
    "Set **loads** on the section:\n",
    "\n",
    "**Example 1**: _bending moment_ in **x** direction"
   ]
  },
  {
   "cell_type": "code",
   "execution_count": 18,
   "metadata": {
    "collapsed": false
   },
   "outputs": [],
   "source": [
    "S1.set_loads(_Tx=0, _Ty=0, _Nz=0, _Mx=Mx, _My=0, _Mz=0)"
   ]
  },
  {
   "cell_type": "markdown",
   "metadata": {},
   "source": [
    "Compute _axial loads_ in **stringers** and _shear flows_ in **panels**"
   ]
  },
  {
   "cell_type": "code",
   "execution_count": 19,
   "metadata": {
    "collapsed": false
   },
   "outputs": [],
   "source": [
    "S1.compute_stringer_actions()\n",
    "S1.compute_panel_fluxes();"
   ]
  },
  {
   "cell_type": "markdown",
   "metadata": {},
   "source": [
    "## Axial loads"
   ]
  },
  {
   "cell_type": "code",
   "execution_count": 20,
   "metadata": {
    "collapsed": false
   },
   "outputs": [
    {
     "data": {
      "image/png": "[encoded data removed]",
      "text/latex": [
       "$$\\left \\{ 1 : \\frac{A_{ms} M_{x} h_{ms}}{2 A_{fs} h_{fs}^{2} + \\frac{A_{mid} h_{fs}^{2}}{2} + A_{mid} h_{fs} h_{ms} + \\frac{A_{mid} h_{ms}^{2}}{2} + 2 A_{ms} h_{ms}^{2}}, \\quad 2 : \\frac{A_{mid} M_{x} \\left(\\frac{h_{fs}}{2} + \\frac{h_{ms}}{2}\\right)}{2 A_{fs} h_{fs}^{2} + \\frac{A_{mid} h_{fs}^{2}}{2} + A_{mid} h_{fs} h_{ms} + \\frac{A_{mid} h_{ms}^{2}}{2} + 2 A_{ms} h_{ms}^{2}}, \\quad 3 : \\frac{A_{fs} M_{x} h_{fs}}{2 A_{fs} h_{fs}^{2} + \\frac{A_{mid} h_{fs}^{2}}{2} + A_{mid} h_{fs} h_{ms} + \\frac{A_{mid} h_{ms}^{2}}{2} + 2 A_{ms} h_{ms}^{2}}, \\quad 4 : - \\frac{A_{fs} M_{x} h_{fs}}{2 A_{fs} h_{fs}^{2} + \\frac{A_{mid} h_{fs}^{2}}{2} + A_{mid} h_{fs} h_{ms} + \\frac{A_{mid} h_{ms}^{2}}{2} + 2 A_{ms} h_{ms}^{2}}, \\quad 5 : \\frac{A_{mid} M_{x} \\left(- \\frac{h_{fs}}{2} - \\frac{h_{ms}}{2}\\right)}{2 A_{fs} h_{fs}^{2} + \\frac{A_{mid} h_{fs}^{2}}{2} + A_{mid} h_{fs} h_{ms} + \\frac{A_{mid} h_{ms}^{2}}{2} + 2 A_{ms} h_{ms}^{2}}, \\quad 6 : - \\frac{A_{ms} M_{x} h_{ms}}{2 A_{fs} h_{fs}^{2} + \\frac{A_{mid} h_{fs}^{2}}{2} + A_{mid} h_{fs} h_{ms} + \\frac{A_{mid} h_{ms}^{2}}{2} + 2 A_{ms} h_{ms}^{2}}\\right \\}$$"
      ],
      "text/plain": [
       "⎧                                                                             \n",
       "⎪                                                                             \n",
       "⎪                                 Aₘₛ⋅Mₓ⋅hₘₛ                                  \n",
       "⎪1: ─────────────────────────────────────────────────────────────────────, 2: \n",
       "⎨                            2                             2                  \n",
       "⎪              2   A_mid⋅h_fs                     A_mid⋅hₘₛ             2     \n",
       "⎪   2⋅A_fs⋅h_fs  + ─────────── + A_mid⋅h_fs⋅hₘₛ + ────────── + 2⋅Aₘₛ⋅hₘₛ      \n",
       "⎪                       2                             2                       \n",
       "⎩                                                                             \n",
       "\n",
       "                                 ⎛h_fs   hₘₛ⎞                                 \n",
       "                        A_mid⋅Mₓ⋅⎜──── + ───⎟                                 \n",
       "                                 ⎝ 2      2 ⎠                                 \n",
       "─────────────────────────────────────────────────────────────────────, 3: ────\n",
       "                         2                             2                      \n",
       "           2   A_mid⋅h_fs                     A_mid⋅hₘₛ             2         \n",
       "2⋅A_fs⋅h_fs  + ─────────── + A_mid⋅h_fs⋅hₘₛ + ────────── + 2⋅Aₘₛ⋅hₘₛ      2⋅A_\n",
       "                    2                             2                           \n",
       "                                                                              \n",
       "\n",
       "                                                                              \n",
       "                                                                              \n",
       "                         A_fs⋅Mₓ⋅h_fs                                         \n",
       "─────────────────────────────────────────────────────────────────, 4: ────────\n",
       "                     2                             2                          \n",
       "       2   A_mid⋅h_fs                     A_mid⋅hₘₛ             2             \n",
       "fs⋅h_fs  + ─────────── + A_mid⋅h_fs⋅hₘₛ + ────────── + 2⋅Aₘₛ⋅hₘₛ      2⋅A_fs⋅h\n",
       "                2                             2                               \n",
       "                                                                              \n",
       "\n",
       "                                                                              \n",
       "                                                                              \n",
       "                    -A_fs⋅Mₓ⋅h_fs                                             \n",
       "─────────────────────────────────────────────────────────────, 5: ────────────\n",
       "                 2                             2                              \n",
       "   2   A_mid⋅h_fs                     A_mid⋅hₘₛ             2                2\n",
       "_fs  + ─────────── + A_mid⋅h_fs⋅hₘₛ + ────────── + 2⋅Aₘₛ⋅hₘₛ      2⋅A_fs⋅h_fs \n",
       "            2                             2                                   \n",
       "                                                                              \n",
       "\n",
       "                    ⎛  h_fs   hₘₛ⎞                                            \n",
       "           A_mid⋅Mₓ⋅⎜- ──── - ───⎟                                            \n",
       "                    ⎝   2      2 ⎠                                            \n",
       "─────────────────────────────────────────────────────────, 6: ────────────────\n",
       "             2                             2                                  \n",
       "   A_mid⋅h_fs                     A_mid⋅hₘₛ             2                2   A\n",
       " + ─────────── + A_mid⋅h_fs⋅hₘₛ + ────────── + 2⋅Aₘₛ⋅hₘₛ      2⋅A_fs⋅h_fs  + ─\n",
       "        2                             2                                       \n",
       "                                                                              \n",
       "\n",
       "                                                     ⎫\n",
       "                                                     ⎪\n",
       "             -Aₘₛ⋅Mₓ⋅hₘₛ                             ⎪\n",
       "─────────────────────────────────────────────────────⎪\n",
       "         2                             2             ⎬\n",
       "_mid⋅h_fs                     A_mid⋅hₘₛ             2⎪\n",
       "────────── + A_mid⋅h_fs⋅hₘₛ + ────────── + 2⋅Aₘₛ⋅hₘₛ ⎪\n",
       "    2                             2                  ⎪\n",
       "                                                     ⎭"
      ]
     },
     "execution_count": 20,
     "metadata": {},
     "output_type": "execute_result"
    }
   ],
   "source": [
    "S1.N"
   ]
  },
  {
   "cell_type": "markdown",
   "metadata": {
    "collapsed": false
   },
   "source": [
    "## Shear flows"
   ]
  },
  {
   "cell_type": "code",
   "execution_count": 21,
   "metadata": {
    "collapsed": false
   },
   "outputs": [
    {
     "data": {
      "image/png": "[encoded data removed]",
      "text/latex": [
       "$$\\left \\{ \\left ( 1, \\quad 2\\right ) : 0, \\quad \\left ( 2, \\quad 3\\right ) : 0, \\quad \\left ( 3, \\quad 4\\right ) : 0, \\quad \\left ( 4, \\quad 5\\right ) : 0, \\quad \\left ( 5, \\quad 6\\right ) : 0, \\quad \\left ( 6, \\quad 1\\right ) : 0\\right \\}$$"
      ],
      "text/plain": [
       "{(1, 2): 0, (2, 3): 0, (3, 4): 0, (4, 5): 0, (5, 6): 0, (6, 1): 0}"
      ]
     },
     "execution_count": 21,
     "metadata": {},
     "output_type": "execute_result"
    }
   ],
   "source": [
    "S1.q"
   ]
  },
  {
   "cell_type": "markdown",
   "metadata": {
    "collapsed": false
   },
   "source": [
    "**Example 2**: _twisting moment_ in **z** direction"
   ]
  },
  {
   "cell_type": "code",
   "execution_count": 22,
   "metadata": {
    "collapsed": false
   },
   "outputs": [],
   "source": [
    "S1.set_loads(_Tx=0, _Ty=0, _Nz=0, _Mx=0, _My=0, _Mz=Mz)\n",
    "S1.compute_stringer_actions()\n",
    "S1.compute_panel_fluxes();"
   ]
  },
  {
   "cell_type": "markdown",
   "metadata": {},
   "source": [
    "**Axial loads**"
   ]
  },
  {
   "cell_type": "code",
   "execution_count": 23,
   "metadata": {
    "collapsed": false
   },
   "outputs": [
    {
     "data": {
      "image/png": "[encoded data removed]",
      "text/latex": [
       "$$\\left \\{ 1 : 0, \\quad 2 : 0, \\quad 3 : 0, \\quad 4 : 0, \\quad 5 : 0, \\quad 6 : 0\\right \\}$$"
      ],
      "text/plain": [
       "{1: 0, 2: 0, 3: 0, 4: 0, 5: 0, 6: 0}"
      ]
     },
     "execution_count": 23,
     "metadata": {},
     "output_type": "execute_result"
    }
   ],
   "source": [
    "S1.N"
   ]
  },
  {
   "cell_type": "markdown",
   "metadata": {},
   "source": [
    "**Panel fluxes**"
   ]
  },
  {
   "cell_type": "code",
   "execution_count": 24,
   "metadata": {
    "collapsed": false
   },
   "outputs": [
    {
     "data": {
      "image/png": "[encoded data removed]",
      "text/latex": [
       "$$\\left \\{ \\left ( 1, \\quad 2\\right ) : - \\frac{M_{z}}{2 x_{sp} \\left(h_{fs} + h_{ms}\\right)}, \\quad \\left ( 2, \\quad 3\\right ) : - \\frac{M_{z}}{2 x_{sp} \\left(h_{fs} + h_{ms}\\right)}, \\quad \\left ( 3, \\quad 4\\right ) : - \\frac{M_{z}}{2 x_{sp} \\left(h_{fs} + h_{ms}\\right)}, \\quad \\left ( 4, \\quad 5\\right ) : - \\frac{M_{z}}{2 x_{sp} \\left(h_{fs} + h_{ms}\\right)}, \\quad \\left ( 5, \\quad 6\\right ) : - \\frac{M_{z}}{2 x_{sp} \\left(h_{fs} + h_{ms}\\right)}, \\quad \\left ( 6, \\quad 1\\right ) : - \\frac{M_{z}}{2 x_{sp} \\left(h_{fs} + h_{ms}\\right)}\\right \\}$$"
      ],
      "text/plain": [
       "⎧              -M_z                        -M_z                        -M_z   \n",
       "⎨(1, 2): ──────────────────, (2, 3): ──────────────────, (3, 4): ─────────────\n",
       "⎩        2⋅xₛₚ⋅(h_fs + hₘₛ)          2⋅xₛₚ⋅(h_fs + hₘₛ)          2⋅xₛₚ⋅(h_fs +\n",
       "\n",
       "                     -M_z                        -M_z                        -\n",
       "─────, (4, 5): ──────────────────, (5, 6): ──────────────────, (6, 1): ───────\n",
       " hₘₛ)          2⋅xₛₚ⋅(h_fs + hₘₛ)          2⋅xₛₚ⋅(h_fs + hₘₛ)          2⋅xₛₚ⋅(\n",
       "\n",
       "M_z        ⎫\n",
       "───────────⎬\n",
       "h_fs + hₘₛ)⎭"
      ]
     },
     "execution_count": 24,
     "metadata": {},
     "output_type": "execute_result"
    }
   ],
   "source": [
    "S1.q"
   ]
  },
  {
   "cell_type": "markdown",
   "metadata": {},
   "source": [
    "## Compute **Jt**"
   ]
  },
  {
   "cell_type": "markdown",
   "metadata": {},
   "source": [
    "Computation of **torsional moment of inertia**:"
   ]
  },
  {
   "cell_type": "code",
   "execution_count": 25,
   "metadata": {
    "collapsed": false
   },
   "outputs": [
    {
     "data": {
      "image/png": "[encoded data removed]",
      "text/latex": [
       "$$\\left[\\begin{matrix}\\frac{2 t_{fs} t_{ms} t_{pn} x_{sp}^{2} \\left(h_{fs} + h_{ms}\\right)^{2}}{h_{fs} t_{ms} t_{pn} + h_{ms} t_{fs} t_{pn} + t_{fs} t_{ms} \\sqrt{x_{sp}^{2} + \\left(h_{fs} - h_{ms}\\right)^{2}}}\\end{matrix}\\right]$$"
      ],
      "text/plain": [
       "⎡                                 2             2                ⎤\n",
       "⎢               2⋅t_fs⋅tₘₛ⋅tₚₙ⋅xₛₚ ⋅(h_fs + hₘₛ)                 ⎥\n",
       "⎢────────────────────────────────────────────────────────────────⎥\n",
       "⎢                                          ______________________⎥\n",
       "⎢                                         ╱    2               2 ⎥\n",
       "⎣h_fs⋅tₘₛ⋅tₚₙ + hₘₛ⋅t_fs⋅tₚₙ + t_fs⋅tₘₛ⋅╲╱  xₛₚ  + (h_fs - hₘₛ)  ⎦"
      ]
     },
     "execution_count": 25,
     "metadata": {},
     "output_type": "execute_result"
    }
   ],
   "source": [
    "S1.compute_Jt()\n",
    "S1.Jt"
   ]
  },
  {
   "cell_type": "code",
   "execution_count": 26,
   "metadata": {
    "collapsed": false
   },
   "outputs": [
    {
     "data": {
      "image/png": "[encoded data removed]",
      "text/latex": [
       "$$4716931.10419239$$"
      ],
      "text/plain": [
       "4716931.10419239"
      ]
     },
     "execution_count": 26,
     "metadata": {},
     "output_type": "execute_result"
    }
   ],
   "source": [
    "Jt1 = S1.Jt.subs(datav)[0]\n",
    "Jt1"
   ]
  },
  {
   "cell_type": "markdown",
   "metadata": {
    "collapsed": false
   },
   "source": [
    "# Section 2"
   ]
  },
  {
   "cell_type": "code",
   "execution_count": 27,
   "metadata": {
    "collapsed": false
   },
   "outputs": [],
   "source": [
    "L2 = 410. - L1\n",
    "\n",
    "xtip2 = -651.8 + np.arctan(tg_β)*(L1+L2/2.)\n",
    "\n",
    "\n",
    "# altezza longheroni\n",
    "hms2 = 42.\n",
    "hfs2 = 46.\n",
    "#pos longherone anteriore\n",
    "xfs2 = -345.\n",
    "# spessore pannello\n",
    "tpt2 = 0.81\n",
    "tpn2 = 0.64\n",
    "\n",
    "# lunghezza pannelli 2\n",
    "lpt2 = np.sqrt((hms2-hfs2)**2+xfs1**2)\n",
    "lpn2 = np.sqrt(hfs2**2+(xfs2-xtip2)**2)\n",
    "\n",
    "# area pannelli 2\n",
    "Apt2 =lpt2*tpt2\n",
    "Apn2 =lpn2*tpn2\n",
    "\n",
    "\n",
    "#spessore longheroni\n",
    "tms2 = 1.6\n",
    "tfs2 = 1.471\n",
    "\n",
    "# area correnti\n",
    "Astr_ms2=2.28760E+02\n",
    "Astr_fs2=1.471*25.\n",
    "\n",
    "# AREE\n",
    "Ams2 = hms2*tms2/6+Apt2/4+Astr_ms2\n",
    "Afs2 = hfs2*tfs2/6+Apt2/4+Astr_fs2+Apn2/2\n",
    "Amid2 = Apt2/2\n",
    "Atip2 = Apn2"
   ]
  },
  {
   "cell_type": "code",
   "execution_count": 28,
   "metadata": {
    "collapsed": false
   },
   "outputs": [],
   "source": [
    "values = [(Ams, Ams2 * ureg.millimeter**2),(Afs, Afs2  * ureg.millimeter**2), \\\n",
    "          (Amid, Amid2 * ureg.millimeter**2),(Atip, Atip2 * ureg.millimeter), \\\n",
    "          (tms, tms2 * ureg.millimeter),(tfs, tfs2 * ureg.millimeter), \\\n",
    "          (tpt, tpt2 * ureg.millimeter), (tpn, tpn2 * ureg.millimeter), \\\n",
    "          (hms, hms2 * ureg.millimeter), (hfs, hfs2 * ureg.millimeter), \\\n",
    "          (xfs, xfs2 * ureg.millimeter), (xtip, xtip2 * ureg.millimeter), \\\n",
    "          (L,  L2* ureg.millimeter) ]\n",
    "datav = [(v[0],v[1].magnitude) for v in values]"
   ]
  },
  {
   "cell_type": "code",
   "execution_count": 29,
   "metadata": {
    "collapsed": true
   },
   "outputs": [],
   "source": [
    "stringers = {1:[(sympy.Integer(0),sympy.Float(hms2)),sympy.Float(Ams2)],\n",
    "             2:[(sympy.Float(xfs2/2),sympy.Float((hms2+hfs2)/2)),sympy.Float(Amid2)],\n",
    "             3:[(sympy.Float(xfs2),sympy.Float(hfs2)),sympy.Float(Afs2)],\n",
    "             4:[(sympy.Float(xtip2),sympy.Integer(0)),sympy.Float(Atip2)],\n",
    "             5:[(sympy.Float(xfs2),sympy.Float(-hfs2)),sympy.Float(Afs2)],\n",
    "             6:[(sympy.Float(xfs2/2),sympy.Float(-(hms2+hfs2)/2)),sympy.Float(Amid2)],\n",
    "             7:[(sympy.Integer(0),sympy.Float(-hms2)),sympy.Float(Ams2)]}\n",
    "\n",
    "panels = {(1,2):sympy.Float(tpt2),\n",
    "          (2,3):sympy.Float(tpt2),\n",
    "          (3,4):sympy.Float(tpn2),\n",
    "          (4,5):sympy.Float(tpn2),\n",
    "          (5,6):sympy.Float(tpt2),\n",
    "          (6,7):sympy.Float(tpt2),\n",
    "          (3,5):sympy.Float(tfs2),\n",
    "          (7,1):sympy.Float(tms2)}"
   ]
  },
  {
   "cell_type": "markdown",
   "metadata": {},
   "source": [
    "stringers = {1:[(sympy.Integer(0),hms),Ams],\n",
    "             2:[(xfs/2,(hms+hfs)/2),Amid],\n",
    "             3:[(xfs,hfs),Afs],\n",
    "             4:[(xtip,sympy.Integer(0)),Atip],\n",
    "             5:[(xfs,-hfs2),Afs],\n",
    "             6:[(xfs/2,-(hms+hfs)/2),Amid],\n",
    "             7:[(sympy.Integer(0),-hms),Ams]}\n",
    "\n",
    "panels = {(1,2):tpt,\n",
    "          (2,3):tpt,\n",
    "          (3,4):tpn,\n",
    "          (4,5):tpn,\n",
    "          (5,6):tpt,\n",
    "          (6,7):tpt,\n",
    "          (3,5):tfs,\n",
    "          (7,1):tms}"
   ]
  },
  {
   "cell_type": "markdown",
   "metadata": {},
   "source": [
    "Define section and perform first calculations"
   ]
  },
  {
   "cell_type": "code",
   "execution_count": 30,
   "metadata": {
    "collapsed": false
   },
   "outputs": [],
   "source": [
    "S2 = Section(stringers, panels)"
   ]
  },
  {
   "cell_type": "code",
   "execution_count": 31,
   "metadata": {
    "collapsed": false
   },
   "outputs": [
    {
     "data": {
      "image/png": "[encoded data removed]",
      "text/latex": [
       "$$\\left [ \\left [ 3, \\quad 4, \\quad 5, \\quad 3\\right ], \\quad \\left [ 2, \\quad 3, \\quad 5, \\quad 6, \\quad 7, \\quad 1, \\quad 2\\right ]\\right ]$$"
      ],
      "text/plain": [
       "[[3, 4, 5, 3], [2, 3, 5, 6, 7, 1, 2]]"
      ]
     },
     "execution_count": 31,
     "metadata": {},
     "output_type": "execute_result"
    }
   ],
   "source": [
    "S2.cycles"
   ]
  },
  {
   "cell_type": "markdown",
   "metadata": {
    "collapsed": false
   },
   "source": [
    "## Plot of **S2** section in original reference frame"
   ]
  },
  {
   "cell_type": "markdown",
   "metadata": {},
   "source": [
    "Define a dictionary of coordinates used by **Networkx** to plot section as a Directed graph.\n",
    "Note that arrows are actually just thicker stubs"
   ]
  },
  {
   "cell_type": "code",
   "execution_count": 32,
   "metadata": {
    "collapsed": false
   },
   "outputs": [],
   "source": [
    "start_pos={ii: [float(S2.g.node[ii]['ip'][i].subs(datav)) for i in range(2)] for ii in S2.g.nodes() }"
   ]
  },
  {
   "cell_type": "code",
   "execution_count": 33,
   "metadata": {
    "collapsed": false
   },
   "outputs": [
    {
     "data": {
      "image/png": "[encoded data removed]",
      "text/plain": [
       "<matplotlib.figure.Figure at 0x7f6f1f851400>"
      ]
     },
     "metadata": {},
     "output_type": "display_data"
    }
   ],
   "source": [
    "plt.figure(figsize=(12,8),dpi=300)\n",
    "nx.draw(S2.g,with_labels=True, arrows= True, pos=start_pos)\n",
    "plt.arrow(0,0,20,0)\n",
    "plt.arrow(0,0,0,20)\n",
    "#plt.text(0,0, 'CG', fontsize=24)\n",
    "plt.axis('equal')\n",
    "plt.title(\"Section in starting reference Frame\",fontsize=16);"
   ]
  },
  {
   "cell_type": "markdown",
   "metadata": {},
   "source": [
    "Expression of **Inertial properties** wrt Center of Gravity in with original rotation"
   ]
  },
  {
   "cell_type": "code",
   "execution_count": 34,
   "metadata": {
    "collapsed": false
   },
   "outputs": [
    {
     "data": {
      "image/png": "[encoded data removed]",
      "text/latex": [
       "$$\\left ( 2452468.34717176, \\quad 54246667.2423998, \\quad 0, \\quad 0\\right )$$"
      ],
      "text/plain": [
       "(2452468.34717176, 54246667.2423998, 0, 0)"
      ]
     },
     "execution_count": 34,
     "metadata": {},
     "output_type": "execute_result"
    }
   ],
   "source": [
    "S2.Ixx0, S2.Iyy0, S2.Ixy0, S2.α0"
   ]
  },
  {
   "cell_type": "markdown",
   "metadata": {},
   "source": [
    "## Plot of **S2** section in inertial reference Frame"
   ]
  },
  {
   "cell_type": "markdown",
   "metadata": {},
   "source": [
    "Section is plotted wrt **center of gravity** and rotated (if necessary) so that *x* and *y* are principal axes.\n",
    "**Center of Gravity** and **Shear Center** are drawn"
   ]
  },
  {
   "cell_type": "code",
   "execution_count": 35,
   "metadata": {
    "collapsed": true
   },
   "outputs": [],
   "source": [
    "positions={ii: [float(S2.g.node[ii]['pos'][i].subs(datav)) for i in range(2)] for ii in S2.g.nodes() }"
   ]
  },
  {
   "cell_type": "code",
   "execution_count": 36,
   "metadata": {
    "collapsed": false
   },
   "outputs": [
    {
     "data": {
      "image/png": "[encoded data removed]",
      "text/plain": [
       "<matplotlib.figure.Figure at 0x7f6f21f3c908>"
      ]
     },
     "metadata": {},
     "output_type": "display_data"
    }
   ],
   "source": [
    "x_ct, y_ct = S2.ct.subs(datav)\n",
    "\n",
    "plt.figure(figsize=(12,8),dpi=300)\n",
    "nx.draw(S2.g,with_labels=True, pos=positions)\n",
    "plt.plot([0],[0],'o',ms=12,label='CG')\n",
    "plt.plot([x_ct],[y_ct],'^',ms=12, label='SC')\n",
    "#plt.text(0,0, 'CG', fontsize=24)\n",
    "#plt.text(x_ct,y_ct, 'SC', fontsize=24)\n",
    "plt.legend(loc='lower right', shadow=True)\n",
    "plt.axis('equal')\n",
    "plt.title(\"Section in pricipal reference Frame\",fontsize=16);"
   ]
  },
  {
   "cell_type": "markdown",
   "metadata": {},
   "source": [
    "Expression of **inertial properties** in *principal reference frame*"
   ]
  },
  {
   "cell_type": "code",
   "execution_count": 37,
   "metadata": {
    "collapsed": false
   },
   "outputs": [
    {
     "data": {
      "image/png": "[encoded data removed]",
      "text/latex": [
       "$$\\left ( 2452468.34717176, \\quad 54246667.2423998, \\quad 0, \\quad 0\\right )$$"
      ],
      "text/plain": [
       "(2452468.34717176, 54246667.2423998, 0, 0)"
      ]
     },
     "execution_count": 37,
     "metadata": {},
     "output_type": "execute_result"
    }
   ],
   "source": [
    "S2.Ixx, S2.Iyy, S2.Ixy, S2.θ"
   ]
  },
  {
   "cell_type": "code",
   "execution_count": 38,
   "metadata": {
    "collapsed": true
   },
   "outputs": [],
   "source": [
    "Ixx2 = S2.Ixx.subs(datav)"
   ]
  },
  {
   "cell_type": "code",
   "execution_count": 39,
   "metadata": {
    "collapsed": false
   },
   "outputs": [],
   "source": [
    "S2.set_loads(_Tx=0, _Ty=0, _Nz=0, _Mx=0, _My=0, _Mz=0)"
   ]
  },
  {
   "cell_type": "code",
   "execution_count": 40,
   "metadata": {
    "collapsed": false
   },
   "outputs": [
    {
     "data": {
      "image/png": "[encoded data removed]",
      "text/latex": [
       "$$\\left[\\begin{matrix}4611571.20415473\\end{matrix}\\right]$$"
      ],
      "text/plain": [
       "[4611571.20415473]"
      ]
     },
     "execution_count": 40,
     "metadata": {},
     "output_type": "execute_result"
    }
   ],
   "source": [
    "S2.compute_Jt()\n",
    "S2.Jt"
   ]
  },
  {
   "cell_type": "code",
   "execution_count": 41,
   "metadata": {
    "collapsed": false
   },
   "outputs": [
    {
     "data": {
      "image/png": "[encoded data removed]",
      "text/latex": [
       "$$4611571.20415473$$"
      ],
      "text/plain": [
       "4611571.20415473"
      ]
     },
     "execution_count": 41,
     "metadata": {},
     "output_type": "execute_result"
    }
   ],
   "source": [
    "Jt2 = S2.Jt[0]\n",
    "Jt2"
   ]
  },
  {
   "cell_type": "markdown",
   "metadata": {
    "collapsed": false
   },
   "source": [
    "# Section 3"
   ]
  },
  {
   "cell_type": "code",
   "execution_count": 42,
   "metadata": {
    "collapsed": false
   },
   "outputs": [],
   "source": [
    "L3 = 330.\n",
    "\n",
    "xtip3 = -651.8 + np.arctan(tg_β)*(410.+L3/2.)\n",
    "\n",
    "\n",
    "# altezza longheroni\n",
    "hms3 = 38.1\n",
    "hfs3 = 37.4\n",
    "#pos longherone anteriore\n",
    "xfs3 = -345.\n",
    "# spessore pannello\n",
    "tpt3 = 0.81\n",
    "tpn3 = 0.64\n",
    "\n",
    "# lunghezza pannelli 2\n",
    "lpt3 = np.sqrt((hms3-hfs3)**2+xfs3**2)\n",
    "lpn3 = np.sqrt(hfs3**2+(xfs3-xtip3)**2)\n",
    "\n",
    "# area pannelli 2\n",
    "Apt3 =lpt3*tpt3\n",
    "Apn3 =lpn3*tpn3\n",
    "\n",
    "\n",
    "#spessore longheroni\n",
    "tms3 = 1.6\n",
    "tfs3 = 1.471\n",
    "\n",
    "# area correnti\n",
    "Astr_ms3=1.17760E+02\n",
    "Astr_fs3=1.471*25.\n",
    "\n",
    "# AREE\n",
    "Ams3 = hms3*tms3/6+Apt3/4+Astr_ms3\n",
    "Afs3 = hfs3*tfs3/6+Apt3/4+Astr_fs3+Apn3/2\n",
    "Amid3 = Apt3/2\n",
    "Atip3 = Apn3"
   ]
  },
  {
   "cell_type": "code",
   "execution_count": 43,
   "metadata": {
    "collapsed": false
   },
   "outputs": [],
   "source": [
    "values = [(Ams, Ams3 * ureg.millimeter**2),(Afs, Afs3  * ureg.millimeter**2), \\\n",
    "          (Amid, Amid3 * ureg.millimeter**2),(Atip, Atip3 * ureg.millimeter), \\\n",
    "          (tms, tms3 * ureg.millimeter),(tfs, tfs3 * ureg.millimeter), \\\n",
    "          (tpt, tpt3 * ureg.millimeter), (tpn, tpn3 * ureg.millimeter), \\\n",
    "          (hms, hms3 * ureg.millimeter), (hfs, hfs3 * ureg.millimeter), \\\n",
    "          (xfs, xfs3 * ureg.millimeter), (xtip, xtip3 * ureg.millimeter), \\\n",
    "          (L,  L3* ureg.millimeter) ]\n",
    "datav = [(v[0],v[1].magnitude) for v in values]"
   ]
  },
  {
   "cell_type": "code",
   "execution_count": 44,
   "metadata": {
    "collapsed": true
   },
   "outputs": [],
   "source": [
    "stringers = {1:[(sympy.Integer(0),sympy.Float(hms3)),sympy.Float(Ams3)],\n",
    "             2:[(sympy.Float(xfs3/2),sympy.Float((hms3+hfs3)/2)),sympy.Float(Amid3)],\n",
    "             3:[(sympy.Float(xfs3),sympy.Float(hfs3)),sympy.Float(Afs3)],\n",
    "             4:[(sympy.Float(xtip3),sympy.Integer(0)),sympy.Float(Atip3)],\n",
    "             5:[(sympy.Float(xfs3),sympy.Float(-hfs3)),sympy.Float(Afs3)],\n",
    "             6:[(sympy.Float(xfs3/2),sympy.Float(-(hms3+hfs3)/2)),sympy.Float(Amid3)],\n",
    "             7:[(sympy.Integer(0),sympy.Float(-hms3)),sympy.Float(Ams3)]}\n",
    "\n",
    "panels = {(1,2):sympy.Float(tpt3),\n",
    "          (2,3):sympy.Float(tpt3),\n",
    "          (3,4):sympy.Float(tpn3),\n",
    "          (4,5):sympy.Float(tpn3),\n",
    "          (5,6):sympy.Float(tpt3),\n",
    "          (6,7):sympy.Float(tpt3),\n",
    "          (3,5):sympy.Float(tfs3),\n",
    "          (7,1):sympy.Float(tms3)}"
   ]
  },
  {
   "cell_type": "markdown",
   "metadata": {},
   "source": [
    "Define section and perform first calculations"
   ]
  },
  {
   "cell_type": "code",
   "execution_count": 45,
   "metadata": {
    "collapsed": false
   },
   "outputs": [],
   "source": [
    "S3 = Section(stringers, panels)"
   ]
  },
  {
   "cell_type": "code",
   "execution_count": 46,
   "metadata": {
    "collapsed": false
   },
   "outputs": [
    {
     "data": {
      "image/png": "[encoded data removed]",
      "text/latex": [
       "$$\\left [ \\left [ 3, \\quad 4, \\quad 5, \\quad 3\\right ], \\quad \\left [ 2, \\quad 3, \\quad 5, \\quad 6, \\quad 7, \\quad 1, \\quad 2\\right ]\\right ]$$"
      ],
      "text/plain": [
       "[[3, 4, 5, 3], [2, 3, 5, 6, 7, 1, 2]]"
      ]
     },
     "execution_count": 46,
     "metadata": {},
     "output_type": "execute_result"
    }
   ],
   "source": [
    "S3.cycles"
   ]
  },
  {
   "cell_type": "markdown",
   "metadata": {
    "collapsed": false
   },
   "source": [
    "## Plot of **S3** section in original reference frame"
   ]
  },
  {
   "cell_type": "code",
   "execution_count": 47,
   "metadata": {
    "collapsed": false
   },
   "outputs": [
    {
     "data": {
      "image/png": "[encoded data removed]",
      "text/plain": [
       "<matplotlib.figure.Figure at 0x7f6f1f82dac8>"
      ]
     },
     "metadata": {},
     "output_type": "display_data"
    }
   ],
   "source": [
    "plt.figure(figsize=(12,8),dpi=300)\n",
    "nx.draw(S3.g,with_labels=True, arrows= True, pos=start_pos)\n",
    "plt.arrow(0,0,20,0)\n",
    "plt.arrow(0,0,0,20)\n",
    "#plt.text(0,0, 'CG', fontsize=24)\n",
    "plt.axis('equal')\n",
    "plt.title(\"Section in starting reference Frame\",fontsize=16);"
   ]
  },
  {
   "cell_type": "markdown",
   "metadata": {},
   "source": [
    "Expression of **Inertial properties** wrt Center of Gravity in with original rotation"
   ]
  },
  {
   "cell_type": "code",
   "execution_count": 48,
   "metadata": {
    "collapsed": false
   },
   "outputs": [
    {
     "data": {
      "image/png": "[encoded data removed]",
      "text/latex": [
       "$$\\left ( 1456330.43480644, \\quad 34991023.3038009, \\quad 0, \\quad 0\\right )$$"
      ],
      "text/plain": [
       "(1456330.43480644, 34991023.3038009, 0, 0)"
      ]
     },
     "execution_count": 48,
     "metadata": {},
     "output_type": "execute_result"
    }
   ],
   "source": [
    "S3.Ixx0, S3.Iyy0, S3.Ixy0, S3.α0"
   ]
  },
  {
   "cell_type": "markdown",
   "metadata": {},
   "source": [
    "## Plot of **S3** section in inertial reference Frame"
   ]
  },
  {
   "cell_type": "markdown",
   "metadata": {},
   "source": [
    "Section is plotted wrt **center of gravity** and rotated (if necessary) so that *x* and *y* are principal axes.\n",
    "**Center of Gravity** and **Shear Center** are drawn"
   ]
  },
  {
   "cell_type": "code",
   "execution_count": 49,
   "metadata": {
    "collapsed": false
   },
   "outputs": [
    {
     "data": {
      "image/png": "[encoded data removed]",
      "text/plain": [
       "<matplotlib.figure.Figure at 0x7f6f1f36d518>"
      ]
     },
     "metadata": {},
     "output_type": "display_data"
    }
   ],
   "source": [
    "x_ct, y_ct = S3.ct.subs(datav)\n",
    "\n",
    "plt.figure(figsize=(12,8),dpi=300)\n",
    "nx.draw(S3.g,with_labels=True, pos=positions)\n",
    "plt.plot([0],[0],'o',ms=12,label='CG')\n",
    "plt.plot([x_ct],[y_ct],'^',ms=12, label='SC')\n",
    "#plt.text(0,0, 'CG', fontsize=24)\n",
    "#plt.text(x_ct,y_ct, 'SC', fontsize=24)\n",
    "plt.legend(loc='lower right', shadow=True)\n",
    "plt.axis('equal')\n",
    "plt.title(\"Section in pricipal reference Frame\",fontsize=16);"
   ]
  },
  {
   "cell_type": "markdown",
   "metadata": {},
   "source": [
    "Expression of **inertial properties** in *principal reference frame*"
   ]
  },
  {
   "cell_type": "code",
   "execution_count": 50,
   "metadata": {
    "collapsed": false
   },
   "outputs": [
    {
     "data": {
      "image/png": "[encoded data removed]",
      "text/latex": [
       "$$\\left ( 1456330.43480644, \\quad 34991023.3038009, \\quad 0, \\quad 0\\right )$$"
      ],
      "text/plain": [
       "(1456330.43480644, 34991023.3038009, 0, 0)"
      ]
     },
     "execution_count": 50,
     "metadata": {},
     "output_type": "execute_result"
    }
   ],
   "source": [
    "S3.Ixx, S3.Iyy, S3.Ixy, S3.θ"
   ]
  },
  {
   "cell_type": "code",
   "execution_count": 51,
   "metadata": {
    "collapsed": true
   },
   "outputs": [],
   "source": [
    "Ixx3 = S3.Ixx.subs(datav)"
   ]
  },
  {
   "cell_type": "code",
   "execution_count": 52,
   "metadata": {
    "collapsed": false
   },
   "outputs": [],
   "source": [
    "S3.set_loads(_Tx=0, _Ty=0, _Nz=0, _Mx=0, _My=0, _Mz=0)"
   ]
  },
  {
   "cell_type": "code",
   "execution_count": 53,
   "metadata": {
    "collapsed": false
   },
   "outputs": [
    {
     "data": {
      "image/png": "[encoded data removed]",
      "text/latex": [
       "$$\\left[\\begin{matrix}3270222.29830436\\end{matrix}\\right]$$"
      ],
      "text/plain": [
       "[3270222.29830436]"
      ]
     },
     "execution_count": 53,
     "metadata": {},
     "output_type": "execute_result"
    }
   ],
   "source": [
    "S3.compute_Jt()\n",
    "S3.Jt"
   ]
  },
  {
   "cell_type": "code",
   "execution_count": 54,
   "metadata": {
    "collapsed": false
   },
   "outputs": [],
   "source": [
    "Jt3 = S3.Jt[0]"
   ]
  },
  {
   "cell_type": "markdown",
   "metadata": {
    "collapsed": false
   },
   "source": [
    "# Section 4"
   ]
  },
  {
   "cell_type": "code",
   "execution_count": 80,
   "metadata": {
    "collapsed": false
   },
   "outputs": [],
   "source": [
    "L4 = 330.\n",
    "\n",
    "xtip4 = -651.8 + np.arctan(tg_β)*(740.+L4/2.)\n",
    "\n",
    "\n",
    "# altezza longheroni\n",
    "hms4 = 32.25\n",
    "hfs4 = 25.4\n",
    "#pos longherone anteriore\n",
    "xfs4 = -345.+ np.arctan(tg_β)*(L4/2.)\n",
    "# spessore pannello\n",
    "tpt4 = 0.81\n",
    "tpn4 = 0.64\n",
    "\n",
    "# lunghezza pannelli 2\n",
    "lpt4 = np.sqrt((hms4-hfs4)**2+xfs4**2)\n",
    "lpn4 = np.sqrt(hfs4**2+(xfs4-xtip4)**2)\n",
    "\n",
    "# area pannelli 2\n",
    "Apt4 =lpt4*tpt4\n",
    "Apn4 =lpn4*tpn4\n",
    "\n",
    "\n",
    "#spessore longheroni\n",
    "tms4 = 1.6\n",
    "tfs4 = 0.\n",
    "\n",
    "# area correnti\n",
    "Astr_ms4=2.28760E+02\n",
    "Astr_fs4=7.74400E+01\n",
    "\n",
    "# AREE\n",
    "Ams4 = hms4*tms4/6+Apt4/4+Astr_ms4\n",
    "Afs4 = hfs4*tfs4/6+Apt4/4+Astr_fs4+Apn4/2\n",
    "Amid4 = Apt4/2\n",
    "Atip4 = Apn4"
   ]
  },
  {
   "cell_type": "code",
   "execution_count": 81,
   "metadata": {
    "collapsed": false
   },
   "outputs": [],
   "source": [
    "values = [(Ams, Ams4 * ureg.millimeter**2),(Afs, Afs4  * ureg.millimeter**2), \\\n",
    "          (Amid, Amid4 * ureg.millimeter**2),(Atip, Atip4 * ureg.millimeter), \\\n",
    "          (tms, tms4 * ureg.millimeter),(tfs, tfs4 * ureg.millimeter), \\\n",
    "          (tpt, tpt4 * ureg.millimeter), (tpn, tpn4 * ureg.millimeter), \\\n",
    "          (hms, hms4 * ureg.millimeter), (hfs, hfs4 * ureg.millimeter), \\\n",
    "          (xfs, xfs4 * ureg.millimeter), (xtip, xtip4 * ureg.millimeter), \\\n",
    "          (L,  L4* ureg.millimeter) ]\n",
    "datav = [(v[0],v[1].magnitude) for v in values]"
   ]
  },
  {
   "cell_type": "code",
   "execution_count": 82,
   "metadata": {
    "collapsed": true
   },
   "outputs": [],
   "source": [
    "stringers = {1:[(sympy.Integer(0),sympy.Float(hms4)),sympy.Float(Ams4)],\n",
    "             2:[(sympy.Float(xfs4/2),sympy.Float((hms4+hfs4)/2)),sympy.Float(Amid4)],\n",
    "             3:[(sympy.Float(xfs4),sympy.Float(hfs4)),sympy.Float(Afs4)],\n",
    "             4:[(sympy.Float(xtip4),sympy.Integer(0)),sympy.Float(Atip4)],\n",
    "             5:[(sympy.Float(xfs4),sympy.Float(-hfs4)),sympy.Float(Afs4)],\n",
    "             6:[(sympy.Float(xfs4/2),sympy.Float(-(hms4+hfs4)/2)),sympy.Float(Amid4)],\n",
    "             7:[(sympy.Integer(0),sympy.Float(-hms4)),sympy.Float(Ams4)]}\n",
    "\n",
    "panels = {(1,2):sympy.Float(tpt4),\n",
    "          (2,3):sympy.Float(tpt4),\n",
    "          (3,4):sympy.Float(tpn4),\n",
    "          (4,5):sympy.Float(tpn4),\n",
    "          (5,6):sympy.Float(tpt4),\n",
    "          (6,7):sympy.Float(tpt4),\n",
    "          (7,1):sympy.Float(tms4)}"
   ]
  },
  {
   "cell_type": "markdown",
   "metadata": {},
   "source": [
    "Define section and perform first calculations"
   ]
  },
  {
   "cell_type": "code",
   "execution_count": 83,
   "metadata": {
    "collapsed": false
   },
   "outputs": [],
   "source": [
    "S4 = Section(stringers, panels)"
   ]
  },
  {
   "cell_type": "code",
   "execution_count": 84,
   "metadata": {
    "collapsed": false
   },
   "outputs": [
    {
     "data": {
      "image/png": "[encoded data removed]",
      "text/latex": [
       "$$\\left [ \\left [ 2, \\quad 3, \\quad 4, \\quad 5, \\quad 6, \\quad 7, \\quad 1, \\quad 2\\right ]\\right ]$$"
      ],
      "text/plain": [
       "[[2, 3, 4, 5, 6, 7, 1, 2]]"
      ]
     },
     "execution_count": 84,
     "metadata": {},
     "output_type": "execute_result"
    }
   ],
   "source": [
    "S4.cycles"
   ]
  },
  {
   "cell_type": "markdown",
   "metadata": {
    "collapsed": false
   },
   "source": [
    "## Plot of **S4** section in original reference frame"
   ]
  },
  {
   "cell_type": "code",
   "execution_count": 85,
   "metadata": {
    "collapsed": true
   },
   "outputs": [],
   "source": [
    "positions={ii: [float(S4.g.node[ii]['pos'][i].subs(datav)) for i in range(2)] for ii in S4.g.nodes() }"
   ]
  },
  {
   "cell_type": "code",
   "execution_count": 86,
   "metadata": {
    "collapsed": false
   },
   "outputs": [
    {
     "data": {
      "image/png": "[encoded data removed]",
      "text/plain": [
       "<matplotlib.figure.Figure at 0x7f6f1f28eb70>"
      ]
     },
     "metadata": {},
     "output_type": "display_data"
    }
   ],
   "source": [
    "plt.figure(figsize=(12,8),dpi=300)\n",
    "nx.draw(S4.g,with_labels=True, arrows= True, pos=start_pos)\n",
    "plt.arrow(0,0,20,0)\n",
    "plt.arrow(0,0,0,20)\n",
    "#plt.text(0,0, 'CG', fontsize=24)\n",
    "plt.axis('equal')\n",
    "plt.title(\"Section in starting reference Frame\",fontsize=16);"
   ]
  },
  {
   "cell_type": "markdown",
   "metadata": {},
   "source": [
    "Expression of **Inertial properties** wrt Center of Gravity in with original rotation"
   ]
  },
  {
   "cell_type": "code",
   "execution_count": 87,
   "metadata": {
    "collapsed": false
   },
   "outputs": [
    {
     "data": {
      "image/png": "[encoded data removed]",
      "text/latex": [
       "$$\\left ( 1030161.8068396, \\quad 28181433.2601057, \\quad 0, \\quad 0\\right )$$"
      ],
      "text/plain": [
       "(1030161.8068396, 28181433.2601057, 0, 0)"
      ]
     },
     "execution_count": 87,
     "metadata": {},
     "output_type": "execute_result"
    }
   ],
   "source": [
    "S4.Ixx0, S4.Iyy0, S4.Ixy0, S4.α0"
   ]
  },
  {
   "cell_type": "markdown",
   "metadata": {},
   "source": [
    "## Plot of **S4** section in inertial reference Frame"
   ]
  },
  {
   "cell_type": "markdown",
   "metadata": {},
   "source": [
    "Section is plotted wrt **center of gravity** and rotated (if necessary) so that *x* and *y* are principal axes.\n",
    "**Center of Gravity** and **Shear Center** are drawn"
   ]
  },
  {
   "cell_type": "code",
   "execution_count": 88,
   "metadata": {
    "collapsed": true
   },
   "outputs": [],
   "source": [
    "positions={ii: [float(S4.g.node[ii]['pos'][i].subs(datav)) for i in range(2)] for ii in S4.g.nodes() }"
   ]
  },
  {
   "cell_type": "code",
   "execution_count": 89,
   "metadata": {
    "collapsed": false
   },
   "outputs": [
    {
     "data": {
      "image/png": "[encoded data removed]",
      "text/plain": [
       "<matplotlib.figure.Figure at 0x7f6f1f211b00>"
      ]
     },
     "metadata": {},
     "output_type": "display_data"
    }
   ],
   "source": [
    "x_ct, y_ct = S4.ct.subs(datav)\n",
    "\n",
    "plt.figure(figsize=(12,8),dpi=300)\n",
    "nx.draw(S4.g,with_labels=True, pos=positions)\n",
    "plt.plot([0],[0],'o',ms=12,label='CG')\n",
    "plt.plot([x_ct],[y_ct],'^',ms=12, label='SC')\n",
    "#plt.text(0,0, 'CG', fontsize=24)\n",
    "#plt.text(x_ct,y_ct, 'SC', fontsize=24)\n",
    "plt.legend(loc='lower right', shadow=True)\n",
    "plt.axis('equal')\n",
    "plt.title(\"Section in pricipal reference Frame\",fontsize=16);"
   ]
  },
  {
   "cell_type": "markdown",
   "metadata": {},
   "source": [
    "Expression of **inertial properties** in *principal reference frame*"
   ]
  },
  {
   "cell_type": "code",
   "execution_count": 90,
   "metadata": {
    "collapsed": false
   },
   "outputs": [
    {
     "data": {
      "image/png": "[encoded data removed]",
      "text/latex": [
       "$$\\left ( 1030161.8068396, \\quad 28181433.2601057, \\quad 0, \\quad 0\\right )$$"
      ],
      "text/plain": [
       "(1030161.8068396, 28181433.2601057, 0, 0)"
      ]
     },
     "execution_count": 90,
     "metadata": {},
     "output_type": "execute_result"
    }
   ],
   "source": [
    "S4.Ixx, S4.Iyy, S4.Ixy, S4.θ"
   ]
  },
  {
   "cell_type": "code",
   "execution_count": 91,
   "metadata": {
    "collapsed": true
   },
   "outputs": [],
   "source": [
    "Ixx4 = S4.Ixx.subs(datav)"
   ]
  },
  {
   "cell_type": "code",
   "execution_count": 92,
   "metadata": {
    "collapsed": false
   },
   "outputs": [],
   "source": [
    "S4.set_loads(_Tx=0, _Ty=0, _Nz=0, _Mx=0, _My=0, _Mz=0)"
   ]
  },
  {
   "cell_type": "code",
   "execution_count": 93,
   "metadata": {
    "collapsed": false
   },
   "outputs": [
    {
     "data": {
      "image/png": "[encoded data removed]",
      "text/latex": [
       "$$\\left[\\begin{matrix}1259327.92111785\\end{matrix}\\right]$$"
      ],
      "text/plain": [
       "[1259327.92111785]"
      ]
     },
     "execution_count": 93,
     "metadata": {},
     "output_type": "execute_result"
    }
   ],
   "source": [
    "S4.compute_Jt()\n",
    "S4.Jt"
   ]
  },
  {
   "cell_type": "code",
   "execution_count": 94,
   "metadata": {
    "collapsed": false
   },
   "outputs": [
    {
     "data": {
      "image/png": "[encoded data removed]",
      "text/latex": [
       "$$1259327.92111785$$"
      ],
      "text/plain": [
       "1259327.92111785"
      ]
     },
     "execution_count": 94,
     "metadata": {},
     "output_type": "execute_result"
    }
   ],
   "source": [
    "Jt4 = S4.Jt[0]\n",
    "Jt4"
   ]
  },
  {
   "cell_type": "markdown",
   "metadata": {
    "collapsed": false
   },
   "source": [
    "# Section 5"
   ]
  },
  {
   "cell_type": "code",
   "execution_count": 115,
   "metadata": {
    "collapsed": false
   },
   "outputs": [],
   "source": [
    "L5 = 330.\n",
    "\n",
    "xtip5 = -651.8 + np.arctan(tg_β)*(1070.+L5/2.)\n",
    "\n",
    "\n",
    "# altezza longheroni\n",
    "hms5 = 25.5\n",
    "hfs5 = 22.\n",
    "#pos longherone anteriore\n",
    "xfs5 = -345.+ np.arctan(tg_β)*(L4+L5/2.)\n",
    "# spessore pannello\n",
    "tpt5 = 0.81\n",
    "tpn5 = 0.64\n",
    "\n",
    "# lunghezza pannelli 2\n",
    "lpt5 = np.sqrt((hms5-hfs5)**2+xfs5**2)\n",
    "lpn5 = np.sqrt(hfs5**2+(xfs5-xtip5)**2)\n",
    "\n",
    "# area pannelli 2\n",
    "Apt5 =lpt5*tpt5\n",
    "Apn5 =lpn5*tpn5\n",
    "\n",
    "\n",
    "#spessore longheroni\n",
    "tms5 = 1.6+2.9\n",
    "tfs5 = 0.\n",
    "\n",
    "# area correnti\n",
    "Astr_ms5=1.90260E+02\n",
    "Astr_fs5=7.74400E+01\n",
    "\n",
    "# AREE\n",
    "Ams5 = hms5*tms5/6+Apt5/4+Astr_ms5\n",
    "Afs5 = hfs5*tfs4/6+Apt5/4+Astr_fs5+Apn5/2\n",
    "Amid5 = Apt5/2\n",
    "Atip5 = Apn5"
   ]
  },
  {
   "cell_type": "code",
   "execution_count": 116,
   "metadata": {
    "collapsed": false
   },
   "outputs": [],
   "source": [
    "values = [(Ams, Ams5 * ureg.millimeter**2),(Afs, Afs5  * ureg.millimeter**2), \\\n",
    "          (Amid, Amid5 * ureg.millimeter**2),(Atip, Atip5 * ureg.millimeter), \\\n",
    "          (tms, tms5 * ureg.millimeter),(tfs, tfs5 * ureg.millimeter), \\\n",
    "          (tpt, tpt5 * ureg.millimeter), (tpn, tpn5 * ureg.millimeter), \\\n",
    "          (hms, hms5 * ureg.millimeter), (hfs, hfs5 * ureg.millimeter), \\\n",
    "          (xfs, xfs5 * ureg.millimeter), (xtip, xtip5 * ureg.millimeter), \\\n",
    "          (L,  L5* ureg.millimeter) ]\n",
    "datav = [(v[0],v[1].magnitude) for v in values]"
   ]
  },
  {
   "cell_type": "code",
   "execution_count": 117,
   "metadata": {
    "collapsed": true
   },
   "outputs": [],
   "source": [
    "stringers = {1:[(sympy.Integer(0),sympy.Float(hms5)),sympy.Float(Ams5)],\n",
    "             2:[(sympy.Float(xfs5/2),sympy.Float((hms5+hfs5)/2)),sympy.Float(Amid5)],\n",
    "             3:[(sympy.Float(xfs5),sympy.Float(hfs5)),sympy.Float(Afs5)],\n",
    "             4:[(sympy.Float(xtip5),sympy.Integer(0)),sympy.Float(Atip5)],\n",
    "             5:[(sympy.Float(xfs5),sympy.Float(-hfs5)),sympy.Float(Afs5)],\n",
    "             6:[(sympy.Float(xfs5/2),sympy.Float(-(hms5+hfs5)/2)),sympy.Float(Amid5)],\n",
    "             7:[(sympy.Integer(0),sympy.Float(-hms5)),sympy.Float(Ams5)]}\n",
    "\n",
    "panels = {(1,2):sympy.Float(tpt5),\n",
    "          (2,3):sympy.Float(tpt5),\n",
    "          (3,4):sympy.Float(tpn5),\n",
    "          (4,5):sympy.Float(tpn5),\n",
    "          (5,6):sympy.Float(tpt5),\n",
    "          (6,7):sympy.Float(tpt5),\n",
    "          (7,1):sympy.Float(tms5)}"
   ]
  },
  {
   "cell_type": "markdown",
   "metadata": {},
   "source": [
    "Define section and perform first calculations"
   ]
  },
  {
   "cell_type": "code",
   "execution_count": 118,
   "metadata": {
    "collapsed": false
   },
   "outputs": [],
   "source": [
    "S5 = Section(stringers, panels)"
   ]
  },
  {
   "cell_type": "code",
   "execution_count": 119,
   "metadata": {
    "collapsed": false
   },
   "outputs": [
    {
     "data": {
      "image/png": "[encoded data removed]",
      "text/latex": [
       "$$\\left [ \\left [ 2, \\quad 3, \\quad 4, \\quad 5, \\quad 6, \\quad 7, \\quad 1, \\quad 2\\right ]\\right ]$$"
      ],
      "text/plain": [
       "[[2, 3, 4, 5, 6, 7, 1, 2]]"
      ]
     },
     "execution_count": 119,
     "metadata": {},
     "output_type": "execute_result"
    }
   ],
   "source": [
    "S5.cycles"
   ]
  },
  {
   "cell_type": "markdown",
   "metadata": {
    "collapsed": false
   },
   "source": [
    "## Plot of **S5** section in original reference frame"
   ]
  },
  {
   "cell_type": "code",
   "execution_count": 120,
   "metadata": {
    "collapsed": true
   },
   "outputs": [],
   "source": [
    "positions={ii: [float(S5.g.node[ii]['pos'][i].subs(datav)) for i in range(2)] for ii in S5.g.nodes() }"
   ]
  },
  {
   "cell_type": "code",
   "execution_count": 121,
   "metadata": {
    "collapsed": false
   },
   "outputs": [
    {
     "data": {
      "image/png": "[encoded data removed]",
      "text/plain": [
       "<matplotlib.figure.Figure at 0x7f6f1ec53470>"
      ]
     },
     "metadata": {},
     "output_type": "display_data"
    }
   ],
   "source": [
    "plt.figure(figsize=(12,8),dpi=300)\n",
    "nx.draw(S5.g,with_labels=True, arrows= True, pos=start_pos)\n",
    "plt.arrow(0,0,20,0)\n",
    "plt.arrow(0,0,0,20)\n",
    "#plt.text(0,0, 'CG', fontsize=24)\n",
    "plt.axis('equal')\n",
    "plt.title(\"Section in starting reference Frame\",fontsize=16);"
   ]
  },
  {
   "cell_type": "markdown",
   "metadata": {},
   "source": [
    "Expression of **Inertial properties** wrt Center of Gravity in with original rotation"
   ]
  },
  {
   "cell_type": "code",
   "execution_count": 122,
   "metadata": {
    "collapsed": false
   },
   "outputs": [
    {
     "data": {
      "image/png": "[encoded data removed]",
      "text/latex": [
       "$$\\left ( 536318.491433007, \\quad 11131047.0081715, \\quad 0, \\quad 0\\right )$$"
      ],
      "text/plain": [
       "(536318.491433007, 11131047.0081715, 0, 0)"
      ]
     },
     "execution_count": 122,
     "metadata": {},
     "output_type": "execute_result"
    }
   ],
   "source": [
    "S5.Ixx0, S5.Iyy0, S5.Ixy0, S4.α0"
   ]
  },
  {
   "cell_type": "markdown",
   "metadata": {},
   "source": [
    "## Plot of **S5** section in inertial reference Frame"
   ]
  },
  {
   "cell_type": "markdown",
   "metadata": {},
   "source": [
    "Section is plotted wrt **center of gravity** and rotated (if necessary) so that *x* and *y* are principal axes.\n",
    "**Center of Gravity** and **Shear Center** are drawn"
   ]
  },
  {
   "cell_type": "code",
   "execution_count": 123,
   "metadata": {
    "collapsed": true
   },
   "outputs": [],
   "source": [
    "positions={ii: [float(S5.g.node[ii]['pos'][i].subs(datav)) for i in range(2)] for ii in S5.g.nodes() }"
   ]
  },
  {
   "cell_type": "code",
   "execution_count": 124,
   "metadata": {
    "collapsed": false
   },
   "outputs": [
    {
     "data": {
      "image/png": "[encoded data removed]",
      "text/plain": [
       "<matplotlib.figure.Figure at 0x7f6f1f34b550>"
      ]
     },
     "metadata": {},
     "output_type": "display_data"
    }
   ],
   "source": [
    "x_ct, y_ct = S5.ct.subs(datav)\n",
    "\n",
    "plt.figure(figsize=(12,8),dpi=300)\n",
    "nx.draw(S4.g,with_labels=True, pos=positions)\n",
    "plt.plot([0],[0],'o',ms=12,label='CG')\n",
    "plt.plot([x_ct],[y_ct],'^',ms=12, label='SC')\n",
    "#plt.text(0,0, 'CG', fontsize=24)\n",
    "#plt.text(x_ct,y_ct, 'SC', fontsize=24)\n",
    "plt.legend(loc='lower right', shadow=True)\n",
    "plt.axis('equal')\n",
    "plt.title(\"Section in pricipal reference Frame\",fontsize=16);"
   ]
  },
  {
   "cell_type": "markdown",
   "metadata": {},
   "source": [
    "Expression of **inertial properties** in *principal reference frame*"
   ]
  },
  {
   "cell_type": "code",
   "execution_count": 125,
   "metadata": {
    "collapsed": false
   },
   "outputs": [
    {
     "data": {
      "image/png": "[encoded data removed]",
      "text/latex": [
       "$$\\left ( 536318.491433007, \\quad 11131047.0081715, \\quad 0, \\quad 0\\right )$$"
      ],
      "text/plain": [
       "(536318.491433007, 11131047.0081715, 0, 0)"
      ]
     },
     "execution_count": 125,
     "metadata": {},
     "output_type": "execute_result"
    }
   ],
   "source": [
    "S5.Ixx, S5.Iyy, S5.Ixy, S5.θ"
   ]
  },
  {
   "cell_type": "code",
   "execution_count": 126,
   "metadata": {
    "collapsed": true
   },
   "outputs": [],
   "source": [
    "Ixx5 = S5.Ixx.subs(datav)"
   ]
  },
  {
   "cell_type": "code",
   "execution_count": 127,
   "metadata": {
    "collapsed": false
   },
   "outputs": [],
   "source": [
    "S5.set_loads(_Tx=0, _Ty=0, _Nz=0, _Mx=0, _My=0, _Mz=0)"
   ]
  },
  {
   "cell_type": "code",
   "execution_count": 129,
   "metadata": {
    "collapsed": false
   },
   "outputs": [
    {
     "data": {
      "image/png": "[encoded data removed]",
      "text/latex": [
       "$$\\left[\\begin{matrix}504707.232197396\\end{matrix}\\right]$$"
      ],
      "text/plain": [
       "[504707.232197396]"
      ]
     },
     "execution_count": 129,
     "metadata": {},
     "output_type": "execute_result"
    }
   ],
   "source": [
    "S5.compute_Jt()\n",
    "S5.Jt"
   ]
  },
  {
   "cell_type": "code",
   "execution_count": 130,
   "metadata": {
    "collapsed": false
   },
   "outputs": [
    {
     "data": {
      "image/png": "[encoded data removed]",
      "text/latex": [
       "$$504707.232197396$$"
      ],
      "text/plain": [
       "504707.232197396"
      ]
     },
     "execution_count": 130,
     "metadata": {},
     "output_type": "execute_result"
    }
   ],
   "source": [
    "Jt5 = S5.Jt[0]\n",
    "Jt5"
   ]
  },
  {
   "cell_type": "code",
   "execution_count": 131,
   "metadata": {
    "collapsed": true
   },
   "outputs": [],
   "source": [
    "E = 73100.\n",
    "ν = .33\n",
    "G = E/(2*(1+ν))"
   ]
  },
  {
   "cell_type": "markdown",
   "metadata": {},
   "source": [
    "# Compute torsion angle"
   ]
  },
  {
   "cell_type": "code",
   "execution_count": 132,
   "metadata": {
    "collapsed": true
   },
   "outputs": [],
   "source": [
    "Mz = 1000."
   ]
  },
  {
   "cell_type": "code",
   "execution_count": 133,
   "metadata": {
    "collapsed": true
   },
   "outputs": [],
   "source": [
    "ϕ = Mz/G*(L1/Jt1+L2/Jt2+L3/Jt3+L4/Jt4+L5/Jt5)"
   ]
  },
  {
   "cell_type": "markdown",
   "metadata": {},
   "source": [
    "## overall torsion angle"
   ]
  },
  {
   "cell_type": "code",
   "execution_count": 134,
   "metadata": {
    "collapsed": false
   },
   "outputs": [
    {
     "data": {
      "image/png": "[encoded data removed]",
      "text/latex": [
       "$$4.92558158809168 \\cdot 10^{-5}$$"
      ],
      "text/plain": [
       "4.92558158809168e-5"
      ]
     },
     "execution_count": 134,
     "metadata": {},
     "output_type": "execute_result"
    }
   ],
   "source": [
    "ϕ"
   ]
  },
  {
   "cell_type": "markdown",
   "metadata": {},
   "source": [
    "# Compute tip displacement and rotation"
   ]
  },
  {
   "cell_type": "code",
   "execution_count": 136,
   "metadata": {
    "collapsed": false
   },
   "outputs": [],
   "source": [
    "L = np.array([L1, L2, L3, L4, L5])\n",
    "Mx = 1000.\n",
    "Jxx = np.array([Ixx1, Ixx2, Ixx3, Ixx4, Ixx5])"
   ]
  },
  {
   "cell_type": "code",
   "execution_count": 143,
   "metadata": {
    "collapsed": false
   },
   "outputs": [
    {
     "data": {
      "image/png": "[encoded data removed]",
      "text/latex": [
       "$$2.29673122468914 \\cdot 10^{-5}$$"
      ],
      "text/plain": [
       "2.29673122468914e-5"
      ]
     },
     "execution_count": 143,
     "metadata": {},
     "output_type": "execute_result"
    }
   ],
   "source": [
    "θ = Mx*L/(E*Jxx)\n",
    "sum(θ)"
   ]
  },
  {
   "cell_type": "code",
   "execution_count": 148,
   "metadata": {
    "collapsed": false
   },
   "outputs": [
    {
     "data": {
      "image/png": "[encoded data removed]",
      "text/latex": [
       "$$-0.00895511066085116$$"
      ],
      "text/plain": [
       "-0.00895511066085116"
      ]
     },
     "execution_count": 148,
     "metadata": {},
     "output_type": "execute_result"
    }
   ],
   "source": [
    "y = -Mx*L**2/(2*E*Jxx)\n",
    "yf = sum([-L[i]*sum(θ[:i-1]) for i in range(1,len(L))]) + sum(y)\n",
    "yf"
   ]
  },
  {
   "cell_type": "code",
   "execution_count": null,
   "metadata": {
    "collapsed": true
   },
   "outputs": [],
   "source": []
  }
 ],
 "metadata": {
  "kernelspec": {
   "display_name": "Python 3",
   "language": "python",
   "name": "python3"
  },
  "language_info": {
   "codemirror_mode": {
    "name": "ipython",
    "version": 3
   },
   "file_extension": ".py",
   "mimetype": "text/x-python",
   "name": "python",
   "nbconvert_exporter": "python",
   "pygments_lexer": "ipython3",
   "version": "3.5.2"
  }
 },
 "nbformat": 4,
 "nbformat_minor": 0
}
