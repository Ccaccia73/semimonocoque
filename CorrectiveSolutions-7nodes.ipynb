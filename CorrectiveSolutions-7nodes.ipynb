{
 "cells": [
  {
   "cell_type": "markdown",
   "metadata": {},
   "source": [
    "# Semi-Monocoque Theory: corrective solutions"
   ]
  },
  {
   "cell_type": "code",
   "execution_count": 1,
   "metadata": {
    "collapsed": false
   },
   "outputs": [],
   "source": [
    "from pint import UnitRegistry\n",
    "import sympy\n",
    "import networkx as nx\n",
    "import numpy as np\n",
    "import matplotlib.pyplot as plt\n",
    "import sys\n",
    "%matplotlib inline\n",
    "from IPython.display import display"
   ]
  },
  {
   "cell_type": "markdown",
   "metadata": {},
   "source": [
    "Import **Section** class, which contains all calculations"
   ]
  },
  {
   "cell_type": "code",
   "execution_count": 2,
   "metadata": {
    "collapsed": false
   },
   "outputs": [],
   "source": [
    "sys.path.append('./')\n",
    "from Section import Section"
   ]
  },
  {
   "cell_type": "markdown",
   "metadata": {},
   "source": [
    "Initialization of **sympy** symbolic tool and **pint** for dimension analysis (not really implemented rn as not directly compatible with sympy)"
   ]
  },
  {
   "cell_type": "code",
   "execution_count": 3,
   "metadata": {
    "collapsed": false
   },
   "outputs": [],
   "source": [
    "ureg = UnitRegistry()\n",
    "sympy.init_printing()"
   ]
  },
  {
   "cell_type": "markdown",
   "metadata": {},
   "source": [
    "Define **sympy** parameters used for geometric description of sections"
   ]
  },
  {
   "cell_type": "code",
   "execution_count": 4,
   "metadata": {
    "collapsed": false
   },
   "outputs": [],
   "source": [
    "A, A0, t, t0, a, b, h, L, E, G = sympy.symbols('A A_0 t t_0 a b h L E G', positive=True)"
   ]
  },
  {
   "cell_type": "markdown",
   "metadata": {},
   "source": [
    "We also define numerical values for each **symbol** in order to plot scaled section and perform calculations"
   ]
  },
  {
   "cell_type": "code",
   "execution_count": 5,
   "metadata": {
    "collapsed": false
   },
   "outputs": [],
   "source": [
    "values = [(A, 150 * ureg.millimeter**2),(A0, 250  * ureg.millimeter**2),(a, 40 * ureg.millimeter), \\\n",
    "          (b, 20 * ureg.millimeter),(h, 60 * ureg.millimeter),(L, 2000 * ureg.millimeter)]\n",
    "datav = [(v[0],v[1].magnitude) for v in values]"
   ]
  },
  {
   "cell_type": "markdown",
   "metadata": {
    "collapsed": false
   },
   "source": [
    "# First example: Simple rectangular section"
   ]
  },
  {
   "cell_type": "markdown",
   "metadata": {},
   "source": [
    "Define graph describing the section:\n",
    "\n",
    "1) **stringers** are **nodes** with parameters:\n",
    "- **x** coordinate\n",
    "- **y** coordinate\n",
    "- **Area**\n",
    "\n",
    "2) **panels** are **oriented edges** with parameters:\n",
    "- **thickness**\n",
    "- **lenght** which is automatically calculated"
   ]
  },
  {
   "cell_type": "code",
   "execution_count": 6,
   "metadata": {
    "collapsed": false
   },
   "outputs": [],
   "source": [
    "stringers = {1:[(3*a,h),A],\n",
    "             2:[(2*a,h),A],\n",
    "             3:[(a,h),A],\n",
    "             4:[(sympy.Integer(0),h),A],\n",
    "             5:[(sympy.Integer(0),sympy.Integer(0)),A],\n",
    "             6:[(sympy.Rational(7,4)*a,sympy.Integer(0)),A],\n",
    "             7:[(3*a,sympy.Integer(0)),A]}\n",
    "\n",
    "panels = {(1,2):t,\n",
    "          (2,3):t,\n",
    "          (3,4):t,\n",
    "          (4,5):t,\n",
    "          (5,6):t,\n",
    "          (6,7):t,\n",
    "          (7,1):t}"
   ]
  },
  {
   "cell_type": "markdown",
   "metadata": {},
   "source": [
    "Define section and perform first calculations"
   ]
  },
  {
   "cell_type": "code",
   "execution_count": 7,
   "metadata": {
    "collapsed": false
   },
   "outputs": [
    {
     "name": "stdout",
     "output_type": "stream",
     "text": [
      "Nodes False for Y !\n",
      "compute SC \n",
      "Nodes False for X !\n",
      "compute SC \n"
     ]
    }
   ],
   "source": [
    "S1 = Section(stringers, panels)"
   ]
  },
  {
   "cell_type": "code",
   "execution_count": 8,
   "metadata": {
    "collapsed": false
   },
   "outputs": [
    {
     "data": {
      "image/png": "[encoded data removed]",
      "text/latex": [
       "$$\\left [ \\left [ 2, \\quad 3, \\quad 4, \\quad 5, \\quad 6, \\quad 7, \\quad 1, \\quad 2\\right ]\\right ]$$"
      ],
      "text/plain": [
       "[[2, 3, 4, 5, 6, 7, 1, 2]]"
      ]
     },
     "execution_count": 8,
     "metadata": {},
     "output_type": "execute_result"
    }
   ],
   "source": [
    "S1.cycles"
   ]
  },
  {
   "cell_type": "markdown",
   "metadata": {
    "collapsed": false
   },
   "source": [
    "## Plot of **S1** section in original reference frame"
   ]
  },
  {
   "cell_type": "markdown",
   "metadata": {},
   "source": [
    "Define a dictionary of coordinates used by **Networkx** to plot section as a Directed graph.\n",
    "Note that arrows are actually just thicker stubs"
   ]
  },
  {
   "cell_type": "code",
   "execution_count": 9,
   "metadata": {
    "collapsed": true
   },
   "outputs": [],
   "source": [
    "start_pos={ii: [float(S1.g.node[ii]['ip'][i].subs(datav)) for i in range(2)] for ii in S1.g.nodes() }"
   ]
  },
  {
   "cell_type": "code",
   "execution_count": 10,
   "metadata": {
    "collapsed": false
   },
   "outputs": [
    {
     "data": {
      "image/png": "[encoded data removed]",
      "text/plain": [
       "<matplotlib.figure.Figure at 0x7feb6b8166a0>"
      ]
     },
     "metadata": {},
     "output_type": "display_data"
    }
   ],
   "source": [
    "plt.figure(figsize=(12,8),dpi=300)\n",
    "nx.draw(S1.g,with_labels=True, arrows= True, pos=start_pos)\n",
    "plt.arrow(0,0,20,0)\n",
    "plt.arrow(0,0,0,20)\n",
    "#plt.text(0,0, 'CG', fontsize=24)\n",
    "plt.axis('equal')\n",
    "plt.title(\"Section in starting reference Frame\",fontsize=16);"
   ]
  },
  {
   "cell_type": "markdown",
   "metadata": {},
   "source": [
    "## Plot of **S1** section in inertial reference Frame"
   ]
  },
  {
   "cell_type": "markdown",
   "metadata": {},
   "source": [
    "Section is plotted wrt **center of gravity** and rotated (if necessary) so that *x* and *y* are principal axes.\n",
    "**Center of Gravity** and **Shear Center** are drawn"
   ]
  },
  {
   "cell_type": "code",
   "execution_count": 11,
   "metadata": {
    "collapsed": true
   },
   "outputs": [],
   "source": [
    "positions={ii: [float(S1.g.node[ii]['pos'][i].subs(datav)) for i in range(2)] for ii in S1.g.nodes() }"
   ]
  },
  {
   "cell_type": "code",
   "execution_count": 12,
   "metadata": {
    "collapsed": false
   },
   "outputs": [
    {
     "data": {
      "image/png": "[encoded data removed]",
      "text/plain": [
       "<matplotlib.figure.Figure at 0x7feb6b816908>"
      ]
     },
     "metadata": {},
     "output_type": "display_data"
    }
   ],
   "source": [
    "x_ct, y_ct = S1.ct.subs(datav)\n",
    "\n",
    "plt.figure(figsize=(12,8),dpi=300)\n",
    "nx.draw(S1.g,with_labels=True, pos=positions)\n",
    "plt.plot([0],[0],'o',ms=12,label='CG')\n",
    "plt.plot([x_ct],[y_ct],'^',ms=12, label='SC')\n",
    "#plt.text(0,0, 'CG', fontsize=24)\n",
    "#plt.text(x_ct,y_ct, 'SC', fontsize=24)\n",
    "plt.legend(loc='lower right', shadow=True)\n",
    "plt.axis('equal')\n",
    "plt.title(\"Section in pricipal reference Frame\",fontsize=16);"
   ]
  },
  {
   "cell_type": "markdown",
   "metadata": {},
   "source": [
    "Expression of **inertial properties** in *principal reference frame*"
   ]
  },
  {
   "cell_type": "code",
   "execution_count": 13,
   "metadata": {
    "collapsed": false
   },
   "outputs": [
    {
     "data": {
      "image/png": "[encoded data removed]",
      "text/latex": [
       "$$\\left ( - \\frac{A}{112 \\left(535 a^{2} - 96 h^{2}\\right) \\sqrt{286225 a^{4} - 102464 a^{2} h^{2} + 9216 h^{4}}} \\left(- 286225 a^{4} \\sqrt{286225 a^{4} - 102464 a^{2} h^{2} + 9216 h^{4}} + 286225 a^{4} \\left\\lvert{535 a^{2} - 96 h^{2}}\\right\\rvert - 102464 a^{2} h^{2} \\left\\lvert{535 a^{2} - 96 h^{2}}\\right\\rvert + 9216 h^{4} \\sqrt{286225 a^{4} - 102464 a^{2} h^{2} + 9216 h^{4}} + 9216 h^{4} \\left\\lvert{535 a^{2} - 96 h^{2}}\\right\\rvert\\right), \\quad \\frac{A}{112 \\left(535 a^{2} - 96 h^{2}\\right) \\sqrt{286225 a^{4} - 102464 a^{2} h^{2} + 9216 h^{4}}} \\left(286225 a^{4} \\sqrt{286225 a^{4} - 102464 a^{2} h^{2} + 9216 h^{4}} + 286225 a^{4} \\left\\lvert{535 a^{2} - 96 h^{2}}\\right\\rvert - 102464 a^{2} h^{2} \\left\\lvert{535 a^{2} - 96 h^{2}}\\right\\rvert - 9216 h^{4} \\sqrt{286225 a^{4} - 102464 a^{2} h^{2} + 9216 h^{4}} + 9216 h^{4} \\left\\lvert{535 a^{2} - 96 h^{2}}\\right\\rvert\\right), \\quad 0, \\quad 0\\right )$$"
      ],
      "text/plain": [
       "⎛   ⎛               ____________________________________                      \n",
       "⎜   ⎜          4   ╱         4           2  2         4            4 │     2  \n",
       "⎜-A⋅⎝- 286225⋅a ⋅╲╱  286225⋅a  - 102464⋅a ⋅h  + 9216⋅h   + 286225⋅a ⋅│535⋅a  -\n",
       "⎜─────────────────────────────────────────────────────────────────────────────\n",
       "⎜                                                                             \n",
       "⎜                                                                        ⎛    \n",
       "⎝                                                                    112⋅⎝535⋅\n",
       "\n",
       "                                                     _________________________\n",
       "     2│           2  2 │     2       2│         4   ╱         4           2  2\n",
       " 96⋅h │ - 102464⋅a ⋅h ⋅│535⋅a  - 96⋅h │ + 9216⋅h ⋅╲╱  286225⋅a  - 102464⋅a ⋅h \n",
       "──────────────────────────────────────────────────────────────────────────────\n",
       "               ____________________________________                           \n",
       " 2       2⎞   ╱         4           2  2         4                            \n",
       "a  - 96⋅h ⎠⋅╲╱  286225⋅a  - 102464⋅a ⋅h  + 9216⋅h                             \n",
       "\n",
       "___________                           ⎞     ⎛             ____________________\n",
       "         4          4 │     2       2│⎟     ⎜        4   ╱         4          \n",
       " + 9216⋅h   + 9216⋅h ⋅│535⋅a  - 96⋅h │⎠   A⋅⎝286225⋅a ⋅╲╱  286225⋅a  - 102464⋅\n",
       "────────────────────────────────────────, ────────────────────────────────────\n",
       "                                                                              \n",
       "                                                                              \n",
       "                                                                              \n",
       "\n",
       "________________                                                              \n",
       " 2  2         4            4 │     2       2│           2  2 │     2       2│ \n",
       "a ⋅h  + 9216⋅h   + 286225⋅a ⋅│535⋅a  - 96⋅h │ - 102464⋅a ⋅h ⋅│535⋅a  - 96⋅h │ \n",
       "──────────────────────────────────────────────────────────────────────────────\n",
       "                                                      ________________________\n",
       "                                  ⎛     2       2⎞   ╱         4           2  \n",
       "                              112⋅⎝535⋅a  - 96⋅h ⎠⋅╲╱  286225⋅a  - 102464⋅a ⋅h\n",
       "\n",
       "             ____________________________________                           ⎞ \n",
       "        4   ╱         4           2  2         4          4 │     2       2│⎟ \n",
       "- 9216⋅h ⋅╲╱  286225⋅a  - 102464⋅a ⋅h  + 9216⋅h   + 9216⋅h ⋅│535⋅a  - 96⋅h │⎠ \n",
       "─────────────────────────────────────────────────────────────────────────────,\n",
       "____________                                                                  \n",
       "2         4                                                                   \n",
       "  + 9216⋅h                                                                    \n",
       "\n",
       "     ⎞\n",
       "     ⎟\n",
       "     ⎟\n",
       " 0, 0⎟\n",
       "     ⎟\n",
       "     ⎟\n",
       "     ⎠"
      ]
     },
     "execution_count": 13,
     "metadata": {},
     "output_type": "execute_result"
    }
   ],
   "source": [
    "sympy.simplify(S1.Ixx), sympy.simplify(S1.Iyy), sympy.simplify(S1.Ixy), sympy.simplify(S1.θ)"
   ]
  },
  {
   "cell_type": "code",
   "execution_count": 14,
   "metadata": {
    "collapsed": false
   },
   "outputs": [
    {
     "data": {
      "text/plain": [
       "[{'edges': [], 'nodes': []}, {'edges': [], 'nodes': []}]"
      ]
     },
     "execution_count": 14,
     "metadata": {},
     "output_type": "execute_result"
    }
   ],
   "source": [
    "S1.symmetry"
   ]
  },
  {
   "cell_type": "code",
   "execution_count": 15,
   "metadata": {
    "collapsed": false
   },
   "outputs": [],
   "source": [
    "S1.compute_L()"
   ]
  },
  {
   "cell_type": "code",
   "execution_count": 16,
   "metadata": {
    "collapsed": false
   },
   "outputs": [
    {
     "data": {
      "image/png": "[encoded data removed]",
      "text/latex": [
       "$$\\left[\\begin{matrix}a_{0}\\\\a_{1}\\\\a_{2}\\\\a_{3}\\\\a_{4}\\\\a_{5}\\\\a_{6}\\end{matrix}\\right]$$"
      ],
      "text/plain": [
       "⎡a₀⎤\n",
       "⎢  ⎥\n",
       "⎢a₁⎥\n",
       "⎢  ⎥\n",
       "⎢a₂⎥\n",
       "⎢  ⎥\n",
       "⎢a₃⎥\n",
       "⎢  ⎥\n",
       "⎢a₄⎥\n",
       "⎢  ⎥\n",
       "⎢a₅⎥\n",
       "⎢  ⎥\n",
       "⎣a₆⎦"
      ]
     },
     "execution_count": 16,
     "metadata": {},
     "output_type": "execute_result"
    }
   ],
   "source": [
    "S1.val"
   ]
  },
  {
   "cell_type": "code",
   "execution_count": 17,
   "metadata": {
    "collapsed": false
   },
   "outputs": [
    {
     "data": {
      "image/png": "[encoded data removed]",
      "text/latex": [
       "$$\\left [ a_{0} + a_{1} + a_{2} + a_{3} + a_{4} + a_{5} + a_{6}, \\quad a_{0} \\left(\\frac{41 a}{28} \\sin{\\left (\\frac{1}{2} \\operatorname{atan}{\\left (\\frac{2 A a h}{\\frac{535 A}{8} a^{2} - 12 A h^{2}} \\right )} \\right )} + \\frac{3 h}{7} \\cos{\\left (\\frac{1}{2} \\operatorname{atan}{\\left (\\frac{2 A a h}{\\frac{535 A}{8} a^{2} - 12 A h^{2}} \\right )} \\right )}\\right) + a_{1} \\left(\\frac{13 a}{28} \\sin{\\left (\\frac{1}{2} \\operatorname{atan}{\\left (\\frac{2 A a h}{\\frac{535 A}{8} a^{2} - 12 A h^{2}} \\right )} \\right )} + \\frac{3 h}{7} \\cos{\\left (\\frac{1}{2} \\operatorname{atan}{\\left (\\frac{2 A a h}{\\frac{535 A}{8} a^{2} - 12 A h^{2}} \\right )} \\right )}\\right) + a_{2} \\left(- \\frac{15 a}{28} \\sin{\\left (\\frac{1}{2} \\operatorname{atan}{\\left (\\frac{2 A a h}{\\frac{535 A}{8} a^{2} - 12 A h^{2}} \\right )} \\right )} + \\frac{3 h}{7} \\cos{\\left (\\frac{1}{2} \\operatorname{atan}{\\left (\\frac{2 A a h}{\\frac{535 A}{8} a^{2} - 12 A h^{2}} \\right )} \\right )}\\right) + a_{3} \\left(- \\frac{43 a}{28} \\sin{\\left (\\frac{1}{2} \\operatorname{atan}{\\left (\\frac{2 A a h}{\\frac{535 A}{8} a^{2} - 12 A h^{2}} \\right )} \\right )} + \\frac{3 h}{7} \\cos{\\left (\\frac{1}{2} \\operatorname{atan}{\\left (\\frac{2 A a h}{\\frac{535 A}{8} a^{2} - 12 A h^{2}} \\right )} \\right )}\\right) + a_{4} \\left(- \\frac{43 a}{28} \\sin{\\left (\\frac{1}{2} \\operatorname{atan}{\\left (\\frac{2 A a h}{\\frac{535 A}{8} a^{2} - 12 A h^{2}} \\right )} \\right )} - \\frac{4 h}{7} \\cos{\\left (\\frac{1}{2} \\operatorname{atan}{\\left (\\frac{2 A a h}{\\frac{535 A}{8} a^{2} - 12 A h^{2}} \\right )} \\right )}\\right) + a_{5} \\left(\\frac{3 a}{14} \\sin{\\left (\\frac{1}{2} \\operatorname{atan}{\\left (\\frac{2 A a h}{\\frac{535 A}{8} a^{2} - 12 A h^{2}} \\right )} \\right )} - \\frac{4 h}{7} \\cos{\\left (\\frac{1}{2} \\operatorname{atan}{\\left (\\frac{2 A a h}{\\frac{535 A}{8} a^{2} - 12 A h^{2}} \\right )} \\right )}\\right) + a_{6} \\left(\\frac{41 a}{28} \\sin{\\left (\\frac{1}{2} \\operatorname{atan}{\\left (\\frac{2 A a h}{\\frac{535 A}{8} a^{2} - 12 A h^{2}} \\right )} \\right )} - \\frac{4 h}{7} \\cos{\\left (\\frac{1}{2} \\operatorname{atan}{\\left (\\frac{2 A a h}{\\frac{535 A}{8} a^{2} - 12 A h^{2}} \\right )} \\right )}\\right), \\quad a_{0} \\left(\\frac{41 a}{28} \\cos{\\left (\\frac{1}{2} \\operatorname{atan}{\\left (\\frac{2 A a h}{\\frac{535 A}{8} a^{2} - 12 A h^{2}} \\right )} \\right )} - \\frac{3 h}{7} \\sin{\\left (\\frac{1}{2} \\operatorname{atan}{\\left (\\frac{2 A a h}{\\frac{535 A}{8} a^{2} - 12 A h^{2}} \\right )} \\right )}\\right) + a_{1} \\left(\\frac{13 a}{28} \\cos{\\left (\\frac{1}{2} \\operatorname{atan}{\\left (\\frac{2 A a h}{\\frac{535 A}{8} a^{2} - 12 A h^{2}} \\right )} \\right )} - \\frac{3 h}{7} \\sin{\\left (\\frac{1}{2} \\operatorname{atan}{\\left (\\frac{2 A a h}{\\frac{535 A}{8} a^{2} - 12 A h^{2}} \\right )} \\right )}\\right) + a_{2} \\left(- \\frac{15 a}{28} \\cos{\\left (\\frac{1}{2} \\operatorname{atan}{\\left (\\frac{2 A a h}{\\frac{535 A}{8} a^{2} - 12 A h^{2}} \\right )} \\right )} - \\frac{3 h}{7} \\sin{\\left (\\frac{1}{2} \\operatorname{atan}{\\left (\\frac{2 A a h}{\\frac{535 A}{8} a^{2} - 12 A h^{2}} \\right )} \\right )}\\right) + a_{3} \\left(- \\frac{43 a}{28} \\cos{\\left (\\frac{1}{2} \\operatorname{atan}{\\left (\\frac{2 A a h}{\\frac{535 A}{8} a^{2} - 12 A h^{2}} \\right )} \\right )} - \\frac{3 h}{7} \\sin{\\left (\\frac{1}{2} \\operatorname{atan}{\\left (\\frac{2 A a h}{\\frac{535 A}{8} a^{2} - 12 A h^{2}} \\right )} \\right )}\\right) + a_{4} \\left(- \\frac{43 a}{28} \\cos{\\left (\\frac{1}{2} \\operatorname{atan}{\\left (\\frac{2 A a h}{\\frac{535 A}{8} a^{2} - 12 A h^{2}} \\right )} \\right )} + \\frac{4 h}{7} \\sin{\\left (\\frac{1}{2} \\operatorname{atan}{\\left (\\frac{2 A a h}{\\frac{535 A}{8} a^{2} - 12 A h^{2}} \\right )} \\right )}\\right) + a_{5} \\left(\\frac{3 a}{14} \\cos{\\left (\\frac{1}{2} \\operatorname{atan}{\\left (\\frac{2 A a h}{\\frac{535 A}{8} a^{2} - 12 A h^{2}} \\right )} \\right )} + \\frac{4 h}{7} \\sin{\\left (\\frac{1}{2} \\operatorname{atan}{\\left (\\frac{2 A a h}{\\frac{535 A}{8} a^{2} - 12 A h^{2}} \\right )} \\right )}\\right) + a_{6} \\left(\\frac{41 a}{28} \\cos{\\left (\\frac{1}{2} \\operatorname{atan}{\\left (\\frac{2 A a h}{\\frac{535 A}{8} a^{2} - 12 A h^{2}} \\right )} \\right )} + \\frac{4 h}{7} \\sin{\\left (\\frac{1}{2} \\operatorname{atan}{\\left (\\frac{2 A a h}{\\frac{535 A}{8} a^{2} - 12 A h^{2}} \\right )} \\right )}\\right)\\right ]$$"
      ],
      "text/plain": [
       "⎡                                     ⎛        ⎛    ⎛       2⋅A⋅a⋅h        ⎞⎞ \n",
       "⎢                                     ⎜        ⎜    ⎜──────────────────────⎟⎟ \n",
       "⎢                                     ⎜        ⎜    ⎜  ⎛       2         2⎞⎟⎟ \n",
       "⎢                                     ⎜        ⎜atan⎜  ⎜535⋅A⋅a    12⋅A⋅h ⎟⎟⎟ \n",
       "⎢                                     ⎜        ⎜    ⎜7⋅⎜──────── - ───────⎟⎟⎟ \n",
       "⎢                                     ⎜        ⎜    ⎝  ⎝   56         7   ⎠⎠⎟ \n",
       "⎢                                     ⎜41⋅a⋅   ⎜────────────────────────────⎟ \n",
       "⎢                                     ⎜        ⎝             2              ⎠ \n",
       "⎢                                     ⎜                                       \n",
       "⎢                                     ⎜     sin                               \n",
       "⎢a₀ + a₁ + a₂ + a₃ + a₄ + a₅ + a₆, a₀⋅⎜────────────────────────────────────── \n",
       "⎣                                     ⎝                  28                   \n",
       "\n",
       "         ⎛    ⎛       2⋅A⋅a⋅h        ⎞⎞⎞      ⎛        ⎛    ⎛       2⋅A⋅a⋅h   \n",
       "         ⎜    ⎜──────────────────────⎟⎟⎟      ⎜        ⎜    ⎜─────────────────\n",
       "         ⎜    ⎜  ⎛       2         2⎞⎟⎟⎟      ⎜        ⎜    ⎜  ⎛       2      \n",
       "         ⎜atan⎜  ⎜535⋅A⋅a    12⋅A⋅h ⎟⎟⎟⎟      ⎜        ⎜atan⎜  ⎜535⋅A⋅a    12⋅\n",
       "         ⎜    ⎜7⋅⎜──────── - ───────⎟⎟⎟⎟      ⎜        ⎜    ⎜7⋅⎜──────── - ───\n",
       "         ⎜    ⎝  ⎝   56         7   ⎠⎠⎟⎟      ⎜        ⎜    ⎝  ⎝   56         \n",
       "  3⋅h⋅   ⎜────────────────────────────⎟⎟      ⎜13⋅a⋅   ⎜──────────────────────\n",
       "         ⎝             2              ⎠⎟      ⎜        ⎝             2        \n",
       "                                       ⎟      ⎜                               \n",
       "      cos                              ⎟      ⎜     sin                       \n",
       "+ ─────────────────────────────────────⎟ + a₁⋅⎜───────────────────────────────\n",
       "                    7                  ⎠      ⎝                  28           \n",
       "\n",
       "     ⎞⎞          ⎛    ⎛       2⋅A⋅a⋅h        ⎞⎞⎞      ⎛          ⎛    ⎛       \n",
       "─────⎟⎟          ⎜    ⎜──────────────────────⎟⎟⎟      ⎜          ⎜    ⎜───────\n",
       "   2⎞⎟⎟          ⎜    ⎜  ⎛       2         2⎞⎟⎟⎟      ⎜          ⎜    ⎜  ⎛    \n",
       "A⋅h ⎟⎟⎟          ⎜atan⎜  ⎜535⋅A⋅a    12⋅A⋅h ⎟⎟⎟⎟      ⎜          ⎜atan⎜  ⎜535⋅\n",
       "────⎟⎟⎟          ⎜    ⎜7⋅⎜──────── - ───────⎟⎟⎟⎟      ⎜          ⎜    ⎜7⋅⎜────\n",
       "7   ⎠⎠⎟          ⎜    ⎝  ⎝   56         7   ⎠⎠⎟⎟      ⎜          ⎜    ⎝  ⎝   5\n",
       "──────⎟   3⋅h⋅   ⎜────────────────────────────⎟⎟      ⎜  15⋅a⋅   ⎜────────────\n",
       "      ⎠          ⎝             2              ⎠⎟      ⎜          ⎝            \n",
       "                                               ⎟      ⎜                       \n",
       "              cos                              ⎟      ⎜       sin             \n",
       "─────── + ─────────────────────────────────────⎟ + a₂⋅⎜- ─────────────────────\n",
       "                            7                  ⎠      ⎝                    28 \n",
       "\n",
       "2⋅A⋅a⋅h        ⎞⎞          ⎛    ⎛       2⋅A⋅a⋅h        ⎞⎞⎞      ⎛          ⎛  \n",
       "───────────────⎟⎟          ⎜    ⎜──────────────────────⎟⎟⎟      ⎜          ⎜  \n",
       "   2         2⎞⎟⎟          ⎜    ⎜  ⎛       2         2⎞⎟⎟⎟      ⎜          ⎜  \n",
       "A⋅a    12⋅A⋅h ⎟⎟⎟          ⎜atan⎜  ⎜535⋅A⋅a    12⋅A⋅h ⎟⎟⎟⎟      ⎜          ⎜at\n",
       "──── - ───────⎟⎟⎟          ⎜    ⎜7⋅⎜──────── - ───────⎟⎟⎟⎟      ⎜          ⎜  \n",
       "6         7   ⎠⎠⎟          ⎜    ⎝  ⎝   56         7   ⎠⎠⎟⎟      ⎜          ⎜  \n",
       "────────────────⎟   3⋅h⋅   ⎜────────────────────────────⎟⎟      ⎜  43⋅a⋅   ⎜──\n",
       " 2              ⎠          ⎝             2              ⎠⎟      ⎜          ⎝  \n",
       "                                                         ⎟      ⎜             \n",
       "                        cos                              ⎟      ⎜       sin   \n",
       "───────────────── + ─────────────────────────────────────⎟ + a₃⋅⎜- ───────────\n",
       "                                      7                  ⎠      ⎝             \n",
       "\n",
       "  ⎛       2⋅A⋅a⋅h        ⎞⎞          ⎛    ⎛       2⋅A⋅a⋅h        ⎞⎞⎞      ⎛   \n",
       "  ⎜──────────────────────⎟⎟          ⎜    ⎜──────────────────────⎟⎟⎟      ⎜   \n",
       "  ⎜  ⎛       2         2⎞⎟⎟          ⎜    ⎜  ⎛       2         2⎞⎟⎟⎟      ⎜   \n",
       "an⎜  ⎜535⋅A⋅a    12⋅A⋅h ⎟⎟⎟          ⎜atan⎜  ⎜535⋅A⋅a    12⋅A⋅h ⎟⎟⎟⎟      ⎜   \n",
       "  ⎜7⋅⎜──────── - ───────⎟⎟⎟          ⎜    ⎜7⋅⎜──────── - ───────⎟⎟⎟⎟      ⎜   \n",
       "  ⎝  ⎝   56         7   ⎠⎠⎟          ⎜    ⎝  ⎝   56         7   ⎠⎠⎟⎟      ⎜   \n",
       "──────────────────────────⎟   3⋅h⋅   ⎜────────────────────────────⎟⎟      ⎜  4\n",
       "           2              ⎠          ⎝             2              ⎠⎟      ⎜   \n",
       "                                                                   ⎟      ⎜   \n",
       "                                  cos                              ⎟      ⎜   \n",
       "─────────────────────────── + ─────────────────────────────────────⎟ + a₄⋅⎜- ─\n",
       "       28                                       7                  ⎠      ⎝   \n",
       "\n",
       "       ⎛    ⎛       2⋅A⋅a⋅h        ⎞⎞          ⎛    ⎛       2⋅A⋅a⋅h        ⎞⎞⎞\n",
       "       ⎜    ⎜──────────────────────⎟⎟          ⎜    ⎜──────────────────────⎟⎟⎟\n",
       "       ⎜    ⎜  ⎛       2         2⎞⎟⎟          ⎜    ⎜  ⎛       2         2⎞⎟⎟⎟\n",
       "       ⎜atan⎜  ⎜535⋅A⋅a    12⋅A⋅h ⎟⎟⎟          ⎜atan⎜  ⎜535⋅A⋅a    12⋅A⋅h ⎟⎟⎟⎟\n",
       "       ⎜    ⎜7⋅⎜──────── - ───────⎟⎟⎟          ⎜    ⎜7⋅⎜──────── - ───────⎟⎟⎟⎟\n",
       "       ⎜    ⎝  ⎝   56         7   ⎠⎠⎟          ⎜    ⎝  ⎝   56         7   ⎠⎠⎟⎟\n",
       "3⋅a⋅   ⎜────────────────────────────⎟   4⋅h⋅   ⎜────────────────────────────⎟⎟\n",
       "       ⎝             2              ⎠          ⎝             2              ⎠⎟\n",
       "                                                                             ⎟\n",
       "    sin                                     cos                              ⎟\n",
       "───────────────────────────────────── - ─────────────────────────────────────⎟\n",
       "                 28                                       7                  ⎠\n",
       "\n",
       "      ⎛       ⎛    ⎛       2⋅A⋅a⋅h        ⎞⎞          ⎛    ⎛       2⋅A⋅a⋅h    \n",
       "      ⎜       ⎜    ⎜──────────────────────⎟⎟          ⎜    ⎜──────────────────\n",
       "      ⎜       ⎜    ⎜  ⎛       2         2⎞⎟⎟          ⎜    ⎜  ⎛       2       \n",
       "      ⎜       ⎜atan⎜  ⎜535⋅A⋅a    12⋅A⋅h ⎟⎟⎟          ⎜atan⎜  ⎜535⋅A⋅a    12⋅A\n",
       "      ⎜       ⎜    ⎜7⋅⎜──────── - ───────⎟⎟⎟          ⎜    ⎜7⋅⎜──────── - ────\n",
       "      ⎜       ⎜    ⎝  ⎝   56         7   ⎠⎠⎟          ⎜    ⎝  ⎝   56         7\n",
       "      ⎜3⋅a⋅   ⎜────────────────────────────⎟   4⋅h⋅   ⎜───────────────────────\n",
       "      ⎜       ⎝             2              ⎠          ⎝             2         \n",
       "      ⎜                                                                       \n",
       "      ⎜    sin                                     cos                        \n",
       " + a₅⋅⎜───────────────────────────────────── - ───────────────────────────────\n",
       "      ⎝                  14                                      7            \n",
       "\n",
       "    ⎞⎞⎞      ⎛        ⎛    ⎛       2⋅A⋅a⋅h        ⎞⎞          ⎛    ⎛       2⋅A\n",
       "────⎟⎟⎟      ⎜        ⎜    ⎜──────────────────────⎟⎟          ⎜    ⎜──────────\n",
       "  2⎞⎟⎟⎟      ⎜        ⎜    ⎜  ⎛       2         2⎞⎟⎟          ⎜    ⎜  ⎛       \n",
       "⋅h ⎟⎟⎟⎟      ⎜        ⎜atan⎜  ⎜535⋅A⋅a    12⋅A⋅h ⎟⎟⎟          ⎜atan⎜  ⎜535⋅A⋅a\n",
       "───⎟⎟⎟⎟      ⎜        ⎜    ⎜7⋅⎜──────── - ───────⎟⎟⎟          ⎜    ⎜7⋅⎜───────\n",
       "   ⎠⎠⎟⎟      ⎜        ⎜    ⎝  ⎝   56         7   ⎠⎠⎟          ⎜    ⎝  ⎝   56  \n",
       "─────⎟⎟      ⎜41⋅a⋅   ⎜────────────────────────────⎟   4⋅h⋅   ⎜───────────────\n",
       "     ⎠⎟      ⎜        ⎝             2              ⎠          ⎝             2 \n",
       "      ⎟      ⎜                                                                \n",
       "      ⎟      ⎜     sin                                     cos                \n",
       "──────⎟ + a₆⋅⎜────────────────────────────────────── - ───────────────────────\n",
       "      ⎠      ⎝                  28                                       7    \n",
       "\n",
       "⋅a⋅h        ⎞⎞⎞     ⎛        ⎛    ⎛       2⋅A⋅a⋅h        ⎞⎞          ⎛    ⎛   \n",
       "────────────⎟⎟⎟     ⎜        ⎜    ⎜──────────────────────⎟⎟          ⎜    ⎜───\n",
       "2         2⎞⎟⎟⎟     ⎜        ⎜    ⎜  ⎛       2         2⎞⎟⎟          ⎜    ⎜  ⎛\n",
       "    12⋅A⋅h ⎟⎟⎟⎟     ⎜        ⎜atan⎜  ⎜535⋅A⋅a    12⋅A⋅h ⎟⎟⎟          ⎜atan⎜  ⎜\n",
       "─ - ───────⎟⎟⎟⎟     ⎜        ⎜    ⎜7⋅⎜──────── - ───────⎟⎟⎟          ⎜    ⎜7⋅⎜\n",
       "       7   ⎠⎠⎟⎟     ⎜        ⎜    ⎝  ⎝   56         7   ⎠⎠⎟          ⎜    ⎝  ⎝\n",
       "─────────────⎟⎟     ⎜41⋅a⋅   ⎜────────────────────────────⎟   3⋅h⋅   ⎜────────\n",
       "             ⎠⎟     ⎜        ⎝             2              ⎠          ⎝        \n",
       "              ⎟     ⎜                                                         \n",
       "              ⎟     ⎜     cos                                     sin         \n",
       "──────────────⎟, a₀⋅⎜────────────────────────────────────── - ────────────────\n",
       "              ⎠     ⎝                  28                                     \n",
       "\n",
       "    2⋅A⋅a⋅h        ⎞⎞⎞      ⎛        ⎛    ⎛       2⋅A⋅a⋅h        ⎞⎞          ⎛\n",
       "───────────────────⎟⎟⎟      ⎜        ⎜    ⎜──────────────────────⎟⎟          ⎜\n",
       "       2         2⎞⎟⎟⎟      ⎜        ⎜    ⎜  ⎛       2         2⎞⎟⎟          ⎜\n",
       "535⋅A⋅a    12⋅A⋅h ⎟⎟⎟⎟      ⎜        ⎜atan⎜  ⎜535⋅A⋅a    12⋅A⋅h ⎟⎟⎟          ⎜\n",
       "──────── - ───────⎟⎟⎟⎟      ⎜        ⎜    ⎜7⋅⎜──────── - ───────⎟⎟⎟          ⎜\n",
       "   56         7   ⎠⎠⎟⎟      ⎜        ⎜    ⎝  ⎝   56         7   ⎠⎠⎟          ⎜\n",
       "────────────────────⎟⎟      ⎜13⋅a⋅   ⎜────────────────────────────⎟   3⋅h⋅   ⎜\n",
       "     2              ⎠⎟      ⎜        ⎝             2              ⎠          ⎝\n",
       "                     ⎟      ⎜                                                 \n",
       "                     ⎟      ⎜     cos                                     sin \n",
       "─────────────────────⎟ + a₁⋅⎜────────────────────────────────────── - ────────\n",
       "  7                  ⎠      ⎝                  28                             \n",
       "\n",
       "    ⎛       2⋅A⋅a⋅h        ⎞⎞⎞      ⎛          ⎛    ⎛       2⋅A⋅a⋅h        ⎞⎞ \n",
       "    ⎜──────────────────────⎟⎟⎟      ⎜          ⎜    ⎜──────────────────────⎟⎟ \n",
       "    ⎜  ⎛       2         2⎞⎟⎟⎟      ⎜          ⎜    ⎜  ⎛       2         2⎞⎟⎟ \n",
       "atan⎜  ⎜535⋅A⋅a    12⋅A⋅h ⎟⎟⎟⎟      ⎜          ⎜atan⎜  ⎜535⋅A⋅a    12⋅A⋅h ⎟⎟⎟ \n",
       "    ⎜7⋅⎜──────── - ───────⎟⎟⎟⎟      ⎜          ⎜    ⎜7⋅⎜──────── - ───────⎟⎟⎟ \n",
       "    ⎝  ⎝   56         7   ⎠⎠⎟⎟      ⎜          ⎜    ⎝  ⎝   56         7   ⎠⎠⎟ \n",
       "────────────────────────────⎟⎟      ⎜  15⋅a⋅   ⎜────────────────────────────⎟ \n",
       "             2              ⎠⎟      ⎜          ⎝             2              ⎠ \n",
       "                             ⎟      ⎜                                         \n",
       "                             ⎟      ⎜       cos                               \n",
       "─────────────────────────────⎟ + a₂⋅⎜- ────────────────────────────────────── \n",
       "          7                  ⎠      ⎝                    28                   \n",
       "\n",
       "         ⎛    ⎛       2⋅A⋅a⋅h        ⎞⎞⎞      ⎛          ⎛    ⎛       2⋅A⋅a⋅h \n",
       "         ⎜    ⎜──────────────────────⎟⎟⎟      ⎜          ⎜    ⎜───────────────\n",
       "         ⎜    ⎜  ⎛       2         2⎞⎟⎟⎟      ⎜          ⎜    ⎜  ⎛       2    \n",
       "         ⎜atan⎜  ⎜535⋅A⋅a    12⋅A⋅h ⎟⎟⎟⎟      ⎜          ⎜atan⎜  ⎜535⋅A⋅a    1\n",
       "         ⎜    ⎜7⋅⎜──────── - ───────⎟⎟⎟⎟      ⎜          ⎜    ⎜7⋅⎜──────── - ─\n",
       "         ⎜    ⎝  ⎝   56         7   ⎠⎠⎟⎟      ⎜          ⎜    ⎝  ⎝   56       \n",
       "  3⋅h⋅   ⎜────────────────────────────⎟⎟      ⎜  43⋅a⋅   ⎜────────────────────\n",
       "         ⎝             2              ⎠⎟      ⎜          ⎝             2      \n",
       "                                       ⎟      ⎜                               \n",
       "      sin                              ⎟      ⎜       cos                     \n",
       "- ─────────────────────────────────────⎟ + a₃⋅⎜- ─────────────────────────────\n",
       "                    7                  ⎠      ⎝                    28         \n",
       "\n",
       "       ⎞⎞          ⎛    ⎛       2⋅A⋅a⋅h        ⎞⎞⎞      ⎛          ⎛    ⎛     \n",
       "───────⎟⎟          ⎜    ⎜──────────────────────⎟⎟⎟      ⎜          ⎜    ⎜─────\n",
       "     2⎞⎟⎟          ⎜    ⎜  ⎛       2         2⎞⎟⎟⎟      ⎜          ⎜    ⎜  ⎛  \n",
       "2⋅A⋅h ⎟⎟⎟          ⎜atan⎜  ⎜535⋅A⋅a    12⋅A⋅h ⎟⎟⎟⎟      ⎜          ⎜atan⎜  ⎜53\n",
       "──────⎟⎟⎟          ⎜    ⎜7⋅⎜──────── - ───────⎟⎟⎟⎟      ⎜          ⎜    ⎜7⋅⎜──\n",
       "  7   ⎠⎠⎟          ⎜    ⎝  ⎝   56         7   ⎠⎠⎟⎟      ⎜          ⎜    ⎝  ⎝  \n",
       "────────⎟   3⋅h⋅   ⎜────────────────────────────⎟⎟      ⎜  43⋅a⋅   ⎜──────────\n",
       "        ⎠          ⎝             2              ⎠⎟      ⎜          ⎝          \n",
       "                                                 ⎟      ⎜                     \n",
       "                sin                              ⎟      ⎜       cos           \n",
       "───────── - ─────────────────────────────────────⎟ + a₄⋅⎜- ───────────────────\n",
       "                              7                  ⎠      ⎝                    2\n",
       "\n",
       "  2⋅A⋅a⋅h        ⎞⎞          ⎛    ⎛       2⋅A⋅a⋅h        ⎞⎞⎞      ⎛       ⎛   \n",
       "─────────────────⎟⎟          ⎜    ⎜──────────────────────⎟⎟⎟      ⎜       ⎜   \n",
       "     2         2⎞⎟⎟          ⎜    ⎜  ⎛       2         2⎞⎟⎟⎟      ⎜       ⎜   \n",
       "5⋅A⋅a    12⋅A⋅h ⎟⎟⎟          ⎜atan⎜  ⎜535⋅A⋅a    12⋅A⋅h ⎟⎟⎟⎟      ⎜       ⎜ata\n",
       "────── - ───────⎟⎟⎟          ⎜    ⎜7⋅⎜──────── - ───────⎟⎟⎟⎟      ⎜       ⎜   \n",
       " 56         7   ⎠⎠⎟          ⎜    ⎝  ⎝   56         7   ⎠⎠⎟⎟      ⎜       ⎜   \n",
       "──────────────────⎟   4⋅h⋅   ⎜────────────────────────────⎟⎟      ⎜3⋅a⋅   ⎜───\n",
       "   2              ⎠          ⎝             2              ⎠⎟      ⎜       ⎝   \n",
       "                                                           ⎟      ⎜           \n",
       "                          sin                              ⎟      ⎜    cos    \n",
       "─────────────────── + ─────────────────────────────────────⎟ + a₅⋅⎜───────────\n",
       "8                                       7                  ⎠      ⎝           \n",
       "\n",
       " ⎛       2⋅A⋅a⋅h        ⎞⎞          ⎛    ⎛       2⋅A⋅a⋅h        ⎞⎞⎞      ⎛    \n",
       " ⎜──────────────────────⎟⎟          ⎜    ⎜──────────────────────⎟⎟⎟      ⎜    \n",
       " ⎜  ⎛       2         2⎞⎟⎟          ⎜    ⎜  ⎛       2         2⎞⎟⎟⎟      ⎜    \n",
       "n⎜  ⎜535⋅A⋅a    12⋅A⋅h ⎟⎟⎟          ⎜atan⎜  ⎜535⋅A⋅a    12⋅A⋅h ⎟⎟⎟⎟      ⎜    \n",
       " ⎜7⋅⎜──────── - ───────⎟⎟⎟          ⎜    ⎜7⋅⎜──────── - ───────⎟⎟⎟⎟      ⎜    \n",
       " ⎝  ⎝   56         7   ⎠⎠⎟          ⎜    ⎝  ⎝   56         7   ⎠⎠⎟⎟      ⎜    \n",
       "─────────────────────────⎟   4⋅h⋅   ⎜────────────────────────────⎟⎟      ⎜41⋅a\n",
       "          2              ⎠          ⎝             2              ⎠⎟      ⎜    \n",
       "                                                                  ⎟      ⎜    \n",
       "                                 sin                              ⎟      ⎜    \n",
       "────────────────────────── + ─────────────────────────────────────⎟ + a₆⋅⎜────\n",
       "       14                                      7                  ⎠      ⎝    \n",
       "\n",
       "    ⎛    ⎛       2⋅A⋅a⋅h        ⎞⎞          ⎛    ⎛       2⋅A⋅a⋅h        ⎞⎞⎞⎤\n",
       "    ⎜    ⎜──────────────────────⎟⎟          ⎜    ⎜──────────────────────⎟⎟⎟⎥\n",
       "    ⎜    ⎜  ⎛       2         2⎞⎟⎟          ⎜    ⎜  ⎛       2         2⎞⎟⎟⎟⎥\n",
       "    ⎜atan⎜  ⎜535⋅A⋅a    12⋅A⋅h ⎟⎟⎟          ⎜atan⎜  ⎜535⋅A⋅a    12⋅A⋅h ⎟⎟⎟⎟⎥\n",
       "    ⎜    ⎜7⋅⎜──────── - ───────⎟⎟⎟          ⎜    ⎜7⋅⎜──────── - ───────⎟⎟⎟⎟⎥\n",
       "    ⎜    ⎝  ⎝   56         7   ⎠⎠⎟          ⎜    ⎝  ⎝   56         7   ⎠⎠⎟⎟⎥\n",
       "⋅   ⎜────────────────────────────⎟   4⋅h⋅   ⎜────────────────────────────⎟⎟⎥\n",
       "    ⎝             2              ⎠          ⎝             2              ⎠⎟⎥\n",
       "                                                                          ⎟⎥\n",
       " cos                                     sin                              ⎟⎥\n",
       "────────────────────────────────── + ─────────────────────────────────────⎟⎥\n",
       "              28                                       7                  ⎠⎦"
      ]
     },
     "execution_count": 17,
     "metadata": {},
     "output_type": "execute_result"
    }
   ],
   "source": [
    "S1.expr"
   ]
  },
  {
   "cell_type": "code",
   "execution_count": 18,
   "metadata": {
    "collapsed": false
   },
   "outputs": [
    {
     "data": {
      "image/png": "[encoded data removed]",
      "text/latex": [
       "$$\\left \\{ a_{0} : a_{2} + 2 a_{3} - \\frac{7 a_{5}}{4} - 3 a_{6}, \\quad a_{1} : - 2 a_{2} - 3 a_{3} + \\frac{7 a_{5}}{4} + 3 a_{6}, \\quad a_{4} : - a_{5} - a_{6}\\right \\}$$"
      ],
      "text/plain": [
       "⎧                7⋅a₅                            7⋅a₅                     ⎫\n",
       "⎨a₀: a₂ + 2⋅a₃ - ──── - 3⋅a₆, a₁: -2⋅a₂ - 3⋅a₃ + ──── + 3⋅a₆, a₄: -a₅ - a₆⎬\n",
       "⎩                 4                               4                       ⎭"
      ]
     },
     "execution_count": 18,
     "metadata": {},
     "output_type": "execute_result"
    }
   ],
   "source": [
    "S1.sol1"
   ]
  },
  {
   "cell_type": "code",
   "execution_count": 19,
   "metadata": {
    "collapsed": false
   },
   "outputs": [],
   "source": [
    "#S1.sol2"
   ]
  },
  {
   "cell_type": "code",
   "execution_count": 20,
   "metadata": {
    "collapsed": false
   },
   "outputs": [
    {
     "data": {
      "image/png": "[encoded data removed]",
      "text/latex": [
       "$$\\left [ \\left [ \\left ( a_{2}, \\quad 1\\right ), \\quad \\left ( a_{3}, \\quad 0\\right ), \\quad \\left ( a_{5}, \\quad 0\\right ), \\quad \\left ( a_{6}, \\quad 0\\right )\\right ], \\quad \\left [ \\left ( a_{2}, \\quad 0\\right ), \\quad \\left ( a_{3}, \\quad 1\\right ), \\quad \\left ( a_{5}, \\quad 0\\right ), \\quad \\left ( a_{6}, \\quad 0\\right )\\right ], \\quad \\left [ \\left ( a_{2}, \\quad 0\\right ), \\quad \\left ( a_{3}, \\quad 0\\right ), \\quad \\left ( a_{5}, \\quad 1\\right ), \\quad \\left ( a_{6}, \\quad 0\\right )\\right ], \\quad \\left [ \\left ( a_{2}, \\quad 0\\right ), \\quad \\left ( a_{3}, \\quad 0\\right ), \\quad \\left ( a_{5}, \\quad 0\\right ), \\quad \\left ( a_{6}, \\quad 1\\right )\\right ]\\right ]$$"
      ],
      "text/plain": [
       "[[(a₂, 1), (a₃, 0), (a₅, 0), (a₆, 0)], [(a₂, 0), (a₃, 1), (a₅, 0), (a₆, 0)], [\n",
       "(a₂, 0), (a₃, 0), (a₅, 1), (a₆, 0)], [(a₂, 0), (a₃, 0), (a₅, 0), (a₆, 1)]]"
      ]
     },
     "execution_count": 20,
     "metadata": {},
     "output_type": "execute_result"
    }
   ],
   "source": [
    "S1.free"
   ]
  },
  {
   "cell_type": "code",
   "execution_count": 21,
   "metadata": {
    "collapsed": false
   },
   "outputs": [
    {
     "data": {
      "image/png": "[encoded data removed]",
      "text/latex": [
       "$$\\left [ \\left [ \\left ( a_{4}, \\quad 0\\right ), \\quad \\left ( a_{0}, \\quad 1\\right ), \\quad \\left ( a_{1}, \\quad -2\\right ), \\quad \\left ( a_{2}, \\quad 1\\right ), \\quad \\left ( a_{3}, \\quad 0\\right ), \\quad \\left ( a_{5}, \\quad 0\\right ), \\quad \\left ( a_{6}, \\quad 0\\right )\\right ], \\quad \\left [ \\left ( a_{4}, \\quad 0\\right ), \\quad \\left ( a_{0}, \\quad 2\\right ), \\quad \\left ( a_{1}, \\quad -3\\right ), \\quad \\left ( a_{2}, \\quad 0\\right ), \\quad \\left ( a_{3}, \\quad 1\\right ), \\quad \\left ( a_{5}, \\quad 0\\right ), \\quad \\left ( a_{6}, \\quad 0\\right )\\right ], \\quad \\left [ \\left ( a_{4}, \\quad -1\\right ), \\quad \\left ( a_{0}, \\quad - \\frac{7}{4}\\right ), \\quad \\left ( a_{1}, \\quad \\frac{7}{4}\\right ), \\quad \\left ( a_{2}, \\quad 0\\right ), \\quad \\left ( a_{3}, \\quad 0\\right ), \\quad \\left ( a_{5}, \\quad 1\\right ), \\quad \\left ( a_{6}, \\quad 0\\right )\\right ], \\quad \\left [ \\left ( a_{4}, \\quad -1\\right ), \\quad \\left ( a_{0}, \\quad -3\\right ), \\quad \\left ( a_{1}, \\quad 3\\right ), \\quad \\left ( a_{2}, \\quad 0\\right ), \\quad \\left ( a_{3}, \\quad 0\\right ), \\quad \\left ( a_{5}, \\quad 0\\right ), \\quad \\left ( a_{6}, \\quad 1\\right )\\right ]\\right ]$$"
      ],
      "text/plain": [
       "[[(a₄, 0), (a₀, 1), (a₁, -2), (a₂, 1), (a₃, 0), (a₅, 0), (a₆, 0)], [(a₄, 0), (\n",
       "a₀, 2), (a₁, -3), (a₂, 0), (a₃, 1), (a₅, 0), (a₆, 0)], [(a₄, -1), (a₀, -7/4), \n",
       "(a₁, 7/4), (a₂, 0), (a₃, 0), (a₅, 1), (a₆, 0)], [(a₄, -1), (a₀, -3), (a₁, 3), \n",
       "(a₂, 0), (a₃, 0), (a₅, 0), (a₆, 1)]]"
      ]
     },
     "execution_count": 21,
     "metadata": {},
     "output_type": "execute_result"
    }
   ],
   "source": [
    "S1.sol_list"
   ]
  },
  {
   "cell_type": "code",
   "execution_count": 22,
   "metadata": {
    "collapsed": false
   },
   "outputs": [
    {
     "data": {
      "image/png": "[encoded data removed]",
      "text/latex": [
       "$$\\left[\\begin{matrix}1 & 2 & - \\frac{7}{4} & -3\\\\-2 & -3 & \\frac{7}{4} & 3\\\\1 & 0 & 0 & 0\\\\0 & 1 & 0 & 0\\\\0 & 0 & -1 & -1\\\\0 & 0 & 1 & 0\\\\0 & 0 & 0 & 1\\end{matrix}\\right]$$"
      ],
      "text/plain": [
       "⎡1   2   -7/4  -3⎤\n",
       "⎢                ⎥\n",
       "⎢-2  -3  7/4   3 ⎥\n",
       "⎢                ⎥\n",
       "⎢1   0    0    0 ⎥\n",
       "⎢                ⎥\n",
       "⎢0   1    0    0 ⎥\n",
       "⎢                ⎥\n",
       "⎢0   0    -1   -1⎥\n",
       "⎢                ⎥\n",
       "⎢0   0    1    0 ⎥\n",
       "⎢                ⎥\n",
       "⎣0   0    0    1 ⎦"
      ]
     },
     "execution_count": 22,
     "metadata": {},
     "output_type": "execute_result"
    }
   ],
   "source": [
    "S1.L"
   ]
  },
  {
   "cell_type": "code",
   "execution_count": 23,
   "metadata": {
    "collapsed": false
   },
   "outputs": [
    {
     "data": {
      "image/png": "[encoded data removed]",
      "text/latex": [
       "$$\\left[\\begin{matrix}6 & 8 & - \\frac{21}{4} & -9\\\\8 & 14 & - \\frac{35}{4} & -15\\\\- \\frac{21}{4} & - \\frac{35}{4} & \\frac{65}{8} & \\frac{23}{2}\\\\-9 & -15 & \\frac{23}{2} & 20\\end{matrix}\\right]$$"
      ],
      "text/plain": [
       "⎡  6      8    -21/4   -9 ⎤\n",
       "⎢                         ⎥\n",
       "⎢  8     14    -35/4  -15 ⎥\n",
       "⎢                         ⎥\n",
       "⎢-21/4  -35/4  65/8   23/2⎥\n",
       "⎢                         ⎥\n",
       "⎣ -9     -15   23/2    20 ⎦"
      ]
     },
     "execution_count": 23,
     "metadata": {},
     "output_type": "execute_result"
    }
   ],
   "source": [
    "S1.L.T*S1.L"
   ]
  },
  {
   "cell_type": "code",
   "execution_count": null,
   "metadata": {
    "collapsed": true
   },
   "outputs": [],
   "source": []
  },
  {
   "cell_type": "markdown",
   "metadata": {},
   "source": [
    "# TEST"
   ]
  },
  {
   "cell_type": "code",
   "execution_count": 24,
   "metadata": {
    "collapsed": false
   },
   "outputs": [
    {
     "data": {
      "image/png": "[encoded data removed]",
      "text/latex": [
       "$$\\left ( a_{0}, \\quad a_{1}, \\quad a_{2}\\right )$$"
      ],
      "text/plain": [
       "(a₀, a₁, a₂)"
      ]
     },
     "execution_count": 24,
     "metadata": {},
     "output_type": "execute_result"
    }
   ],
   "source": [
    "#aa = sympy.numbered_symbols('a')\n",
    "aa = sympy.symbols('a0:3')\n",
    "aa"
   ]
  },
  {
   "cell_type": "code",
   "execution_count": 25,
   "metadata": {
    "collapsed": false
   },
   "outputs": [
    {
     "data": {
      "image/png": "[encoded data removed]",
      "text/latex": [
       "$$\\left[\\begin{matrix}2 & 1 & 2 & 0\\\\h & \\frac{h}{2} & - h & 0\\end{matrix}\\right]$$"
      ],
      "text/plain": [
       "⎡2  1  2   0⎤\n",
       "⎢           ⎥\n",
       "⎢   h       ⎥\n",
       "⎢h  ─  -h  0⎥\n",
       "⎣   2       ⎦"
      ]
     },
     "execution_count": 25,
     "metadata": {},
     "output_type": "execute_result"
    }
   ],
   "source": [
    "system = sympy.Matrix(( (2, 1, 2,0), (h, h/2, -h,0)))\n",
    "system"
   ]
  },
  {
   "cell_type": "code",
   "execution_count": 26,
   "metadata": {
    "collapsed": false
   },
   "outputs": [
    {
     "data": {
      "image/png": "[encoded data removed]",
      "text/latex": [
       "$$\\left \\{ a_{0} : - \\frac{a_{1}}{2}, \\quad a_{2} : 0\\right \\}$$"
      ],
      "text/plain": [
       "⎧    -a₁        ⎫\n",
       "⎨a₀: ────, a₂: 0⎬\n",
       "⎩     2         ⎭"
      ]
     },
     "execution_count": 26,
     "metadata": {},
     "output_type": "execute_result"
    }
   ],
   "source": [
    "sympy.solve_linear_system(system, *aa)\n"
   ]
  },
  {
   "cell_type": "code",
   "execution_count": 27,
   "metadata": {
    "collapsed": false
   },
   "outputs": [
    {
     "data": {
      "image/png": "[encoded data removed]",
      "text/latex": [
       "$$\\left [ 2 a_{0} + a_{1} + 2 a_{2}, \\quad a_{0} h + \\frac{a_{1} h}{2} - a_{2} h\\right ]$$"
      ],
      "text/plain": [
       "⎡                         a₁⋅h       ⎤\n",
       "⎢2⋅a₀ + a₁ + 2⋅a₂, a₀⋅h + ──── - a₂⋅h⎥\n",
       "⎣                          2         ⎦"
      ]
     },
     "execution_count": 27,
     "metadata": {},
     "output_type": "execute_result"
    }
   ],
   "source": [
    "L = []\n",
    "L.append([aa[0],aa[2],aa[2],aa[0],aa[1]])\n",
    "L.append([ aa[0]*h/2,aa[2]*(-h/2),aa[2]*(-h/2),aa[0]*h/2,aa[1]*h/2  ])\n",
    "expr = [sum(Li) for Li in L ]\n",
    "expr"
   ]
  },
  {
   "cell_type": "code",
   "execution_count": 28,
   "metadata": {
    "collapsed": false
   },
   "outputs": [
    {
     "data": {
      "image/png": "[encoded data removed]",
      "text/latex": [
       "$$\\left[\\begin{matrix}2 & 1 & 2 & 0\\\\h & \\frac{h}{2} & - h & 0\\end{matrix}\\right]$$"
      ],
      "text/plain": [
       "⎡2  1  2   0⎤\n",
       "⎢           ⎥\n",
       "⎢   h       ⎥\n",
       "⎢h  ─  -h  0⎥\n",
       "⎣   2       ⎦"
      ]
     },
     "execution_count": 28,
     "metadata": {},
     "output_type": "execute_result"
    }
   ],
   "source": [
    "system1=sympy.zeros(len(aa)+1,2)\n",
    "for k in range(2):\n",
    "    dd = sympy.poly(expr[k],aa)\n",
    "    system1[0:len(aa),k] = dd.coeffs()\n",
    "system1.T"
   ]
  },
  {
   "cell_type": "code",
   "execution_count": 29,
   "metadata": {
    "collapsed": false
   },
   "outputs": [
    {
     "data": {
      "image/png": "[encoded data removed]",
      "text/latex": [
       "$$\\left \\{ a_{0} : - \\frac{a_{1}}{2}, \\quad a_{2} : 0\\right \\}$$"
      ],
      "text/plain": [
       "⎧    -a₁        ⎫\n",
       "⎨a₀: ────, a₂: 0⎬\n",
       "⎩     2         ⎭"
      ]
     },
     "execution_count": 29,
     "metadata": {},
     "output_type": "execute_result"
    }
   ],
   "source": [
    "sol = sympy.solve_linear_system(system1.T, *aa)\n",
    "sol"
   ]
  },
  {
   "cell_type": "code",
   "execution_count": 30,
   "metadata": {
    "collapsed": false
   },
   "outputs": [
    {
     "data": {
      "image/png": "[encoded data removed]",
      "text/latex": [
       "$$\\left [ a_{1}\\right ]$$"
      ],
      "text/plain": [
       "[a₁]"
      ]
     },
     "execution_count": 30,
     "metadata": {},
     "output_type": "execute_result"
    }
   ],
   "source": [
    "#set(aa)-set(sol)\n",
    "[ai for ai in aa if ai not in sol]"
   ]
  },
  {
   "cell_type": "code",
   "execution_count": 31,
   "metadata": {
    "collapsed": false
   },
   "outputs": [
    {
     "data": {
      "image/png": "[encoded data removed]",
      "text/latex": [
       "$$\\left [ \\left ( a_{0}, \\quad - \\frac{1}{2}\\right ), \\quad \\left ( a_{2}, \\quad 0\\right ), \\quad \\left ( a_{1}, \\quad 1\\right )\\right ]$$"
      ],
      "text/plain": [
       "[(a₀, -1/2), (a₂, 0), (a₁, 1)]"
      ]
     },
     "execution_count": 31,
     "metadata": {},
     "output_type": "execute_result"
    }
   ],
   "source": [
    "lsol = [(ai,sol[ai].subs(aa[1],1)) for ai in sol]\n",
    "lsol.append((aa[1],1))\n",
    "lsol"
   ]
  },
  {
   "cell_type": "code",
   "execution_count": 32,
   "metadata": {
    "collapsed": false
   },
   "outputs": [
    {
     "data": {
      "image/png": "[encoded data removed]",
      "text/latex": [
       "$$\\left[\\begin{matrix}- \\frac{1}{2}\\\\0\\\\0\\\\- \\frac{1}{2}\\\\1\\end{matrix}\\right]$$"
      ],
      "text/plain": [
       "⎡-1/2⎤\n",
       "⎢    ⎥\n",
       "⎢ 0  ⎥\n",
       "⎢    ⎥\n",
       "⎢ 0  ⎥\n",
       "⎢    ⎥\n",
       "⎢-1/2⎥\n",
       "⎢    ⎥\n",
       "⎣ 1  ⎦"
      ]
     },
     "execution_count": 32,
     "metadata": {},
     "output_type": "execute_result"
    }
   ],
   "source": [
    "Lf = sympy.Matrix([Li.subs(lsol) for Li in L[0]])\n",
    "Lf"
   ]
  },
  {
   "cell_type": "code",
   "execution_count": 33,
   "metadata": {
    "collapsed": false
   },
   "outputs": [
    {
     "data": {
      "image/png": "[encoded data removed]",
      "text/latex": [
       "$$\\left[\\begin{matrix}\\frac{1}{2}\\\\0\\\\0\\\\\\frac{1}{2}\\\\0\\end{matrix}\\right]$$"
      ],
      "text/plain": [
       "⎡1/2⎤\n",
       "⎢   ⎥\n",
       "⎢ 0 ⎥\n",
       "⎢   ⎥\n",
       "⎢ 0 ⎥\n",
       "⎢   ⎥\n",
       "⎢1/2⎥\n",
       "⎢   ⎥\n",
       "⎣ 0 ⎦"
      ]
     },
     "execution_count": 33,
     "metadata": {},
     "output_type": "execute_result"
    }
   ],
   "source": [
    "T = -Lf\n",
    "T[-1] = 0\n",
    "T"
   ]
  },
  {
   "cell_type": "code",
   "execution_count": 34,
   "metadata": {
    "collapsed": false
   },
   "outputs": [
    {
     "data": {
      "image/png": "[encoded data removed]",
      "text/latex": [
       "$$\\left[\\begin{matrix}1 & 0 & 0 & 0 & -1\\\\-1 & 1 & 0 & 0 & 0\\\\0 & -1 & 1 & 0 & 0\\\\0 & 0 & -1 & 1 & 0\\\\a h & a h & a h & \\frac{a h}{2} & \\frac{a h}{2}\\end{matrix}\\right]$$"
      ],
      "text/plain": [
       "⎡ 1    0    0    0   -1 ⎤\n",
       "⎢                       ⎥\n",
       "⎢-1    1    0    0    0 ⎥\n",
       "⎢                       ⎥\n",
       "⎢ 0   -1    1    0    0 ⎥\n",
       "⎢                       ⎥\n",
       "⎢ 0    0   -1    1    0 ⎥\n",
       "⎢                       ⎥\n",
       "⎢               a⋅h  a⋅h⎥\n",
       "⎢a⋅h  a⋅h  a⋅h  ───  ───⎥\n",
       "⎣                2    2 ⎦"
      ]
     },
     "execution_count": 34,
     "metadata": {},
     "output_type": "execute_result"
    }
   ],
   "source": [
    "A = sympy.Matrix([[1,0,0,0,-1],[-1,1,0,0,0],[0,-1,1,0,0],[0,0,-1,1,0],[a*h,a*h,a*h,a*h/2,a*h/2]])\n",
    "A"
   ]
  },
  {
   "cell_type": "code",
   "execution_count": 35,
   "metadata": {
    "collapsed": false
   },
   "outputs": [
    {
     "data": {
      "image/png": "[encoded data removed]",
      "text/latex": [
       "$$\\left[\\begin{matrix}0\\\\0\\\\0\\\\\\frac{1}{2}\\\\- \\frac{1}{2}\\end{matrix}\\right]$$"
      ],
      "text/plain": [
       "⎡ 0  ⎤\n",
       "⎢    ⎥\n",
       "⎢ 0  ⎥\n",
       "⎢    ⎥\n",
       "⎢ 0  ⎥\n",
       "⎢    ⎥\n",
       "⎢1/2 ⎥\n",
       "⎢    ⎥\n",
       "⎣-1/2⎦"
      ]
     },
     "execution_count": 35,
     "metadata": {},
     "output_type": "execute_result"
    }
   ],
   "source": [
    "Hf = A.LUsolve(T)\n",
    "Hf"
   ]
  },
  {
   "cell_type": "code",
   "execution_count": null,
   "metadata": {
    "collapsed": true
   },
   "outputs": [],
   "source": []
  }
 ],
 "metadata": {
  "kernelspec": {
   "display_name": "Python 3",
   "language": "python",
   "name": "python3"
  },
  "language_info": {
   "codemirror_mode": {
    "name": "ipython",
    "version": 3
   },
   "file_extension": ".py",
   "mimetype": "text/x-python",
   "name": "python",
   "nbconvert_exporter": "python",
   "pygments_lexer": "ipython3",
   "version": "3.5.1"
  }
 },
 "nbformat": 4,
 "nbformat_minor": 0
}
