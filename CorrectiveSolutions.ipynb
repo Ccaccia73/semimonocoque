{
 "cells": [
  {
   "cell_type": "markdown",
   "metadata": {},
   "source": [
    "# Semi-Monocoque Theory: corrective solutions"
   ]
  },
  {
   "cell_type": "code",
   "execution_count": 1,
   "metadata": {
    "collapsed": false
   },
   "outputs": [],
   "source": [
    "from pint import UnitRegistry\n",
    "import sympy\n",
    "import networkx as nx\n",
    "import numpy as np\n",
    "import matplotlib.pyplot as plt\n",
    "import sys\n",
    "%matplotlib inline\n",
    "from IPython.display import display"
   ]
  },
  {
   "cell_type": "markdown",
   "metadata": {},
   "source": [
    "Import **Section** class, which contains all calculations"
   ]
  },
  {
   "cell_type": "code",
   "execution_count": 2,
   "metadata": {
    "collapsed": false
   },
   "outputs": [],
   "source": [
    "sys.path.append('./')\n",
    "from Section import Section"
   ]
  },
  {
   "cell_type": "markdown",
   "metadata": {},
   "source": [
    "Initialization of **sympy** symbolic tool and **pint** for dimension analysis (not really implemented rn as not directly compatible with sympy)"
   ]
  },
  {
   "cell_type": "code",
   "execution_count": 3,
   "metadata": {
    "collapsed": false
   },
   "outputs": [],
   "source": [
    "ureg = UnitRegistry()\n",
    "sympy.init_printing()"
   ]
  },
  {
   "cell_type": "markdown",
   "metadata": {},
   "source": [
    "Define **sympy** parameters used for geometric description of sections"
   ]
  },
  {
   "cell_type": "code",
   "execution_count": 4,
   "metadata": {
    "collapsed": false
   },
   "outputs": [],
   "source": [
    "A, A0, t, t0, a, b, h, L, E, G = sympy.symbols('A A_0 t t_0 a b h L E G', positive=True)"
   ]
  },
  {
   "cell_type": "markdown",
   "metadata": {},
   "source": [
    "We also define numerical values for each **symbol** in order to plot scaled section and perform calculations"
   ]
  },
  {
   "cell_type": "code",
   "execution_count": 5,
   "metadata": {
    "collapsed": false
   },
   "outputs": [],
   "source": [
    "values = [(A, 150 * ureg.millimeter**2),(A0, 250  * ureg.millimeter**2),(a, 80 * ureg.millimeter), \\\n",
    "          (b, 20 * ureg.millimeter),(h, 35 * ureg.millimeter),(L, 2000 * ureg.millimeter)]\n",
    "datav = [(v[0],v[1].magnitude) for v in values]"
   ]
  },
  {
   "cell_type": "markdown",
   "metadata": {
    "collapsed": false
   },
   "source": [
    "# First example: Simple rectangular symmetric section"
   ]
  },
  {
   "cell_type": "markdown",
   "metadata": {},
   "source": [
    "Define graph describing the section:\n",
    "\n",
    "1) **stringers** are **nodes** with parameters:\n",
    "- **x** coordinate\n",
    "- **y** coordinate\n",
    "- **Area**\n",
    "\n",
    "2) **panels** are **oriented edges** with parameters:\n",
    "- **thickness**\n",
    "- **lenght** which is automatically calculated"
   ]
  },
  {
   "cell_type": "code",
   "execution_count": 6,
   "metadata": {
    "collapsed": false
   },
   "outputs": [],
   "source": [
    "stringers = {1:[(sympy.Integer(0),h),A],\n",
    "             2:[(sympy.Integer(0),sympy.Integer(0)),A],\n",
    "             3:[(2*a,sympy.Integer(0)),A],\n",
    "             4:[(2*a,h),A],\n",
    "             5:[(a,h),A]}\n",
    "             #5:[(sympy.Rational(1,2)*a,h),A]}\n",
    "\n",
    "panels = {(1,2):t,\n",
    "          (2,3):t,\n",
    "          (3,4):t,\n",
    "          (4,5):t,\n",
    "          (5,1):t}"
   ]
  },
  {
   "cell_type": "markdown",
   "metadata": {},
   "source": [
    "Define section and perform first calculations"
   ]
  },
  {
   "cell_type": "code",
   "execution_count": 7,
   "metadata": {
    "collapsed": false
   },
   "outputs": [
    {
     "name": "stdout",
     "output_type": "stream",
     "text": [
      "Nodes False for X !\n",
      "compute SC \n"
     ]
    }
   ],
   "source": [
    "S1 = Section(stringers, panels)"
   ]
  },
  {
   "cell_type": "code",
   "execution_count": 8,
   "metadata": {
    "collapsed": false
   },
   "outputs": [
    {
     "data": {
      "image/png": "[encoded data removed]",
      "text/latex": [
       "$$\\left [ \\left [ 2, \\quad 3, \\quad 4, \\quad 5, \\quad 1, \\quad 2\\right ]\\right ]$$"
      ],
      "text/plain": [
       "[[2, 3, 4, 5, 1, 2]]"
      ]
     },
     "execution_count": 8,
     "metadata": {},
     "output_type": "execute_result"
    }
   ],
   "source": [
    "S1.cycles"
   ]
  },
  {
   "cell_type": "markdown",
   "metadata": {
    "collapsed": false
   },
   "source": [
    "## Plot of **S1** section in original reference frame"
   ]
  },
  {
   "cell_type": "markdown",
   "metadata": {},
   "source": [
    "Define a dictionary of coordinates used by **Networkx** to plot section as a Directed graph.\n",
    "Note that arrows are actually just thicker stubs"
   ]
  },
  {
   "cell_type": "code",
   "execution_count": 9,
   "metadata": {
    "collapsed": true
   },
   "outputs": [],
   "source": [
    "start_pos={ii: [float(S1.g.node[ii]['ip'][i].subs(datav)) for i in range(2)] for ii in S1.g.nodes() }"
   ]
  },
  {
   "cell_type": "code",
   "execution_count": 10,
   "metadata": {
    "collapsed": false
   },
   "outputs": [
    {
     "data": {
      "image/png": "[encoded data removed]",
      "text/plain": [
       "<matplotlib.figure.Figure at 0x7fc818d32d68>"
      ]
     },
     "metadata": {},
     "output_type": "display_data"
    }
   ],
   "source": [
    "plt.figure(figsize=(12,8),dpi=300)\n",
    "nx.draw(S1.g,with_labels=True, arrows= True, pos=start_pos)\n",
    "plt.arrow(0,0,20,0)\n",
    "plt.arrow(0,0,0,20)\n",
    "#plt.text(0,0, 'CG', fontsize=24)\n",
    "plt.axis('equal')\n",
    "plt.title(\"Section in starting reference Frame\",fontsize=16);"
   ]
  },
  {
   "cell_type": "markdown",
   "metadata": {},
   "source": [
    "## Plot of **S1** section in inertial reference Frame"
   ]
  },
  {
   "cell_type": "markdown",
   "metadata": {},
   "source": [
    "Section is plotted wrt **center of gravity** and rotated (if necessary) so that *x* and *y* are principal axes.\n",
    "**Center of Gravity** and **Shear Center** are drawn"
   ]
  },
  {
   "cell_type": "code",
   "execution_count": 11,
   "metadata": {
    "collapsed": true
   },
   "outputs": [],
   "source": [
    "positions={ii: [float(S1.g.node[ii]['pos'][i].subs(datav)) for i in range(2)] for ii in S1.g.nodes() }"
   ]
  },
  {
   "cell_type": "code",
   "execution_count": 12,
   "metadata": {
    "collapsed": false
   },
   "outputs": [
    {
     "data": {
      "image/png": "[encoded data removed]",
      "text/plain": [
       "<matplotlib.figure.Figure at 0x7fc818d40d68>"
      ]
     },
     "metadata": {},
     "output_type": "display_data"
    }
   ],
   "source": [
    "x_ct, y_ct = S1.ct.subs(datav)\n",
    "\n",
    "plt.figure(figsize=(12,8),dpi=300)\n",
    "nx.draw(S1.g,with_labels=True, pos=positions)\n",
    "plt.plot([0],[0],'o',ms=12,label='CG')\n",
    "plt.plot([x_ct],[y_ct],'^',ms=12, label='SC')\n",
    "#plt.text(0,0, 'CG', fontsize=24)\n",
    "#plt.text(x_ct,y_ct, 'SC', fontsize=24)\n",
    "plt.legend(loc='lower right', shadow=True)\n",
    "plt.axis('equal')\n",
    "plt.title(\"Section in pricipal reference Frame\",fontsize=16);"
   ]
  },
  {
   "cell_type": "code",
   "execution_count": 13,
   "metadata": {
    "collapsed": false
   },
   "outputs": [
    {
     "data": {
      "text/plain": [
       "[{'edges': [((1, 2), (3, 4)), (2, 3), ((4, 5), (5, 1))],\n",
       "  'nodes': [(1, 4), (2, 3), (5, 5)]},\n",
       " {'edges': [], 'nodes': []}]"
      ]
     },
     "execution_count": 13,
     "metadata": {},
     "output_type": "execute_result"
    }
   ],
   "source": [
    "S1.symmetry"
   ]
  },
  {
   "cell_type": "code",
   "execution_count": 14,
   "metadata": {
    "collapsed": false
   },
   "outputs": [],
   "source": [
    "S1.compute_L()"
   ]
  },
  {
   "cell_type": "code",
   "execution_count": 15,
   "metadata": {
    "collapsed": false
   },
   "outputs": [
    {
     "data": {
      "image/png": "[encoded data removed]",
      "text/latex": [
       "$$\\left[\\begin{matrix}a_{1} & a_{0}\\\\a_{3} & a_{2}\\\\a_{3} & - a_{2}\\\\a_{1} & - a_{0}\\\\a_{4} & 0\\end{matrix}\\right]$$"
      ],
      "text/plain": [
       "⎡a₁  a₀ ⎤\n",
       "⎢       ⎥\n",
       "⎢a₃  a₂ ⎥\n",
       "⎢       ⎥\n",
       "⎢a₃  -a₂⎥\n",
       "⎢       ⎥\n",
       "⎢a₁  -a₀⎥\n",
       "⎢       ⎥\n",
       "⎣a₄   0 ⎦"
      ]
     },
     "execution_count": 15,
     "metadata": {},
     "output_type": "execute_result"
    }
   ],
   "source": [
    "S1.val"
   ]
  },
  {
   "cell_type": "code",
   "execution_count": 16,
   "metadata": {
    "collapsed": false
   },
   "outputs": [
    {
     "data": {
      "image/png": "[encoded data removed]",
      "text/latex": [
       "$$\\left [ 2 a_{1} + 2 a_{3} + a_{4}, \\quad \\frac{4 a_{1}}{5} h - \\frac{6 a_{3}}{5} h + \\frac{2 a_{4}}{5} h, \\quad - 2 a a_{0} - 2 a a_{2}\\right ]$$"
      ],
      "text/plain": [
       "⎡                  4⋅a₁⋅h   6⋅a₃⋅h   2⋅a₄⋅h                  ⎤\n",
       "⎢2⋅a₁ + 2⋅a₃ + a₄, ────── - ────── + ──────, -2⋅a⋅a₀ - 2⋅a⋅a₂⎥\n",
       "⎣                    5        5        5                     ⎦"
      ]
     },
     "execution_count": 16,
     "metadata": {},
     "output_type": "execute_result"
    }
   ],
   "source": [
    "S1.expr"
   ]
  },
  {
   "cell_type": "code",
   "execution_count": 17,
   "metadata": {
    "collapsed": false
   },
   "outputs": [
    {
     "data": {
      "image/png": "[encoded data removed]",
      "text/latex": [
       "$$\\left[\\begin{matrix}2 & 2 & 1 & 0\\\\\\frac{4 h}{5} & - \\frac{6 h}{5} & \\frac{2 h}{5} & 0\\end{matrix}\\right]$$"
      ],
      "text/plain": [
       "⎡ 2     2     1   0⎤\n",
       "⎢                  ⎥\n",
       "⎢4⋅h  -6⋅h   2⋅h   ⎥\n",
       "⎢───  ─────  ───  0⎥\n",
       "⎣ 5     5     5    ⎦"
      ]
     },
     "execution_count": 17,
     "metadata": {},
     "output_type": "execute_result"
    }
   ],
   "source": [
    "S1.system1.T"
   ]
  },
  {
   "cell_type": "code",
   "execution_count": 18,
   "metadata": {
    "collapsed": false
   },
   "outputs": [],
   "source": [
    "#S1.system2.T"
   ]
  },
  {
   "cell_type": "code",
   "execution_count": 19,
   "metadata": {
    "collapsed": false
   },
   "outputs": [
    {
     "data": {
      "image/png": "[encoded data removed]",
      "text/latex": [
       "$$\\left \\{ a_{1} : - \\frac{a_{4}}{2}, \\quad a_{3} : 0\\right \\}$$"
      ],
      "text/plain": [
       "⎧    -a₄        ⎫\n",
       "⎨a₁: ────, a₃: 0⎬\n",
       "⎩     2         ⎭"
      ]
     },
     "execution_count": 19,
     "metadata": {},
     "output_type": "execute_result"
    }
   ],
   "source": [
    "S1.sol1"
   ]
  },
  {
   "cell_type": "code",
   "execution_count": 20,
   "metadata": {
    "collapsed": false
   },
   "outputs": [],
   "source": [
    "#S1.sol2"
   ]
  },
  {
   "cell_type": "code",
   "execution_count": 21,
   "metadata": {
    "collapsed": false
   },
   "outputs": [
    {
     "data": {
      "image/png": "[encoded data removed]",
      "text/latex": [
       "$$\\left [ \\left [ \\left [ \\left ( a_{4}, \\quad 1\\right )\\right ]\\right ], \\quad \\left [ \\left [ \\left ( a_{2}, \\quad 1\\right )\\right ]\\right ]\\right ]$$"
      ],
      "text/plain": [
       "[[[(a₄, 1)]], [[(a₂, 1)]]]"
      ]
     },
     "execution_count": 21,
     "metadata": {},
     "output_type": "execute_result"
    }
   ],
   "source": [
    "S1.free"
   ]
  },
  {
   "cell_type": "code",
   "execution_count": 22,
   "metadata": {
    "collapsed": false
   },
   "outputs": [
    {
     "data": {
      "image/png": "[encoded data removed]",
      "text/latex": [
       "$$\\left [ \\left [ \\left ( a_{3}, \\quad 0\\right ), \\quad \\left ( a_{1}, \\quad - \\frac{1}{2}\\right ), \\quad \\left ( a_{4}, \\quad 1\\right )\\right ]\\right ]$$"
      ],
      "text/plain": [
       "[[(a₃, 0), (a₁, -1/2), (a₄, 1)]]"
      ]
     },
     "execution_count": 22,
     "metadata": {},
     "output_type": "execute_result"
    }
   ],
   "source": [
    "S1.symm_sol_list"
   ]
  },
  {
   "cell_type": "code",
   "execution_count": 23,
   "metadata": {
    "collapsed": false
   },
   "outputs": [
    {
     "data": {
      "image/png": "[encoded data removed]",
      "text/latex": [
       "$$\\left [ \\left [ \\left ( a_{0}, \\quad -1\\right ), \\quad \\left ( a_{2}, \\quad 1\\right )\\right ]\\right ]$$"
      ],
      "text/plain": [
       "[[(a₀, -1), (a₂, 1)]]"
      ]
     },
     "execution_count": 23,
     "metadata": {},
     "output_type": "execute_result"
    }
   ],
   "source": [
    "S1.asym_sol_list"
   ]
  },
  {
   "cell_type": "code",
   "execution_count": 24,
   "metadata": {
    "collapsed": false
   },
   "outputs": [
    {
     "data": {
      "image/png": "[encoded data removed]",
      "text/latex": [
       "$$\\left[\\begin{matrix}- \\frac{1}{2} & -1\\\\0 & 1\\\\0 & -1\\\\- \\frac{1}{2} & 1\\\\1 & 0\\end{matrix}\\right]$$"
      ],
      "text/plain": [
       "⎡-1/2  -1⎤\n",
       "⎢        ⎥\n",
       "⎢ 0    1 ⎥\n",
       "⎢        ⎥\n",
       "⎢ 0    -1⎥\n",
       "⎢        ⎥\n",
       "⎢-1/2  1 ⎥\n",
       "⎢        ⎥\n",
       "⎣ 1    0 ⎦"
      ]
     },
     "execution_count": 24,
     "metadata": {},
     "output_type": "execute_result"
    }
   ],
   "source": [
    "S1.L"
   ]
  },
  {
   "cell_type": "code",
   "execution_count": 25,
   "metadata": {
    "collapsed": false
   },
   "outputs": [],
   "source": [
    "S1.compute_H()"
   ]
  },
  {
   "cell_type": "code",
   "execution_count": 26,
   "metadata": {
    "collapsed": false
   },
   "outputs": [
    {
     "data": {
      "image/png": "[encoded data removed]",
      "text/latex": [
       "$$\\left[\\begin{matrix}0 & \\frac{1}{2}\\\\0 & - \\frac{1}{2}\\\\0 & \\frac{1}{2}\\\\\\frac{1}{2} & - \\frac{1}{2}\\\\- \\frac{1}{2} & - \\frac{1}{2}\\end{matrix}\\right]$$"
      ],
      "text/plain": [
       "⎡ 0    1/2 ⎤\n",
       "⎢          ⎥\n",
       "⎢ 0    -1/2⎥\n",
       "⎢          ⎥\n",
       "⎢ 0    1/2 ⎥\n",
       "⎢          ⎥\n",
       "⎢1/2   -1/2⎥\n",
       "⎢          ⎥\n",
       "⎣-1/2  -1/2⎦"
      ]
     },
     "execution_count": 26,
     "metadata": {},
     "output_type": "execute_result"
    }
   ],
   "source": [
    "S1.H"
   ]
  },
  {
   "cell_type": "code",
   "execution_count": null,
   "metadata": {
    "collapsed": true
   },
   "outputs": [],
   "source": []
  }
 ],
 "metadata": {
  "kernelspec": {
   "display_name": "Python 3",
   "language": "python",
   "name": "python3"
  },
  "language_info": {
   "codemirror_mode": {
    "name": "ipython",
    "version": 3
   },
   "file_extension": ".py",
   "mimetype": "text/x-python",
   "name": "python",
   "nbconvert_exporter": "python",
   "pygments_lexer": "ipython3",
   "version": "3.5.1"
  }
 },
 "nbformat": 4,
 "nbformat_minor": 0
}
