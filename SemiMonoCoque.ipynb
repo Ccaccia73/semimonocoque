{
 "cells": [
  {
   "cell_type": "markdown",
   "metadata": {},
   "source": [
    "# Section"
   ]
  },
  {
   "cell_type": "code",
   "execution_count": 1,
   "metadata": {
    "collapsed": false
   },
   "outputs": [],
   "source": [
    "from pint import UnitRegistry\n",
    "import sympy\n",
    "import networkx as nx\n",
    "import numpy as np\n",
    "import matplotlib.pyplot as plt\n",
    "import sys\n",
    "%matplotlib inline\n",
    "from IPython.display import display"
   ]
  },
  {
   "cell_type": "code",
   "execution_count": 2,
   "metadata": {
    "collapsed": false
   },
   "outputs": [],
   "source": [
    "sys.path.append('./')\n",
    "from Section import Section"
   ]
  },
  {
   "cell_type": "markdown",
   "metadata": {},
   "source": [
    "initialization"
   ]
  },
  {
   "cell_type": "code",
   "execution_count": 3,
   "metadata": {
    "collapsed": false
   },
   "outputs": [],
   "source": [
    "ureg = UnitRegistry()\n",
    "sympy.init_printing()"
   ]
  },
  {
   "cell_type": "code",
   "execution_count": null,
   "metadata": {
    "collapsed": false
   },
   "outputs": [],
   "source": []
  },
  {
   "cell_type": "markdown",
   "metadata": {},
   "source": [
    "Define sympy parameters"
   ]
  },
  {
   "cell_type": "code",
   "execution_count": 4,
   "metadata": {
    "collapsed": true
   },
   "outputs": [],
   "source": [
    "A, A0, t, t0, a, b, h, L = sympy.symbols('A A_0 t t_0 a b h L')"
   ]
  },
  {
   "cell_type": "markdown",
   "metadata": {},
   "source": [
    "define graph"
   ]
  },
  {
   "cell_type": "code",
   "execution_count": 5,
   "metadata": {
    "collapsed": true
   },
   "outputs": [],
   "source": [
    "stringers = {1:[(sympy.Integer(0),h),A],\n",
    "             2:[(a/2,h),A0],\n",
    "             3:[(a,h),A],\n",
    "             4:[(a-b,sympy.Integer(0)),A],\n",
    "             5:[(b,sympy.Integer(0)),A]}\n",
    "\n",
    "panels = {(1,2):t,\n",
    "          (2,3):t,\n",
    "          (3,4):t,\n",
    "          (4,5):t,\n",
    "          (5,1):t}"
   ]
  },
  {
   "cell_type": "code",
   "execution_count": 6,
   "metadata": {
    "collapsed": false
   },
   "outputs": [],
   "source": [
    "S1 = Section(stringers, panels)"
   ]
  },
  {
   "cell_type": "code",
   "execution_count": 7,
   "metadata": {
    "collapsed": false
   },
   "outputs": [
    {
     "data": {
      "text/plain": [
       "[{'edges': [((1, 2), (2, 3)), ((1, 5), (3, 4)), (4, 5)],\n",
       "  'nodes': [(1, 3), (2, 2), (4, 5)]},\n",
       " {'edges': [], 'nodes': []}]"
      ]
     },
     "execution_count": 7,
     "metadata": {},
     "output_type": "execute_result"
    }
   ],
   "source": [
    "S1.symmetry"
   ]
  },
  {
   "cell_type": "code",
   "execution_count": 8,
   "metadata": {
    "collapsed": false
   },
   "outputs": [],
   "source": [
    "values = [(A, 150 * ureg.millimeter**2),(A0, 250  * ureg.millimeter**2),(a, 80 * ureg.millimeter), \\\n",
    "          (b, 20 * ureg.millimeter),(h, 200 * ureg.millimeter),(L, 2000 * ureg.millimeter)]\n",
    "datav = [(v[0],v[1].magnitude) for v in values]"
   ]
  },
  {
   "cell_type": "code",
   "execution_count": null,
   "metadata": {
    "collapsed": false
   },
   "outputs": [],
   "source": []
  },
  {
   "cell_type": "code",
   "execution_count": 9,
   "metadata": {
    "collapsed": false
   },
   "outputs": [],
   "source": [
    "positions={ii: S1.g.node[ii]['pos'].subs(datav) for ii in S1.g.nodes() }"
   ]
  },
  {
   "cell_type": "code",
   "execution_count": 30,
   "metadata": {
    "collapsed": false
   },
   "outputs": [
    {
     "data": {
      "image/png": "[encoded data removed]",
      "text/plain": [
       "<matplotlib.figure.Figure at 0x7fada023d860>"
      ]
     },
     "metadata": {},
     "output_type": "display_data"
    }
   ],
   "source": [
    "plt.figure(figsize=(16,10),dpi=300)\n",
    "nx.draw(S1.g,with_labels=True, pos=positions)\n",
    "plt.plot([0],[0],'o',ms=12)\n",
    "plt.text(0,0, 'CG', fontsize=24);"
   ]
  },
  {
   "cell_type": "code",
   "execution_count": 20,
   "metadata": {
    "collapsed": false
   },
   "outputs": [
    {
     "data": {
      "image/png": "[encoded data removed]",
      "text/latex": [
       "$$\\left[\\begin{matrix}\\frac{a}{2}\\\\\\frac{h \\left(2 A + A_{0}\\right)}{4 A + A_{0}}\\end{matrix}\\right]$$"
      ],
      "text/plain": [
       "⎡     a      ⎤\n",
       "⎢     ─      ⎥\n",
       "⎢     2      ⎥\n",
       "⎢            ⎥\n",
       "⎢h⋅(2⋅A + A₀)⎥\n",
       "⎢────────────⎥\n",
       "⎣  4⋅A + A₀  ⎦"
      ]
     },
     "execution_count": 20,
     "metadata": {},
     "output_type": "execute_result"
    }
   ],
   "source": [
    "S1.cg"
   ]
  },
  {
   "cell_type": "code",
   "execution_count": 19,
   "metadata": {
    "collapsed": false
   },
   "outputs": [
    {
     "data": {
      "image/png": "[encoded data removed]",
      "text/latex": [
       "$$\\left[\\begin{matrix}20\\\\- \\frac{2200}{17}\\end{matrix}\\right]$$"
      ],
      "text/plain": [
       "⎡  20  ⎤\n",
       "⎢      ⎥\n",
       "⎢-2200 ⎥\n",
       "⎢──────⎥\n",
       "⎣  17  ⎦"
      ]
     },
     "execution_count": 19,
     "metadata": {},
     "output_type": "execute_result"
    }
   ],
   "source": [
    "S1.g.node[4]['pos'].subs(datav)"
   ]
  },
  {
   "cell_type": "code",
   "execution_count": null,
   "metadata": {
    "collapsed": true
   },
   "outputs": [],
   "source": []
  }
 ],
 "metadata": {
  "kernelspec": {
   "display_name": "Python 3",
   "language": "python",
   "name": "python3"
  },
  "language_info": {
   "codemirror_mode": {
    "name": "ipython",
    "version": 3
   },
   "file_extension": ".py",
   "mimetype": "text/x-python",
   "name": "python",
   "nbconvert_exporter": "python",
   "pygments_lexer": "ipython3",
   "version": "3.5.1"
  }
 },
 "nbformat": 4,
 "nbformat_minor": 0
}
