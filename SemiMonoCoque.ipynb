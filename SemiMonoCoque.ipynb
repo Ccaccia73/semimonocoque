{
 "cells": [
  {
   "cell_type": "markdown",
   "metadata": {},
   "source": [
    "# Section"
   ]
  },
  {
   "cell_type": "code",
   "execution_count": null,
   "metadata": {
    "collapsed": false
   },
   "outputs": [],
   "source": [
    "from pint import UnitRegistry\n",
    "import sympy\n",
    "import networkx as nx\n",
    "import numpy as np\n",
    "import matplotlib.pyplot as plt\n",
    "import sys\n",
    "%matplotlib inline\n",
    "from IPython.display import display"
   ]
  },
  {
   "cell_type": "code",
   "execution_count": null,
   "metadata": {
    "collapsed": false
   },
   "outputs": [],
   "source": [
    "sys.path.append('./')\n",
    "from Section import Section"
   ]
  },
  {
   "cell_type": "markdown",
   "metadata": {},
   "source": [
    "initialization"
   ]
  },
  {
   "cell_type": "code",
   "execution_count": null,
   "metadata": {
    "collapsed": false
   },
   "outputs": [],
   "source": [
    "ureg = UnitRegistry()\n",
    "sympy.init_printing()"
   ]
  },
  {
   "cell_type": "code",
   "execution_count": null,
   "metadata": {
    "collapsed": false
   },
   "outputs": [],
   "source": []
  },
  {
   "cell_type": "markdown",
   "metadata": {},
   "source": [
    "Define sympy parameters"
   ]
  },
  {
   "cell_type": "code",
   "execution_count": null,
   "metadata": {
    "collapsed": true
   },
   "outputs": [],
   "source": [
    "A, A0, t, t0, a, b, h, L = sympy.symbols('A A_0 t t_0 a b h L')"
   ]
  },
  {
   "cell_type": "markdown",
   "metadata": {},
   "source": [
    "define graph"
   ]
  },
  {
   "cell_type": "code",
   "execution_count": null,
   "metadata": {
    "collapsed": true
   },
   "outputs": [],
   "source": [
    "stringers = {1:[(sympy.Integer(0),h),A],\n",
    "             2:[(a/2,h),A0],\n",
    "             3:[(a,h),A],\n",
    "             4:[(a-b,sympy.Integer(0)),A],\n",
    "             5:[(b,sympy.Integer(0)),A]}\n",
    "\n",
    "panels = {(1,2):t,\n",
    "          (2,3):t,\n",
    "          (3,4):t,\n",
    "          (4,5):t,\n",
    "          (5,1):t}"
   ]
  },
  {
   "cell_type": "code",
   "execution_count": null,
   "metadata": {
    "collapsed": false
   },
   "outputs": [],
   "source": [
    "S1 = Section(stringers, panels)"
   ]
  },
  {
   "cell_type": "code",
   "execution_count": null,
   "metadata": {
    "collapsed": false
   },
   "outputs": [],
   "source": [
    "S1.symmetry"
   ]
  },
  {
   "cell_type": "code",
   "execution_count": null,
   "metadata": {
    "collapsed": false
   },
   "outputs": [],
   "source": [
    "values = [(A, 150 * ureg.millimeter**2),(A0, 250  * ureg.millimeter**2),(a, 80 * ureg.millimeter), \\\n",
    "          (b, 20 * ureg.millimeter),(h, 75 * ureg.millimeter),(L, 2000 * ureg.millimeter)]\n",
    "datav = [(v[0],v[1].magnitude) for v in values]"
   ]
  },
  {
   "cell_type": "code",
   "execution_count": null,
   "metadata": {
    "collapsed": false
   },
   "outputs": [],
   "source": [
    "start_pos={ii: [S1.g.node[ii]['ip'][i].subs(datav) for i in range(2)] for ii in S1.g.nodes() }"
   ]
  },
  {
   "cell_type": "code",
   "execution_count": null,
   "metadata": {
    "collapsed": false
   },
   "outputs": [],
   "source": [
    "plt.figure(figsize=(12,8),dpi=300)\n",
    "nx.draw(S1.g,with_labels=True, pos=start_pos)\n",
    "plt.arrow(0,0,20,0)\n",
    "plt.arrow(0,0,0,20)\n",
    "#plt.text(0,0, 'CG', fontsize=24)\n",
    "plt.axis('equal')\n",
    "plt.title(\"Section in starting reference Frame\",fontsize=16);"
   ]
  },
  {
   "cell_type": "code",
   "execution_count": null,
   "metadata": {
    "collapsed": false
   },
   "outputs": [],
   "source": [
    "positions={ii: S1.g.node[ii]['pos'].subs(datav) for ii in S1.g.nodes() }"
   ]
  },
  {
   "cell_type": "code",
   "execution_count": null,
   "metadata": {
    "collapsed": false
   },
   "outputs": [],
   "source": [
    "plt.figure(figsize=(12,8),dpi=300)\n",
    "nx.draw(S1.g,with_labels=True, pos=positions)\n",
    "plt.plot([0],[0],'o',ms=12)\n",
    "plt.text(0,0, 'CG', fontsize=24)\n",
    "plt.axis('equal')\n",
    "plt.title(\"Section in pricipal reference Frame\",fontsize=16);"
   ]
  },
  {
   "cell_type": "markdown",
   "metadata": {
    "collapsed": true
   },
   "source": [
    "## Compute axial loads in Stringers"
   ]
  },
  {
   "cell_type": "markdown",
   "metadata": {},
   "source": [
    "We first define some symbols:"
   ]
  },
  {
   "cell_type": "code",
   "execution_count": null,
   "metadata": {
    "collapsed": true
   },
   "outputs": [],
   "source": [
    "Tx, Ty, Nz, Mx, My, Mz, F, ry, ry, mz = sympy.symbols('T_x T_y N_z M_x M_y M_z F r_y r_x m_z')"
   ]
  },
  {
   "cell_type": "code",
   "execution_count": null,
   "metadata": {
    "collapsed": false
   },
   "outputs": [],
   "source": [
    "S1.set_loads(Tx, Ty, Nz, Mx, My, Mz)"
   ]
  },
  {
   "cell_type": "code",
   "execution_count": null,
   "metadata": {
    "collapsed": false
   },
   "outputs": [],
   "source": [
    "S1.compute_stringer_actions()"
   ]
  },
  {
   "cell_type": "code",
   "execution_count": null,
   "metadata": {
    "collapsed": false
   },
   "outputs": [],
   "source": [
    "S1.N"
   ]
  },
  {
   "cell_type": "code",
   "execution_count": null,
   "metadata": {
    "collapsed": true
   },
   "outputs": [],
   "source": []
  }
 ],
 "metadata": {
  "kernelspec": {
   "display_name": "Python 3",
   "language": "python",
   "name": "python3"
  },
  "language_info": {
   "codemirror_mode": {
    "name": "ipython",
    "version": 3
   },
   "file_extension": ".py",
   "mimetype": "text/x-python",
   "name": "python",
   "nbconvert_exporter": "python",
   "pygments_lexer": "ipython3",
   "version": "3.5.1"
  }
 },
 "nbformat": 4,
 "nbformat_minor": 0
}
